{
 "cells": [
  {
   "cell_type": "markdown",
   "metadata": {},
   "source": [
    "# Social Media, Bots and APIs\n",
    "\n",
    "## Sentiment Analysis\n",
    "\n",
    "### Disclaimer\n",
    "\n",
    "* This notebook uses raw data collected from Twitter, which means you have to be prepared for the following:\n",
    "  * Despite running this data through a profanity filter, it may still contain themes or language that is not school appropriate\n",
    "  * Some tweets may address current events that you may be uncomfortable with (in particular, the COVID-19 pandemic)\n",
    "\n",
    "* Our job as data scientists is to try to view this data through an academic lens whenever possible, but you have two options if you are not comfortable with this assignment:\n",
    "    * Option 1: You can choose not to view the raw Twitter data (you can just analyze it in the aggregate)\n",
    "    * Option 2: You can contact your teacher for an alternate assignment\n",
    "\n",
    "### Ethical Bot Usage\n",
    "\n",
    "* The instructions you saw in the previous YouTube videos allow you to create an automated Twitter Bot\n",
    "* While optional, we encourage you to experiment and try this out for yourself!\n",
    "* But please remember the following guidelines:\n",
    "\n",
    "  * Ethical guidelines for Bot creators:\n",
    "    * Inform users that your account is a bot (do not impersonate a real person) \n",
    "    * Inform users who controls your bot \n",
    "    * Inform users who can access the data your bot collects\n",
    "    * A bot should never be created for the purpose of harming its users (theft, fraud, harassment, spam, etc)\n",
    "  \n",
    "  * Fremd High School community guidelines: \n",
    "    * Any tweets you send will be public (visible to your teachers, parents, classmates, and the community)\n",
    "    * You are representing Fremd High School with any tweets you send\n",
    "    * Profanity, harassment, spamming, or any other misbehavior will immediately result in a discipline referral\n",
    "  \n",
    "  * Anti-spam guidelines (even if you spam by accident):\n",
    "      * Do not send _numerous_ unsolicited tweets to the same account\n",
    "      * Do not try to send the same tweet out over and over again\n",
    "      * Do not tweet more than once per minute \n",
    "      * To avoid accidental spamming, use [_import time_](https://pythonspot.com/sleep/) and _time.sleep(60)_ in any loops that send tweets \n",
    "\n",
    "Now that this is done, let's learn about sentiment analysis:"
   ]
  },
  {
   "cell_type": "markdown",
   "metadata": {},
   "source": [
    "### Unstructured Data and Sentiment Analysis\n",
    "\n",
    "Last chapter, you learned about structured, semi-structured, and unstructured data. Structured data from a database or semi-structured data from an XML file are easy to process in an automated fashion. However, most data in the world is unstructured. Twitter is a potential goldmine of data, but not all tweets follow the same structure. \n",
    "\n",
    "For example, suppose you are a brand manager for Doritos chips. Your boss asks you to determine whether customers have a positive or negative perception of a new product, _Doritos Blaze Chips_. If you had a large team of employees, you could have the employees add every Tweet they could find about the chips to a spreadsheet while another team of employees rates the Tweets as \"positive,\" \"negative,\" or \"neutral.\" This process is called **sentiment analysis**.  \n",
    "\n",
    "While using a great deal of human labor would be an effective way to complete this task, it is very resource intensive. It would be much more efficent to have a computer find and process these tweets automatically. But since this data is unstructured, we can't analyze it as easily as we could in previous activities (such as the XML notebook or the Open Data Project). For many decades, computer scientists didn't make much progress with programs that could perform sentiment analysis.\n",
    "\n",
    "But in the past decade or so, computer scientists have made great strides with **sentiment analysis** using the tools of **natural language processing** and **machine learning**. \n",
    "\n",
    "Let's start with some manual processing using human labor. You'll have to provide the labor:"
   ]
  },
  {
   "cell_type": "markdown",
   "metadata": {},
   "source": [
    "**Question \\#1:** Read the following tweet and classify it as \"positive,\" \"negative,\" or \"neutral.\" Briefly explain your reasoning (you should specifically discuss words/phrases/themes that led you to your conclusion). \n",
    "\n",
    "_\"Doritos Blaze chips are the grossest chips I've ever eaten. They are so bad that I thought I was eating rancid croutons.\"_"
   ]
  },
  {
   "cell_type": "markdown",
   "metadata": {},
   "source": [
    "**Your Answer:** Negative: They sad words like gross/ bad/ rancid\n"
   ]
  },
  {
   "cell_type": "markdown",
   "metadata": {},
   "source": [
    "**Question \\#2:** Read the following tweet and classify it as \"positive,\" \"negative,\" or \"neutral.\" Briefly explain your reasoning (you should specifically discuss words/phrases/themes that led you to your conclusion).  \n",
    "\n",
    "_\"I love Doritos Blaze chips! Move over Cool Ranch, this is the tastiest flavor yet. Yum!\"_"
   ]
  },
  {
   "cell_type": "markdown",
   "metadata": {},
   "source": [
    "**Your Answer:**\n",
    "\n",
    "Positive: Uses words like love, tastiest, and yum"
   ]
  },
  {
   "cell_type": "markdown",
   "metadata": {},
   "source": [
    "**Question \\#3:** Read the following tweet and classify it as \"positive,\" \"negative,\" or \"neutral.\" Briefly explain your reasoning (you should specifically discuss words/phrases/themes that led you to your conclusion).   \n",
    "\n",
    "_\"Doritos Blaze chips are being sold for $2.99 at Mariano's (545 N Hicks Rd, Palatine, IL)\"_\n"
   ]
  },
  {
   "cell_type": "markdown",
   "metadata": {},
   "source": [
    "**Your Answer:**\n",
    "\n",
    "Neutral: Uses a neutral word set for the sentance"
   ]
  },
  {
   "cell_type": "markdown",
   "metadata": {},
   "source": [
    "### Using *Textblob* for Sentiment Analysis\n",
    "\n",
    "After processing only three tweets, you are probably already getting the sense that this is tedious work to do by hand. Instead, we're going to use a Python module named [textblob](http://textblob.readthedocs.io/en/dev/quickstart.html) to perform our sentiment analysis. This module is user-friendly for programmers who are experimenting with sentiment analysis for the first time. Let's look at the same three tweets from above:"
   ]
  },
  {
   "cell_type": "code",
   "execution_count": 1,
   "metadata": {},
   "outputs": [
    {
     "data": {
      "text/plain": [
       "-0.6999999999999998"
      ]
     },
     "execution_count": 1,
     "metadata": {},
     "output_type": "execute_result"
    }
   ],
   "source": [
    "from textblob import TextBlob\n",
    "\n",
    "tweet1 = \"Doritos Blaze chips are the grossest chips I've ever eaten. They are so bad that I thought I was eating rancid croutons.\"\n",
    "\n",
    "\n",
    "tbobject1 = TextBlob(tweet1)\n",
    "\n",
    "tbobject1.sentiment.polarity"
   ]
  },
  {
   "cell_type": "markdown",
   "metadata": {},
   "source": [
    "This value of -0.6999999999999998 is the polarity of the tweet. This value can range from -1.0 to 1.0, with 0 being neutral. In this case, -0.6999999999999998 indicates a tweet with a very negative sentiment. \n",
    "\n",
    "Now let's try another tweet from above:"
   ]
  },
  {
   "cell_type": "code",
   "execution_count": 2,
   "metadata": {},
   "outputs": [
    {
     "data": {
      "text/plain": [
       "0.53125"
      ]
     },
     "execution_count": 2,
     "metadata": {},
     "output_type": "execute_result"
    }
   ],
   "source": [
    "tweet2 = \"I love Doritos Blaze chips! Move over Cool Ranch, this is the tastiest flavor yet. Yum!\"\n",
    "\n",
    "tbobject2 = TextBlob(tweet2)\n",
    "\n",
    "tbobject2.sentiment.polarity"
   ]
  },
  {
   "cell_type": "markdown",
   "metadata": {},
   "source": [
    "A polarity of 0.53125 indicates that this tweet is positive.\n",
    "\n",
    "Now you try:"
   ]
  },
  {
   "cell_type": "markdown",
   "metadata": {},
   "source": [
    "**Question \\#4:** Is the tweet below positive, negative, or neutral? Perform a sentiment analysis in the cell below that supports your answer. \n",
    "\n",
    "_\"Doritos Blaze chips are being sold for $2.99 at Mariano's (545 N Hicks Rd, Palatine, IL)\"_"
   ]
  },
  {
   "cell_type": "markdown",
   "metadata": {},
   "source": [
    "**Your Answer:**"
   ]
  },
  {
   "cell_type": "code",
   "execution_count": 3,
   "metadata": {},
   "outputs": [
    {
     "data": {
      "text/plain": [
       "0.0"
      ]
     },
     "execution_count": 3,
     "metadata": {},
     "output_type": "execute_result"
    }
   ],
   "source": [
    "# Your code here\n",
    "from textblob import TextBlob\n",
    "\n",
    "tweet3 = \"Doritos Blaze chips are being sold for $2.99 at Mariano's (545 N Hicks Rd, Palatine, IL)\"\n",
    "\n",
    "\n",
    "tbobject3 = TextBlob(tweet3)\n",
    "\n",
    "tbobject3.sentiment.polarity\n"
   ]
  },
  {
   "cell_type": "markdown",
   "metadata": {},
   "source": [
    "### Testing Out Sentiment Analysis"
   ]
  },
  {
   "cell_type": "markdown",
   "metadata": {},
   "source": [
    "Our main focus of this notebook will be to perform a sentiment analysis on tweets we have collected, but first let's test out our sentiment analysis on a famous poem just to get an idea of whether this Python module can produce a classification that agrees with your own. The poem we are going to analyze is _Still I Rise_ by Maya Angelou. \n",
    "\n",
    "**Task \\#1:** Run the code below, and then add a line of code that prints out the full text of this poem."
   ]
  },
  {
   "cell_type": "code",
   "execution_count": 4,
   "metadata": {},
   "outputs": [
    {
     "name": "stdout",
     "output_type": "stream",
     "text": [
      "﻿Still I Rise\n",
      "By Maya Angelou\n",
      "\n",
      "You may write me down in history\n",
      "With your bitter, twisted lies,\n",
      "You may trod me in the very dirt\n",
      "But still, like dust, I'll rise.\n",
      "\n",
      "Does my sassiness upset you?\n",
      "Why are you beset with gloom?\n",
      "’Cause I walk like I've got oil wells\n",
      "Pumping in my living room.\n",
      "\n",
      "Just like moons and like suns,\n",
      "With the certainty of tides,\n",
      "Just like hopes springing high,\n",
      "Still I'll rise.\n",
      "\n",
      "Did you want to see me broken?\n",
      "Bowed head and lowered eyes?\n",
      "Shoulders falling down like teardrops,\n",
      "Weakened by my soulful cries?\n",
      "\n",
      "Does my haughtiness offend you?\n",
      "Don't you take it awful hard\n",
      "’Cause I laugh like I've got gold mines\n",
      "Diggin’ in my own backyard.\n",
      "\n",
      "You may shoot me with your words,\n",
      "You may cut me with your eyes,\n",
      "You may kill me with your hatefulness,\n",
      "But still, like air, I’ll rise.\n",
      "\n",
      "Does my sexiness upset you?\n",
      "Does it come as a surprise\n",
      "That I dance like I've got diamonds\n",
      "At the meeting of my thighs?\n",
      "\n",
      "Out of the huts of history’s shame\n",
      "I rise\n",
      "Up from a past that’s rooted in pain\n",
      "I rise\n",
      "I'm a black ocean, leaping and wide,\n",
      "Welling and swelling I bear in the tide.\n",
      "\n",
      "Leaving behind nights of terror and fear\n",
      "I rise\n",
      "Into a daybreak that’s wondrously clear\n",
      "I rise\n",
      "Bringing the gifts that my ancestors gave,\n",
      "I am the dream and the hope of the slave.\n",
      "I rise\n",
      "I rise\n",
      "I rise.\n"
     ]
    }
   ],
   "source": [
    "file1 = open(\"rise.txt\", \"r\", encoding=\"utf-8\")\n",
    "\n",
    "full_text = file1.read()\n",
    "\n",
    "print(full_text)"
   ]
  },
  {
   "cell_type": "markdown",
   "metadata": {},
   "source": [
    "Poetry is complicated, human emotions are complicated, the history behind Maya Angelou's iconic poem is complicated. It is a bit unrealistic to expect to learn very much about this poem by simply labeling its sentiment as \"Positive,\" \"Neutral,\" or \"Negative.\" But for the sake of this example, you are being asked to do so anyway: \n",
    "\n",
    "**Question \\#5:** Classify the sentiment in this poem as \"Positive,\" \"Neutral,\" or \"Negative.\" There is no right or wrong answer here, but you do have to justify your reasoning just like you would in your English class (you can't just write a single word for your answer)."
   ]
  },
  {
   "cell_type": "markdown",
   "metadata": {},
   "source": [
    "**Your Answer:** I think it is neutral, as it has both positive words within it and negative words, and they both balance out."
   ]
  },
  {
   "cell_type": "markdown",
   "metadata": {},
   "source": [
    "Note: If you would like to learn more about Maya Angelou or this poem, here's a source you might enjoy reading: https://www.biography.com/news/maya-angelou-still-i-rise\n",
    "\n",
    "Let's compare your classification to a sentiment analysis performed by TextBlob: \n",
    "\n",
    "**Task \\#2:** Write code in the cell below that performs a sentiment analysis on _full\\_text_ (a variable that contains the text of Maya Angelou's poem)."
   ]
  },
  {
   "cell_type": "code",
   "execution_count": 5,
   "metadata": {},
   "outputs": [
    {
     "data": {
      "text/plain": [
       "-0.13486928104575163"
      ]
     },
     "execution_count": 5,
     "metadata": {},
     "output_type": "execute_result"
    }
   ],
   "source": [
    "# Your code here\n",
    "from textblob import TextBlob\n",
    "\n",
    "poem = full_text\n",
    "\n",
    "\n",
    "tbobject4 = TextBlob(poem)\n",
    "\n",
    "tbobject4.sentiment.polarity\n",
    "\n"
   ]
  },
  {
   "cell_type": "markdown",
   "metadata": {},
   "source": [
    "**Question \\#6:** Does your sentiment analysis agree or disagree with the analysis performed by TextBlob? How can you tell?\n",
    "\n",
    "_If you and TextBlob disagree, explain why your interpretation of the poem might have been different than the sentiment analysis performed by TextBlob. If your analyses agree, explain why it makes sense that both analyses produced the same result._"
   ]
  },
  {
   "cell_type": "markdown",
   "metadata": {},
   "source": [
    "**Your Answer:** We disagreed, but only a little bit. I think this is because me a the tectBlob have diffrent values of words with their connotations, and the negative words had more meanign the textBlob code."
   ]
  },
  {
   "cell_type": "markdown",
   "metadata": {},
   "source": [
    "### An Abstraction for Classifying Tweets"
   ]
  },
  {
   "cell_type": "markdown",
   "metadata": {},
   "source": [
    "The Maya Angelou example helps to illustrate some of the risks of sentiment analysis. Out of context, the majority of the words in the poem convey a negative sentiment. Yet the poem's final two stanzas change the entire poem with what some consider to be one of the strongest messages of hope and empowerment in all of American poetry. \n",
    "\n",
    "This gives us the perfect backdrop for introducing how we will use sentiment analysis on data from Twitter. If we only perform a sentiment analysis on a single sample of text (one poem, one tweet, etc), then there is a small but significant chance that the classifcation will be incorrect. But if we perform a sentiment analysis on thousands or even millions of tweets, then we expect that **(on average)** our analysis is likely to have produced meaningful results. \n",
    "\n",
    "Since we're going to be performing a sentiment analysis on many tweets in this notebook, we should try to **use abstraction to manage the complexity of this program**:\n",
    "\n",
    "**Task \\#3:** Define a function, *tweet_classifier(input_string)*, that returns the string \"positive\" if the tweet has a positive polarity, returns the string \"negative\" if the tweet has a negative polarity, and returns the string \"neutral\" if the tweet has a polarity of 0."
   ]
  },
  {
   "cell_type": "code",
   "execution_count": 6,
   "metadata": {},
   "outputs": [],
   "source": [
    "# Your code here\n",
    "def tweet_classifier(input_string):\n",
    "    from textblob import TextBlob\n",
    "    value = \"\"\n",
    "    tbobject5 = TextBlob(input_string)\n",
    "    sentiment = tbobject5.sentiment.polarity\n",
    "    if sentiment > 0:\n",
    "        value = \"positive\"\n",
    "    elif sentiment < 0:\n",
    "        value = \"negative\"\n",
    "    else:\n",
    "        value = \"neutral\"\n",
    "    print(value)"
   ]
  },
  {
   "cell_type": "markdown",
   "metadata": {},
   "source": [
    "Now test out your function by running this cell and making sure that it behaves as expected on our Doritos tweets. Here are the tweets:"
   ]
  },
  {
   "cell_type": "code",
   "execution_count": 7,
   "metadata": {},
   "outputs": [
    {
     "name": "stdout",
     "output_type": "stream",
     "text": [
      "Doritos Blaze chips are the grossest chips I've ever eaten. They are so bad that I thought I was eating rancid croutons.\n",
      "I love Doritos Blaze chips! Move over Cool Ranch, this is the tastiest flavor yet. Yum!\n",
      "Doritos Blaze chips are being sold for $2.99 at Mariano's (545 N Hicks Rd, Palatine, IL)\n"
     ]
    }
   ],
   "source": [
    "print(tweet1)\n",
    "print(tweet2)\n",
    "print(tweet3)"
   ]
  },
  {
   "cell_type": "markdown",
   "metadata": {},
   "source": [
    "And the results of a sentiment analysis:"
   ]
  },
  {
   "cell_type": "code",
   "execution_count": 8,
   "metadata": {},
   "outputs": [
    {
     "name": "stdout",
     "output_type": "stream",
     "text": [
      "negative\n",
      "None\n",
      "positive\n",
      "None\n",
      "neutral\n",
      "None\n"
     ]
    }
   ],
   "source": [
    "print(tweet_classifier(tweet1))\n",
    "print(tweet_classifier(tweet2))\n",
    "print(tweet_classifier(tweet3))"
   ]
  },
  {
   "cell_type": "markdown",
   "metadata": {},
   "source": [
    "### Picking a Hashtag to Analyze\n",
    "\n",
    "Normally, the best way to pick a hashtag to analyze is to look at what is currently trending on Twitter. However, since creating a Twitter developer account was optional for the e-learning version of this notebook, your teacher has pre-selected some hashtags that were trending on May 10, 2020."
   ]
  },
  {
   "cell_type": "markdown",
   "metadata": {},
   "source": [
    "**Question \\#7:** Which of the following hashtags would you like to analyze in this notebook?\n",
    "\n",
    "* \\#covid19\n",
    "* \\#mothersday\n",
    "* \\#happymothersday\n",
    "* \\#bitcoin\n",
    "* \\#sundaythoughts"
   ]
  },
  {
   "cell_type": "markdown",
   "metadata": {},
   "source": [
    "**Your Answer:** #covid19"
   ]
  },
  {
   "cell_type": "markdown",
   "metadata": {},
   "source": [
    "**Task \\#4:** Each of the hashtags above has an associated _.txt_ file. Modifying the code below to include the appropriate file name: \n",
    "\n",
    "* _\"covid19.txt\"_\n",
    "* _\"mothersday.txt\"_\n",
    "* _\"happymothersday.txt\"_\n",
    "* _\"bitcoin.txt\"_\n",
    "* _\"sundaythoughts.txt\"_"
   ]
  },
  {
   "cell_type": "code",
   "execution_count": 9,
   "metadata": {},
   "outputs": [],
   "source": [
    "#*******************************************************************************************\n",
    "filename = \"covid19.txt\" #IMPORTANT: INSERT FILE NAME HERE********************* \n",
    "#*******************************************************************************************\n",
    "\n",
    "file1 = open(filename, \"r\", encoding=\"utf-8\")\n",
    "\n",
    "tweet_list = file1.read().splitlines()\n",
    "\n",
    "file1.close()"
   ]
  },
  {
   "cell_type": "markdown",
   "metadata": {},
   "source": [
    "The code above opens the _.txt_ file and stores each line as a separate element of a list. This gives us a list where each element is a separate tweet. \n",
    "\n",
    "**Task \\#5:** Write code that (a) prints out the number of tweets total in this dataset and (b) prints out a single tweet at random.\n",
    "\n",
    "_Warning: Remember that printing a random tweet means that there is a chance that the tweet displayed may not be school-appropriate. If this happens, just run the code again until the tweet is school appropriate._"
   ]
  },
  {
   "cell_type": "code",
   "execution_count": 21,
   "metadata": {},
   "outputs": [
    {
     "name": "stdout",
     "output_type": "stream",
     "text": [
      "The number of tweets tweeted is 3897\n",
      "A random tweet from the hashtag is: Disappointed @BorisJohnson made no mention of wearing face coverings in public or at work but particularly in crowded places like banks, supermarkets &amp; public transport. Our #Masks4All campaign will go on as this simple measure makes a difference in breaking #COVID19 transmission\n"
     ]
    }
   ],
   "source": [
    "# Your code here\n",
    "import random\n",
    "t_list = tweet_list\n",
    "length = len(t_list)\n",
    "num = random.randint(0, length-1)\n",
    "tweet = t_list[num]\n",
    "print(\"The number of tweets tweeted is \" + str(length))\n",
    "print(\"A random tweet from the hashtag is: \" + tweet)"
   ]
  },
  {
   "cell_type": "markdown",
   "metadata": {},
   "source": [
    "### Performing a Sentiment Analysis\n",
    "We now have quite a few tweets stored in _tweet\\_list_. The next step is to do a sentiment analysis on each one and store the data in a new list, _sentiment\\_list_.\n",
    "\n",
    "**Task \\#6:** Write code that does the following: For each tweet in _tweet\\_list,_ perform a sentiment analysis on the tweet and append the result onto _sentiment\\_list_."
   ]
  },
  {
   "cell_type": "code",
   "execution_count": 26,
   "metadata": {},
   "outputs": [],
   "source": [
    "sentiment_list = [] # Get ready to store sentiment analysis results\n",
    "\n",
    "# Your code here\n",
    "for tweet in tweet_list:\n",
    "    t_sentiment = TextBlob(tweet)\n",
    "    sentiment = t_sentiment.sentiment.polarity\n",
    "    sentiment_list.append(str(sentiment))"
   ]
  },
  {
   "cell_type": "markdown",
   "metadata": {},
   "source": [
    "After you finish, you can test if your algorithm works by running the code below. Re-run the code until (a) you are convinced that your sentiment analysis is classifying tweets roughly as expected and (b) the randomly displayed tweet is school-appropriate."
   ]
  },
  {
   "cell_type": "code",
   "execution_count": 27,
   "metadata": {},
   "outputs": [
    {
     "name": "stdout",
     "output_type": "stream",
     "text": [
      "SENTIMENT = 0.15\n",
      "TEXT = MEK Iran: No End in Sight for #COVID19 in #Iran with 40,200 Dead and More Cases Reported  https://t.co/x2AKa8yjin #MEK #coronavirus @USAdarFarsi\n"
     ]
    }
   ],
   "source": [
    "import random\n",
    "\n",
    "total_tweets = len(tweet_list)\n",
    "random_index = random.randint(0, total_tweets) \n",
    "\n",
    "print('SENTIMENT = ' + sentiment_list[random_index])\n",
    "print('TEXT = ' + tweet_list[random_index])"
   ]
  },
  {
   "cell_type": "markdown",
   "metadata": {},
   "source": [
    "### Analyze the Results\n",
    "\n",
    "Now we have two lists, *tweet_list* and *sentiment_list* that are storing quite a bit of data:"
   ]
  },
  {
   "cell_type": "code",
   "execution_count": 28,
   "metadata": {},
   "outputs": [
    {
     "name": "stdout",
     "output_type": "stream",
     "text": [
      "3897\n",
      "3897\n"
     ]
    }
   ],
   "source": [
    "print(len(tweet_list))\n",
    "print(len(sentiment_list))"
   ]
  },
  {
   "cell_type": "markdown",
   "metadata": {},
   "source": [
    "Depending on the hashtag you picked, the number above might be pretty large. You can always get even more data by setting up a stream yourself and letting it run for a longer period of time. \n",
    "\n",
    "Here are the first three elements from these two lists:"
   ]
  },
  {
   "cell_type": "code",
   "execution_count": 29,
   "metadata": {},
   "outputs": [
    {
     "name": "stdout",
     "output_type": "stream",
     "text": [
      "[\"@JCColtin @nahmias @NYC_DOI @CCRB_NYC @BilldeBlasio @SusanBEdelman How to hold court @BilldeBlasio &amp; his #NYPD #criminal #mob's expense for $1,000 &amp; attorney fees for smiles during #CoronaVirus #COVID19 #pandemic. #MothersDay https://t.co/cMvRZBEqNr\", \"@PrisonPlanet @NoorBinLadin @CCPVirusDigest Australian police also don't want people to exercise their rights 😏  #FakePandemic #COVID19 #covidhoax #CovidNAZI #Australia https://t.co/tvsh2lGfqP\", \"I'm a signatory to this joint-union letter in today's @ObserverUK  The role of union health and safety reps representatives must be an integral part of the fight against this pandemic.   #COVID19  https://t.co/LqGPuX3lm3\"]\n",
      "['-0.4', '0.0', '0.0']\n"
     ]
    }
   ],
   "source": [
    "print(tweet_list[:3])\n",
    "print(sentiment_list[:3])"
   ]
  },
  {
   "cell_type": "markdown",
   "metadata": {},
   "source": [
    "Instead of compiling these results by hand, let Python do the heavy lifting:"
   ]
  },
  {
   "cell_type": "code",
   "execution_count": 30,
   "metadata": {},
   "outputs": [
    {
     "name": "stdout",
     "output_type": "stream",
     "text": [
      "Counter({'0.0': 1134, '0.35': 156, '0.25': 136, '0.2': 109, '0.5': 100, '0.3': 57, '0.1': 56, '-0.125': 47, '0.13636363636363635': 47, '0.04444444444444445': 42, '-0.5': 38, '-0.4': 33, '0.55': 33, '0.22727272727272727': 32, '0.16666666666666666': 31, '0.09999999999999999': 30, '-0.4666666666666666': 27, '0.15': 26, '0.125': 24, '0.18409090909090908': 24, '0.7': 24, '0.35714285714285715': 22, '0.03333333333333333': 22, '0.45': 22, '-0.7604166666666666': 20, '0.09333333333333335': 19, '-0.1': 19, '0.4': 19, '0.06666666666666667': 18, '0.6': 17, '0.15714285714285717': 17, '0.8': 16, '-0.05': 16, '0.2857142857142857': 16, '0.025': 16, '-0.3': 15, '0.19999999999999998': 15, '0.175': 14, '-0.0625': 14, '-0.15': 13, '0.1875': 13, '0.05': 12, '0.19375000000000003': 12, '-0.09999999999999998': 12, '-0.625': 12, '0.3125': 12, '0.15624999999999997': 12, '-0.2': 12, '1.0': 11, '-0.08333333333333333': 11, '-0.11666666666666667': 11, '-0.13333333333333333': 11, '-0.25': 11, '0.06818181818181818': 10, '-0.048611111111111084': 10, '0.13000000000000003': 10, '-0.02361111111111111': 10, '0.3333333333333333': 9, '0.425': 9, '0.10000000000000002': 9, '0.033333333333333326': 9, '-0.11272727272727275': 9, '0.10416666666666667': 8, '0.11666666666666665': 8, '0.05000000000000001': 8, '-0.15555555555555559': 8, '0.525': 8, '0.2333333333333333': 8, '0.13333333333333333': 7, '0.26666666666666666': 7, '-0.041666666666666664': 7, '0.18': 7, '0.75': 7, '-0.05555555555555556': 7, '-0.024999999999999994': 7, '0.325': 7, '-0.16590909090909092': 7, '0.375': 7, '0.625': 7, '-0.19999999999999998': 7, '-0.175': 7, '0.0625': 7, '0.041666666666666664': 7, '0.07575757575757576': 6, '0.04545454545454545': 6, '-1.0': 6, '0.08522727272727272': 6, '0.3194444444444444': 6, '-0.16666666666666666': 6, '-0.1638095238095238': 6, '0.08333333333333333': 6, '-0.016666666666666666': 6, '0.04999999999999999': 6, '0.12159090909090908': 6, '-0.024999999999999967': 6, '0.2681818181818182': 6, '0.24242424242424243': 6, '0.15833333333333333': 5, '-0.41785714285714287': 5, '-0.06666666666666667': 5, '0.3181818181818182': 5, '-0.07500000000000001': 5, '-0.017283950617283952': 5, '0.275': 5, '-0.20000000000000004': 5, '-0.05000000000000002': 5, '0.05656565656565656': 5, '0.2340659340659341': 5, '0.65': 4, '-0.05555555555555555': 4, '0.15000000000000002': 4, '-0.6': 4, '-0.15000000000000002': 4, '0.225': 4, '-0.30000000000000004': 4, '0.08': 4, '-0.052083333333333336': 4, '0.3454545454545454': 4, '-0.049999999999999996': 4, '0.037500000000000006': 4, '0.13506493506493505': 4, '0.06944444444444443': 4, '0.07777777777777777': 4, '0.46875': 4, '0.475': 4, '-0.10000000000000002': 4, '-0.05000000000000001': 4, '0.32285714285714284': 4, '0.0715909090909091': 4, '-0.25925925925925924': 4, '0.21428571428571427': 4, '0.22888888888888886': 4, '0.43333333333333335': 4, '0.32': 4, '0.18333333333333332': 4, '0.11363636363636363': 4, '0.10625': 4, '-0.09375': 4, '-0.21666666666666667': 3, '-0.04999999999999999': 3, '0.016666666666666673': 3, '0.1125': 3, '0.4666666666666666': 3, '0.12878787878787878': 3, '0.0028409090909090884': 3, '0.049999999999999975': 3, '0.016666666666666666': 3, '0.12575757575757576': 3, '0.16363636363636364': 3, '-0.19166666666666665': 3, '0.48750000000000004': 3, '0.20235690235690237': 3, '0.05714285714285713': 3, '0.09074074074074073': 3, '0.132': 3, '0.5833333333333333': 3, '0.29500000000000004': 3, '0.09375': 3, '-0.3499999999999999': 3, '0.09523809523809523': 3, '0.41666666666666663': 3, '-0.07291666666666666': 3, '-0.26666666666666666': 3, '0.21666666666666667': 3, '0.14999999999999997': 3, '0.18383838383838383': 3, '-0.3125': 3, '0.034523809523809526': 3, '-0.03125': 3, '0.4125': 3, '-0.03333333333333333': 3, '-0.15625': 3, '-0.09583333333333334': 3, '0.016666666666666663': 3, '-0.6999999999999998': 3, '-0.375': 3, '0.203125': 3, '0.14285714285714285': 3, '-0.35': 3, '0.05357142857142857': 3, '0.3066666666666667': 3, '0.1431818181818182': 3, '0.21666666666666665': 3, '-0.13888888888888887': 3, '-0.09333333333333334': 3, '0.17045454545454544': 3, '-0.02777777777777779': 3, '0.062121212121212126': 3, '-0.7999999999999999': 2, '-0.1875': 2, '-0.022655122655122664': 2, '-0.04444444444444443': 2, '0.16818181818181818': 2, '-0.35000000000000003': 2, '0.4166666666666667': 2, '0.145': 2, '0.24545454545454545': 2, '0.37857142857142856': 2, '-0.0011111111111111183': 2, '0.52': 2, '-0.03896103896103897': 2, '0.11111111111111112': 2, '0.16': 2, '0.17500000000000002': 2, '0.34545454545454546': 2, '0.05909090909090909': 2, '-0.14323743386243387': 2, '0.2090909090909091': 2, '0.35000000000000003': 2, '-0.045000000000000026': 2, '0.24444444444444446': 2, '0.045': 2, '0.0375': 2, '-0.32321428571428573': 2, '0.049999999999999996': 2, '0.075': 2, '0.390625': 2, '0.2833333333333333': 2, '0.0909090909090909': 2, '0.0765625': 2, '0.20833333333333334': 2, '-0.29583333333333334': 2, '-0.2333333333333333': 2, '0.5666666666666668': 2, '0.26545454545454544': 2, '0.42857142857142855': 2, '0.09999999999999998': 2, '0.03409090909090909': 2, '0.25000000000000006': 2, '-0.06481481481481478': 2, '-0.19': 2, '-0.22380952380952382': 2, '0.5666666666666667': 2, '-0.07272727272727272': 2, '-0.055555555555555546': 2, '0.15625': 2, '0.025000000000000005': 2, '-0.10714285714285714': 2, '0.11875': 2, '0.3375': 2, '0.07777777777777779': 2, '0.48333333333333334': 2, '-0.03181818181818183': 2, '-0.08958333333333335': 2, '-0.20357142857142854': 2, '0.18125': 2, '-0.24000000000000005': 2, '0.18333333333333335': 2, '-0.27499999999999997': 2, '0.27499999999999997': 2, '0.011111111111111108': 2, '-0.00625': 2, '0.305': 2, '-0.012499999999999997': 2, '0.26212121212121214': 2, '0.24479166666666669': 2, '0.0875': 2, '-0.20833333333333334': 2, '-0.15555555555555556': 2, '-0.1609375': 2, '-0.2535714285714286': 2, '-0.27306397306397306': 2, '-0.04880952380952381': 2, '0.13749999999999998': 2, '0.185': 2, '-0.20624999999999996': 2, '-0.027777777777777773': 2, '0.05555555555555555': 2, '-0.11249999999999996': 2, '0.07916666666666666': 2, '-0.205050505050505': 2, '-0.09999999999999999': 2, '0.06249999999999999': 2, '0.05454545454545454': 2, '0.02500000000000001': 2, '0.16193181818181818': 2, '-0.30833333333333335': 2, '0.3666666666666667': 2, '-0.019999999999999997': 2, '-0.8': 2, '0.4000000000000001': 2, '0.2340909090909091': 2, '0.875': 2, '-0.02121212121212122': 1, '0.08125': 1, '0.13999999999999999': 1, '0.2572727272727272': 1, '0.15000000000000008': 1, '-0.5666666666666667': 1, '-0.0875': 1, '-0.05625000000000001': 1, '0.1340909090909091': 1, '0.022222222222222213': 1, '0.0125': 1, '0.4333333333333333': 1, '0.13727272727272727': 1, '0.047979797979797977': 1, '-0.29': 1, '-0.025': 1, '0.12045454545454547': 1, '0.41363636363636364': 1, '0.20000000000000004': 1, '-0.008994708994709005': 1, '-0.4125': 1, '0.14': 1, '-0.012500000000000004': 1, '0.154978354978355': 1, '0.3121212121212121': 1, '0.6499999999999999': 1, '0.34375': 1, '0.09285714285714285': 1, '0.011111111111111112': 1, '0.9375000000000001': 1, '0.008333333333333331': 1, '-0.5374999999999999': 1, '-0.013425925925925924': 1, '0.30000000000000004': 1, '0.15277777777777776': 1, '-0.045': 1, '0.034848484848484844': 1, '-0.21969696969696967': 1, '0.13125': 1, '0.0007575757575757532': 1, '0.22000000000000003': 1, '0.15833333333333335': 1, '0.03571428571428571': 1, '-0.19999999999999996': 1, '0.4035714285714286': 1, '0.19444444444444442': 1, '0.08714285714285715': 1, '-0.3392857142857143': 1, '0.2708333333333333': 1, '0.03333333333333334': 1, '0.1833333333333333': 1, '0.27999999999999997': 1, '-0.1125': 1, '-0.40625': 1, '0.020833333333333332': 1, '0.46444444444444444': 1, '0.1948051948051948': 1, '-0.4791666666666667': 1, '0.184375': 1, '0.023888888888888883': 1, '0.1952380952380952': 1, '0.7000000000000001': 1, '-0.05833333333333333': 1, '0.37': 1, '0.36363636363636365': 1, '0.4875': 1, '-0.14444444444444446': 1, '0.03928571428571427': 1, '0.21200000000000002': 1, '0.2777777777777778': 1, '-0.06388888888888888': 1, '-0.6875': 1, '0.11485714285714285': 1, '0.45833333333333337': 1, '-0.038888888888888896': 1, '-0.26999999999999996': 1, '0.14545454545454545': 1, '-0.18437499999999998': 1, '0.09318181818181817': 1, '-0.09801587301587301': 1, '0.6285714285714286': 1, '0.02159090909090909': 1, '0.008333333333333338': 1, '0.04375000000000001': 1, '0.07393939393939394': 1, '-0.18310546875': 1, '0.012121212121212125': 1, '0.021428571428571422': 1, '0.36666666666666664': 1, '0.165': 1, '-0.012727272727272743': 1, '0.29166666666666663': 1, '-0.31999999999999995': 1, '0.13333333333333336': 1, '0.5729166666666667': 1, '-0.52': 1, '0.23333333333333334': 1, '0.19333333333333336': 1, '-0.48828125': 1, '0.38181818181818183': 1, '0.042307692307692296': 1, '0.24074074074074078': 1, '0.024999999999999994': 1, '-0.14761904761904765': 1, '0.08621933621933621': 1, '-0.02250000000000002': 1, '0.2714285714285714': 1, '0.71875': 1, '0.12333333333333335': 1, '-0.5458333333333334': 1, '-0.23958333333333334': 1, '0.13484848484848486': 1, '-0.005555555555555557': 1, '0.34027777777777773': 1, '-0.08124999999999999': 1, '0.5416666666666666': 1, '-0.03571428571428571': 1, '-0.10833333333333334': 1, '0.05560606060606059': 1, '-0.11416666666666665': 1, '-0.04924242424242424': 1, '0.05833333333333333': 1, '0.2590909090909091': 1, '0.08484848484848484': 1, '-0.06666666666666668': 1, '-0.0125': 1, '0.2888888888888889': 1, '-0.003409090909090917': 1, '0.27777777777777773': 1, '0.48522727272727273': 1, '0.06999999999999999': 1, '0.07500000000000001': 1, '-0.23333333333333336': 1, '-0.1232142857142857': 1, '0.35511363636363635': 1, '0.07927272727272727': 1, '-0.3666666666666667': 1, '0.09500000000000001': 1, '0.0008928571428571466': 1, '0.1845': 1, '0.012500000000000011': 1, '0.2916666666666667': 1, '-0.31': 1, '-0.10173992673992674': 1, '-0.056249999999999994': 1, '0.26079545454545455': 1, '-0.10625': 1, '0.010000000000000004': 1, '0.018750000000000003': 1, '-0.225': 1, '-0.025000000000000022': 1, '-0.02840909090909091': 1, '0.45714285714285713': 1, '0.33999999999999997': 1, '0.5125': 1, '-0.08800000000000001': 1, '0.08035714285714285': 1, '0.640625': 1, '0.11125236742424242': 1, '0.32499999999999996': 1, '0.22333333333333333': 1, '0.12738095238095237': 1, '0.08121212121212121': 1, '0.08095238095238096': 1, '0.11533333333333333': 1, '0.21000000000000002': 1, '0.17142857142857143': 1, '-0.27999999999999997': 1, '0.1708333333333333': 1, '0.1787878787878788': 1, '0.9': 1, '-0.1263888888888889': 1, '0.3875': 1, '-0.22500000000000003': 1, '0.38683862433862437': 1, '-0.075': 1, '-0.5625': 1, '0.790625': 1, '0.29450757575757575': 1, '0.009999999999999998': 1, '0.011111111111111106': 1, '0.0014814814814814725': 1, '0.054924242424242424': 1, '0.27159090909090905': 1, '0.24285714285714285': 1, '0.019444444444444448': 1, '0.016666666666666677': 1, '-0.05833333333333332': 1, '-0.25875': 1, '-0.09090909090909091': 1, '0.011666666666666667': 1, '0.07847222222222221': 1, '0.25555555555555554': 1, '0.014898989898989893': 1, '-0.31666666666666665': 1, '0.25101010101010107': 1, '-0.09940476190476188': 1, '0.049158249158249144': 1, '0.39999999999999997': 1, '0.45499999999999996': 1, '0.19318181818181818': 1, '0.0987878787878788': 1, '0.005681818181818177': 1, '0.004761904761904766': 1, '0.11607142857142858': 1, '0.09583333333333333': 1, '0.10392857142857141': 1, '0.013636363636363627': 1, '0.11931818181818182': 1, '-0.042857142857142844': 1, '-0.23333333333333334': 1, '0.06666666666666665': 1, '-0.37777777777777777': 1, '0.21212121212121213': 1, '-0.016666666666666677': 1, '-0.78125': 1, '-0.6549999999999999': 1, '0.03125': 1, '0.35833333333333334': 1, '-0.09444444444444444': 1, '0.28571428571428575': 1, '0.4375': 1, '0.10416666666666666': 1, '-0.006249999999999978': 1, '0.06820500927643784': 1, '-0.008333333333333331': 1, '-0.09166666666666667': 1, '0.007407407407407394': 1, '0.010714285714285716': 1, '0.1924107142857143': 1, '-0.025757575757575757': 1, '0.18095238095238095': 1, '0.012121212121212116': 1, '0.2727272727272727': 1, '-0.2625': 1, '-0.078125': 1, '0.23939393939393938': 1, '-0.2916666666666667': 1, '-0.0528125': 1, '0.1680555555555556': 1, '-0.04666666666666666': 1, '0.10952380952380954': 1, '-0.07777777777777779': 1, '-0.03454545454545455': 1, '-0.1111111111111111': 1, '0.30714285714285716': 1, '-0.03333333333333331': 1, '-0.2111111111111111': 1, '0.06875': 1, '0.15138888888888888': 1, '0.15476190476190477': 1, '0.18500000000000003': 1, '0.21183035714285714': 1, '0.3833333333333333': 1, '0.06727272727272726': 1, '0.046875': 1, '0.2507142857142857': 1, '0.17857142857142858': 1, '-0.01750841750841751': 1, '0.18055555555555555': 1, '0.1619047619047619': 1, '0.31145833333333334': 1, '-0.008333333333333335': 1, '0.24318181818181817': 1, '0.38': 1, '-0.185': 1, '-0.020833333333333332': 1, '0.3416666666666667': 1, '0.5580357142857143': 1, '0.2833333333333334': 1, '-0.02499999999999998': 1, '0.25757575757575757': 1, '0.18727272727272729': 1, '0.5375': 1, '0.01666666666666668': 1, '0.028787878787878782': 1, '-0.14999999999999997': 1, '0.13454545454545455': 1, '-0.4000000000000001': 1, '0.1375': 1, '0.18571428571428575': 1, '0.5625': 1, '0.4083333333333334': 1, '-0.009595959595959616': 1, '-0.02590909090909091': 1, '-0.17195767195767195': 1, '0.5333333333333333': 1, '0.28125': 1, '0.17500000000000004': 1, '0.33333333333333337': 1, '0.2761904761904762': 1, '0.2625': 1, '0.1278409090909091': 1, '0.07454545454545454': 1, '0.5465909090909091': 1, '0.027987012987012994': 1, '-0.052857142857142866': 1, '0.21103896103896103': 1, '-0.37499999999999994': 1, '0.2875': 1, '0.42000000000000004': 1, '-0.3333333333333333': 1, '0.09272727272727273': 1, '0.5428571428571429': 1, '-0.18571428571428572': 1, '0.34659090909090906': 1, '-0.090625': 1, '0.2023809523809524': 1, '0.1715029761904762': 1, '0.19140625': 1, '0.19': 1, '-0.1888888888888889': 1, '0.22272727272727275': 1, '0.6333333333333333': 1, '-0.036805555555555564': 1, '-0.06666666666666665': 1, '-0.02500000000000001': 1, '0.10500000000000001': 1, '0.27142857142857146': 1, '0.3166666666666667': 1, '0.07111816406249999': 1, '-0.04642857142857143': 1, '-0.09722222222222222': 1, '0.19206349206349208': 1, '0.058333333333333334': 1, '-0.21041666666666664': 1, '0.02083333333333333': 1, '0.5190476190476191': 1, '-0.0666666666666667': 1, '0.12023809523809524': 1, '0.08611111111111111': 1, '0.05568181818181818': 1, '-0.2659970238095238': 1, '0.03968253968253969': 1, '0.24523809523809523': 1, '0.007222222222222218': 1, '0.047272727272727265': 1, '0.3444444444444444': 1, '0.221875': 1, '0.15333333333333332': 1, '-0.00833333333333334': 1, '-0.012500000000000011': 1, '-0.1409375': 1, '0.335': 1, '-0.06527777777777777': 1, '-0.11309523809523808': 1, '0.13199999999999998': 1, '0.50625': 1, '-0.15454545454545454': 1, '0.008333333333333352': 1, '0.00833333333333334': 1, '-0.038': 1, '0.022222222222222254': 1, '-0.4625': 1, '-0.08181818181818182': 1, '-0.06818181818181818': 1, '0.061111111111111095': 1, '-0.0746031746031746': 1, '0.1142857142857143': 1, '-0.044444444444444446': 1, '0.34': 1, '0.11079545454545456': 1, '0.13666666666666666': 1, '-0.7142857142857143': 1, '0.059999999999999984': 1, '0.1857142857142857': 1, '-0.6666666666666666': 1, '0.21927272727272729': 1, '0.11000000000000001': 1, '0.10714285714285714': 1, '0.43': 1, '0.1621212121212121': 1})\n"
     ]
    }
   ],
   "source": [
    "from collections import Counter\n",
    "\n",
    "sentiment_count = Counter(sentiment_list)\n",
    "\n",
    "print(sentiment_count)"
   ]
  },
  {
   "cell_type": "markdown",
   "metadata": {},
   "source": [
    "Depending on your hashtag, you might see many more \"positive\" values than \"negative\" values (or vice-versa). You can get a sense of the overall (net) sentiment in your stream by subtracting the number of positive tweets from negative tweets:"
   ]
  },
  {
   "cell_type": "code",
   "execution_count": 31,
   "metadata": {},
   "outputs": [
    {
     "name": "stdout",
     "output_type": "stream",
     "text": [
      "#covid19 is a net-neutral hashtag during our streaming session.\n"
     ]
    }
   ],
   "source": [
    "net = sentiment_count['positive'] - sentiment_count['negative']\n",
    "\n",
    "current_hashtag = '#' + filename.split(\".\")[0]\n",
    "\n",
    "if net > 0: \n",
    "    print(current_hashtag + ' was a net-positive hashtag during our streaming session.')\n",
    "elif net < 0: \n",
    "    print(current_hashtag + ' is a net-negative hashtag during our streaming session.')\n",
    "else: \n",
    "    print(current_hashtag + ' is a net-neutral hashtag during our streaming session.')"
   ]
  },
  {
   "cell_type": "markdown",
   "metadata": {},
   "source": [
    "**Question \\#7:** You just analyzed overall sentiment of tweets using a particular hashtag. Were you surprised by your results or did your result line up with your expectations? Explain."
   ]
  },
  {
   "cell_type": "markdown",
   "metadata": {},
   "source": [
    "**Your Answer:**  I wasnt really surprised, as during covid19, there would be negative messages about how bad the pandemic is, but there would be positive encouragements too."
   ]
  },
  {
   "cell_type": "markdown",
   "metadata": {},
   "source": [
    "### Sentiment Analysis and Machine Learning\n",
    "\n",
    "You might have noticed some tweets in your data that were clearly \"positive\" but were incorrectly classified as \"neutral.\" Or you might have seen a tweet that was classified as \"positive,\" but it was written with a sarcastic tone and should have been classified as \"negative.\" \n",
    "\n",
    "As we highlighed with the Maya Angelou poem, the reality is that sentiment analysis is difficult and can depend heavily on context. Most data scientists will use **machine learning** algorithms to **train** their own **classifier**. All of this vocabulary might sound fancy, but all it means is that perform sentiment analysis by creating your own function that works well for your specific context. You just need a big *.csv* file containing tweets and where someone has manually performed a sentiment analysis. Unfortunately, this can be labor intensive and requires someone to classify thousands of tweets by hand. This *.csv* is your **training data**. Then the **machine learning algorithm** can identify patterns in this *.csv* to perform sentiment analysis on new tweets that it hasn't seen before. If we had more time, we could use this technique to improve TextBlob's results.\n",
    "\n",
    "Here's an example of a blog post where the author walks the reader through this process: https://www.kaggle.com/ngyptr/python-nltk-sentiment-analysis"
   ]
  },
  {
   "cell_type": "markdown",
   "metadata": {},
   "source": [
    "### Twitter: A Source for Input, a Place for Output\n",
    "\n",
    "For most people, Twitter is a source of entertainment as well as a place to find relevant/current information, conversation, and debate. That's what social media is all about. \n",
    "\n",
    "As a programmer, you are probably beginning to also see Twitter as a source of input. But it's also a great place to share your output. We took information from Twitter (as input), so if you created a Twitter developer account this will be your chance to give something back (as output). \n",
    "\n",
    "First, let's use the data in *sentiment_count* as the labels and sizes for a pie chart:"
   ]
  },
  {
   "cell_type": "code",
   "execution_count": 32,
   "metadata": {},
   "outputs": [
    {
     "name": "stdout",
     "output_type": "stream",
     "text": [
      "['-0.4', '0.0', '0.10416666666666667', '0.1', '0.35', '0.5', '0.15', '-0.7999999999999999', '-0.02121212121212122', '0.05', '0.11666666666666665', '-0.21666666666666667', '-0.5', '-0.125', '0.09999999999999999', '-0.7604166666666666', '0.08125', '0.13333333333333333', '0.8', '1.0', '-0.1875', '0.13999999999999999', '0.13636363636363635', '0.09333333333333335', '-0.1', '0.125', '0.26666666666666666', '0.16666666666666666', '0.2572727272727272', '0.3', '0.15000000000000008', '-0.5666666666666667', '0.65', '0.25', '0.35714285714285715', '-0.08333333333333333', '-0.04999999999999999', '-0.0875', '-0.05625000000000001', '0.18409090909090908', '0.016666666666666673', '-0.022655122655122664', '0.1125', '-0.05', '0.4666666666666666', '0.19375000000000003', '-0.04444444444444443', '0.1340909090909091', '0.07575757575757576', '0.04545454545454545', '-0.05555555555555555', '0.06666666666666667', '0.03333333333333333', '-0.11666666666666667', '0.022222222222222213', '-1.0', '0.15000000000000002', '0.0125', '0.2', '0.08522727272727272', '0.6', '0.4333333333333333', '0.15833333333333333', '0.16818181818181818', '-0.09999999999999998', '-0.4666666666666666', '-0.041666666666666664', '0.13727272727272727', '0.3194444444444444', '0.047979797979797977', '-0.35000000000000003', '-0.29', '0.18', '-0.025', '0.12045454545454547', '0.05000000000000001', '-0.3', '0.04444444444444445', '0.41363636363636364', '0.12878787878787878', '0.4166666666666667', '-0.13333333333333333', '0.20000000000000004', '-0.008994708994709005', '-0.4125', '0.145', '0.45', '0.55', '0.24545454545454545', '0.06818181818181818', '0.7', '0.14', '-0.012500000000000004', '-0.6', '-0.625', '0.3125', '0.37857142857142856', '0.19999999999999998', '0.154978354978355', '0.75', '0.3121212121212121', '0.0028409090909090884', '0.2857142857142857', '0.6499999999999999', '0.3333333333333333', '-0.05555555555555556', '0.34375', '0.425', '-0.41785714285714287', '-0.024999999999999994', '0.09285714285714285', '0.011111111111111112', '-0.0011111111111111183', '0.049999999999999975', '0.52', '0.016666666666666666', '0.9375000000000001', '0.325', '-0.06666666666666667', '-0.15', '-0.048611111111111084', '-0.16590909090909092', '0.008333333333333331', '-0.15000000000000002', '-0.5374999999999999', '-0.013425925925925924', '-0.03896103896103897', '0.225', '0.11111111111111112', '-0.30000000000000004', '0.375', '0.16', '-0.16666666666666666', '0.30000000000000004', '0.625', '0.15277777777777776', '-0.1638095238095238', '-0.045', '0.08333333333333333', '0.15624999999999997', '0.12575757575757576', '0.16363636363636364', '0.034848484848484844', '0.08', '0.17500000000000002', '0.34545454545454546', '-0.21969696969696967', '0.05909090909090909', '-0.052083333333333336', '-0.14323743386243387', '0.175', '0.2090909090909091', '0.13125', '-0.2', '0.35000000000000003', '0.0007575757575757532', '-0.045000000000000026', '0.22727272727272727', '0.22000000000000003', '0.15833333333333335', '0.03571428571428571', '0.3181818181818182', '-0.07500000000000001', '-0.19999999999999996', '0.4035714285714286', '0.3454545454545454', '-0.19166666666666665', '0.19444444444444442', '0.08714285714285715', '-0.3392857142857143', '0.2708333333333333', '0.03333333333333334', '0.1833333333333333', '0.10000000000000002', '-0.017283950617283952', '0.24444444444444446', '0.27999999999999997', '-0.1125', '-0.40625', '0.020833333333333332', '0.045', '0.46444444444444444', '0.48750000000000004', '0.1948051948051948', '-0.4791666666666667', '0.0375', '-0.049999999999999996', '0.184375', '0.20235690235690237', '0.023888888888888883', '0.05714285714285713', '0.1952380952380952', '0.037500000000000006', '-0.016666666666666666', '0.13506493506493505', '0.7000000000000001', '-0.32321428571428573', '-0.05833333333333333', '0.033333333333333326', '0.13000000000000003', '-0.02361111111111111', '0.09074074074074073', '0.37', '0.049999999999999996', '0.132', '0.36363636363636365', '0.06944444444444443', '0.4875', '0.075', '-0.14444444444444446', '0.275', '0.390625', '0.03928571428571427', '0.21200000000000002', '0.2777777777777778', '-0.06388888888888888', '-0.6875', '0.07777777777777777', '-0.15555555555555559', '0.11485714285714285', '0.45833333333333337', '-0.038888888888888896', '-0.26999999999999996', '0.04999999999999999', '0.14545454545454545', '0.5833333333333333', '0.46875', '0.4', '0.2833333333333333', '-0.18437499999999998', '0.09318181818181817', '0.29500000000000004', '-0.09801587301587301', '0.0909090909090909', '0.0765625', '-0.19999999999999998', '0.6285714285714286', '0.02159090909090909', '0.475', '0.09375', '0.008333333333333338', '-0.10000000000000002', '-0.3499999999999999', '0.04375000000000001', '0.12159090909090908', '0.20833333333333334', '0.09523809523809523', '-0.05000000000000001', '0.41666666666666663', '-0.29583333333333334', '0.32285714285714284', '0.07393939393939394', '-0.18310546875', '-0.07291666666666666', '-0.2333333333333333', '0.012121212121212125', '0.021428571428571422', '-0.25', '0.36666666666666664', '0.165', '-0.012727272727272743', '0.525', '0.5666666666666668', '-0.26666666666666666', '0.29166666666666663', '0.26545454545454544', '-0.31999999999999995', '0.0715909090909091', '-0.0625', '0.13333333333333336', '0.42857142857142855', '0.5729166666666667', '0.21666666666666667', '-0.52', '0.2333333333333333', '-0.024999999999999967', '0.1875', '0.09999999999999998', '-0.25925925925925924', '-0.175', '-0.20000000000000004', '0.23333333333333334', '0.19333333333333336', '0.2681818181818182', '-0.48828125', '0.38181818181818183', '0.03409090909090909', '0.042307692307692296', '0.24074074074074078', '0.14999999999999997', '0.25000000000000006', '0.024999999999999994', '-0.14761904761904765', '0.08621933621933621', '-0.02250000000000002', '0.21428571428571427', '0.2714285714285714', '-0.06481481481481478', '-0.05000000000000002', '0.71875', '0.12333333333333335', '-0.19', '0.22888888888888886', '-0.5458333333333334', '0.0625', '-0.22380952380952382', '0.43333333333333335', '-0.23958333333333334', '0.5666666666666667', '0.13484848484848486', '0.05656565656565656', '-0.005555555555555557', '-0.07272727272727272', '0.34027777777777773', '-0.08124999999999999', '0.5416666666666666', '-0.03571428571428571', '-0.055555555555555546', '0.18383838383838383', '0.15625', '-0.10833333333333334', '0.05560606060606059', '0.025000000000000005', '-0.11416666666666665', '-0.04924242424242424', '-0.3125', '-0.10714285714285714', '0.05833333333333333', '0.2590909090909091', '0.08484848484848484', '0.24242424242424243', '0.11875', '0.3375', '-0.06666666666666668', '0.07777777777777779', '-0.0125', '0.48333333333333334', '0.32', '-0.03181818181818183', '0.2888888888888889', '-0.08958333333333335', '-0.003409090909090917', '0.27777777777777773', '0.48522727272727273', '-0.20357142857142854', '0.06999999999999999', '0.2340659340659341', '0.034523809523809526', '-0.03125', '0.07500000000000001', '-0.23333333333333336', '-0.1232142857142857', '0.35511363636363635', '0.15714285714285717', '0.07927272727272727', '-0.3666666666666667', '0.09500000000000001', '0.4125', '0.0008928571428571466', '0.1845', '0.18125', '-0.24000000000000005', '0.18333333333333335', '0.012500000000000011', '0.2916666666666667', '-0.27499999999999997', '-0.31', '0.27499999999999997', '-0.10173992673992674', '-0.056249999999999994', '0.26079545454545455', '-0.10625', '0.010000000000000004', '0.018750000000000003', '-0.225', '0.011111111111111108', '-0.025000000000000022', '-0.03333333333333333', '-0.15625', '-0.02840909090909091', '0.45714285714285713', '0.33999999999999997', '0.5125', '-0.08800000000000001', '0.08035714285714285', '-0.09583333333333334', '0.640625', '0.11125236742424242', '0.016666666666666663', '0.32499999999999996', '-0.00625', '0.22333333333333333', '0.305', '-0.012499999999999997', '0.12738095238095237', '0.26212121212121214', '0.08121212121212121', '-0.6999999999999998', '0.08095238095238096', '0.11533333333333333', '0.24479166666666669', '0.18333333333333332', '0.21000000000000002', '0.17142857142857143', '-0.375', '0.0875', '-0.27999999999999997', '0.203125', '0.1708333333333333', '0.14285714285714285', '0.1787878787878788', '0.9', '-0.1263888888888889', '0.3875', '-0.35', '-0.22500000000000003', '-0.20833333333333334', '0.11363636363636363', '0.38683862433862437', '-0.075', '-0.15555555555555556', '-0.1609375', '-0.2535714285714286', '0.10625', '-0.5625', '0.05357142857142857', '0.790625', '0.29450757575757575', '-0.27306397306397306', '0.009999999999999998', '0.011111111111111106', '0.0014814814814814725', '0.054924242424242424', '0.27159090909090905', '0.24285714285714285', '-0.09375', '0.019444444444444448', '0.016666666666666677', '0.3066666666666667', '-0.05833333333333332', '-0.25875', '-0.09090909090909091', '0.011666666666666667', '0.07847222222222221', '0.25555555555555554', '0.014898989898989893', '-0.04880952380952381', '-0.31666666666666665', '0.25101010101010107', '0.041666666666666664', '-0.09940476190476188', '0.049158249158249144', '0.39999999999999997', '0.13749999999999998', '0.185', '0.45499999999999996', '0.19318181818181818', '-0.20624999999999996', '0.0987878787878788', '0.025', '0.005681818181818177', '0.004761904761904766', '0.11607142857142858', '0.09583333333333333', '0.10392857142857141', '0.013636363636363627', '0.11931818181818182', '-0.042857142857142844', '0.1431818181818182', '-0.23333333333333334', '0.06666666666666665', '-0.37777777777777777', '0.21212121212121213', '-0.016666666666666677', '-0.027777777777777773', '-0.78125', '-0.6549999999999999', '0.03125', '0.35833333333333334', '0.05555555555555555', '-0.09444444444444444', '0.28571428571428575', '0.4375', '0.10416666666666666', '-0.006249999999999978', '0.06820500927643784', '-0.008333333333333331', '-0.09166666666666667', '0.007407407407407394', '0.21666666666666665', '-0.11249999999999996', '0.010714285714285716', '0.1924107142857143', '-0.025757575757575757', '0.18095238095238095', '0.012121212121212116', '-0.13888888888888887', '0.2727272727272727', '-0.2625', '-0.078125', '0.23939393939393938', '-0.2916666666666667', '0.07916666666666666', '-0.0528125', '0.1680555555555556', '-0.04666666666666666', '0.10952380952380954', '-0.07777777777777779', '-0.03454545454545455', '-0.1111111111111111', '-0.205050505050505', '-0.09333333333333334', '0.30714285714285716', '-0.03333333333333331', '-0.2111111111111111', '0.06875', '0.15138888888888888', '0.15476190476190477', '0.18500000000000003', '0.21183035714285714', '0.3833333333333333', '0.06727272727272726', '0.046875', '0.2507142857142857', '0.17857142857142858', '-0.01750841750841751', '0.18055555555555555', '0.1619047619047619', '0.17045454545454544', '0.31145833333333334', '-0.008333333333333335', '-0.09999999999999999', '0.24318181818181817', '0.38', '-0.185', '-0.020833333333333332', '0.3416666666666667', '0.5580357142857143', '0.2833333333333334', '-0.02499999999999998', '0.25757575757575757', '0.18727272727272729', '0.5375', '0.01666666666666668', '0.028787878787878782', '-0.11272727272727275', '-0.14999999999999997', '0.13454545454545455', '-0.4000000000000001', '0.06249999999999999', '0.05454545454545454', '0.1375', '0.18571428571428575', '0.02500000000000001', '0.5625', '0.4083333333333334', '-0.009595959595959616', '-0.02590909090909091', '-0.17195767195767195', '0.5333333333333333', '0.28125', '0.17500000000000004', '0.33333333333333337', '0.2761904761904762', '0.2625', '0.1278409090909091', '0.07454545454545454', '0.5465909090909091', '0.027987012987012994', '-0.052857142857142866', '0.21103896103896103', '-0.37499999999999994', '0.2875', '0.42000000000000004', '-0.3333333333333333', '0.09272727272727273', '0.16193181818181818', '0.5428571428571429', '-0.18571428571428572', '0.34659090909090906', '-0.090625', '0.2023809523809524', '0.1715029761904762', '-0.02777777777777779', '0.19140625', '0.19', '-0.1888888888888889', '0.22272727272727275', '0.6333333333333333', '-0.30833333333333335', '-0.036805555555555564', '0.3666666666666667', '-0.06666666666666665', '-0.02500000000000001', '0.10500000000000001', '0.27142857142857146', '0.3166666666666667', '0.07111816406249999', '-0.04642857142857143', '-0.09722222222222222', '0.19206349206349208', '0.058333333333333334', '-0.21041666666666664', '0.02083333333333333', '0.5190476190476191', '-0.0666666666666667', '0.12023809523809524', '0.08611111111111111', '0.05568181818181818', '-0.2659970238095238', '0.03968253968253969', '0.24523809523809523', '0.007222222222222218', '-0.019999999999999997', '-0.8', '0.047272727272727265', '0.3444444444444444', '0.221875', '0.062121212121212126', '0.15333333333333332', '-0.00833333333333334', '-0.012500000000000011', '-0.1409375', '0.335', '-0.06527777777777777', '-0.11309523809523808', '0.13199999999999998', '0.50625', '-0.15454545454545454', '0.008333333333333352', '0.4000000000000001', '0.2340909090909091', '0.00833333333333334', '-0.038', '0.022222222222222254', '-0.4625', '-0.08181818181818182', '-0.06818181818181818', '0.061111111111111095', '-0.0746031746031746', '0.1142857142857143', '0.875', '-0.044444444444444446', '0.34', '0.11079545454545456', '0.13666666666666666', '-0.7142857142857143', '0.059999999999999984', '0.1857142857142857', '-0.6666666666666666', '0.21927272727272729', '0.11000000000000001', '0.10714285714285714', '0.43', '0.1621212121212121']\n",
      "[33, 1134, 8, 56, 156, 100, 26, 2, 1, 12, 8, 3, 38, 47, 30, 20, 1, 7, 16, 11, 2, 1, 47, 19, 19, 24, 7, 31, 1, 57, 1, 1, 4, 136, 22, 11, 3, 1, 1, 24, 3, 2, 3, 16, 3, 12, 2, 1, 6, 6, 4, 18, 22, 11, 1, 6, 4, 1, 109, 6, 17, 1, 5, 2, 12, 27, 7, 1, 6, 1, 2, 1, 7, 1, 1, 8, 15, 42, 1, 3, 2, 11, 1, 1, 1, 2, 22, 33, 2, 10, 24, 1, 1, 4, 12, 12, 2, 15, 1, 7, 1, 3, 16, 1, 9, 7, 1, 9, 5, 7, 1, 1, 2, 3, 2, 3, 1, 7, 5, 13, 10, 7, 1, 4, 1, 1, 2, 4, 2, 4, 7, 2, 6, 1, 7, 1, 6, 1, 6, 12, 3, 3, 1, 4, 2, 2, 1, 2, 4, 2, 14, 2, 1, 12, 2, 1, 2, 32, 1, 1, 1, 5, 5, 1, 1, 4, 3, 1, 1, 1, 1, 1, 1, 9, 5, 2, 1, 1, 1, 1, 2, 1, 3, 1, 1, 2, 4, 1, 3, 1, 3, 1, 4, 6, 4, 1, 2, 1, 9, 10, 10, 3, 1, 2, 3, 1, 4, 1, 2, 1, 5, 2, 1, 1, 1, 1, 1, 4, 8, 1, 1, 1, 1, 6, 1, 3, 4, 19, 2, 1, 1, 3, 1, 2, 2, 7, 1, 1, 4, 3, 1, 4, 3, 1, 6, 2, 3, 4, 3, 2, 4, 1, 1, 3, 2, 1, 1, 11, 1, 1, 1, 8, 2, 3, 1, 2, 1, 4, 14, 1, 2, 1, 3, 1, 8, 6, 13, 2, 4, 7, 5, 1, 1, 6, 1, 1, 2, 1, 1, 3, 2, 1, 1, 1, 1, 4, 1, 2, 5, 1, 1, 2, 4, 1, 7, 2, 4, 1, 2, 1, 5, 1, 2, 1, 1, 1, 1, 2, 3, 2, 1, 1, 2, 1, 1, 3, 2, 1, 1, 1, 6, 2, 2, 1, 2, 1, 2, 4, 2, 1, 2, 1, 1, 1, 2, 1, 5, 3, 3, 1, 1, 1, 1, 17, 1, 1, 1, 3, 1, 1, 2, 2, 2, 1, 1, 2, 1, 2, 1, 1, 1, 1, 1, 1, 1, 2, 1, 3, 3, 1, 1, 1, 1, 1, 1, 3, 1, 1, 3, 1, 2, 1, 2, 2, 1, 2, 1, 3, 1, 1, 2, 4, 1, 1, 3, 2, 1, 3, 1, 3, 1, 1, 1, 1, 3, 1, 2, 4, 1, 1, 2, 2, 2, 4, 1, 3, 1, 1, 2, 1, 1, 1, 1, 1, 1, 4, 1, 1, 3, 1, 1, 1, 1, 1, 1, 1, 2, 1, 1, 7, 1, 1, 1, 2, 2, 1, 1, 2, 1, 16, 1, 1, 1, 1, 1, 1, 1, 1, 3, 1, 1, 1, 1, 1, 2, 1, 1, 1, 1, 2, 1, 1, 1, 1, 1, 1, 1, 1, 1, 3, 2, 1, 1, 1, 1, 1, 3, 1, 1, 1, 1, 1, 2, 1, 1, 1, 1, 1, 1, 1, 2, 3, 1, 1, 1, 1, 1, 1, 1, 1, 1, 1, 1, 1, 1, 1, 1, 1, 3, 1, 1, 2, 1, 1, 1, 1, 1, 1, 1, 1, 1, 1, 1, 1, 1, 9, 1, 1, 1, 2, 2, 1, 1, 2, 1, 1, 1, 1, 1, 1, 1, 1, 1, 1, 1, 1, 1, 1, 1, 1, 1, 1, 1, 1, 1, 1, 2, 1, 1, 1, 1, 1, 1, 3, 1, 1, 1, 1, 1, 2, 1, 2, 1, 1, 1, 1, 1, 1, 1, 1, 1, 1, 1, 1, 1, 1, 1, 1, 1, 1, 1, 1, 1, 2, 2, 1, 1, 1, 3, 1, 1, 1, 1, 1, 1, 1, 1, 1, 1, 1, 2, 2, 1, 1, 1, 1, 1, 1, 1, 1, 1, 2, 1, 1, 1, 1, 1, 1, 1, 1, 1, 1, 1, 1, 1]\n"
     ]
    }
   ],
   "source": [
    "# Data to plot in a pie chart\n",
    "labels = list(sentiment_count.keys())\n",
    "sizes = list(sentiment_count.values())\n",
    "\n",
    "print(labels)\n",
    "print(sizes)"
   ]
  },
  {
   "cell_type": "markdown",
   "metadata": {},
   "source": [
    "Now plot a pie chart. Look for a line of code below that looks unfamiliar and try to determine what it does."
   ]
  },
  {
   "cell_type": "code",
   "execution_count": 33,
   "metadata": {},
   "outputs": [
    {
     "data": {
      "text/plain": [
       "<Figure size 640x480 with 1 Axes>"
      ]
     },
     "metadata": {},
     "output_type": "display_data"
    }
   ],
   "source": [
    "import matplotlib.pyplot as plt\n",
    " \n",
    "# Reminder: plt.pie(data array, labels array, percent, shadow, starting angle)\n",
    "plt.pie(sizes, labels=labels, autopct='%1.1f%%', shadow=True, startangle=140)\n",
    "plt.title('Tweet Sentiment for ' + current_hashtag) \n",
    "plt.axis('equal')\n",
    "plt.show()\n",
    "plt.savefig('pie.png') # Notice this line of code! What do you think it does?\n",
    "                       # Hint: Check your Twitter Bot Part 4 folder :)"
   ]
  },
  {
   "cell_type": "markdown",
   "metadata": {},
   "source": [
    "**Question \\#8:** What does the *plt.savefig('pie.png')* do? Be specific.\n"
   ]
  },
  {
   "cell_type": "markdown",
   "metadata": {},
   "source": [
    "**Your Answer:** It takes the generated pie chart, and saves it as a png file"
   ]
  },
  {
   "cell_type": "markdown",
   "metadata": {},
   "source": [
    "If you decided to set up a a Twitter developer account, the code below would send out this pie chart as a tweet. If you did not set this up, the code will instead throw an error: "
   ]
  },
  {
   "cell_type": "code",
   "execution_count": 34,
   "metadata": {},
   "outputs": [],
   "source": [
    "my_picture = 'pie.png'\n",
    "\n",
    "my_status = \"Sentiment analysis for the hashtag \" + current_hashtag\n",
    "\n",
    "# If you set up a Twitter account, you could remove the comment below and run this code:\n",
    "#api.update_with_media(my_picture,my_status)"
   ]
  },
  {
   "cell_type": "markdown",
   "metadata": {},
   "source": [
    "**Optional Task \\#7:** Create another sentiment analysis pie chart for one of the other hashtags listed above.\n",
    "\n",
    "* While this task is 100% optional, it is highly recommended.\n",
    "* If you analyze a second hashtag, this will force you to learn what code is necessary to process, analyze and visualize a hashtag."
   ]
  },
  {
   "cell_type": "code",
   "execution_count": null,
   "metadata": {},
   "outputs": [],
   "source": [
    "# Your code here\n"
   ]
  },
  {
   "cell_type": "markdown",
   "metadata": {},
   "source": [
    "### Brainstorm\n",
    "\n",
    "**Question \\#9:** Describe how you might incorporate sentiment analysis into a project that you could work on over the summer. This could be a personal project that you could pursue just for fun, a project that you could complete as part of a job/internship, or a project that you could complete in order to launch your own business. \n"
   ]
  },
  {
   "cell_type": "markdown",
   "metadata": {
    "collapsed": true
   },
   "source": [
    "**Your Answer:** i COULD USE THIS TO SEE SPECIFIC PEOPLES MOODS, ADN POST IT ONLINE SO POEPLE CAN KNOW THE OVERALL MOOD OF PEOPLE, AND REACT ACCORDINGLY"
   ]
  },
  {
   "cell_type": "markdown",
   "metadata": {},
   "source": [
    "### Final Thoughts\n",
    "\n",
    "Thank you all for the strength, resolve, and dedication you showed during the e-learning phase of this course. I'd like to ask that you finish this course by reflecting on just how much you learned this year. You've learned to write code in JavaScript and Python. You've learned about the Internet, cybersecurity, and encryption. You've learned about data, metadata, data science, web scraping, APIs, and more. \n",
    "\n",
    "\n",
    "You've learned to be a creative and ethical. You've learned to become a problem solver. **You are a programmer.**\n",
    "\n",
    "Here's what I would encourage you to do now that you've reached the end of this course:\n",
    "\n",
    "* Back up all of your Python notebooks to your _personal_ Google Drive\n",
    "  * You would be shocked by the number of emails I receive from former students who want copies of their old notebooks to help them prepare for a college course, an internship, or even a new job\n",
    "  * It is difficult to honor these requests, especially when I get emails from students who took the course many years ago\n",
    "  * But if you back up your work now, you'll have access to these materials if (when) you need them again in the future!\n",
    "* This summer, I would encourage you to create a project of your own:\n",
    "  * Use the programming skills and cutting-edge tools you learned in this course\n",
    "  * The **best way to improve as a programmer is to create your own projects!**\n",
    "  * There may have been code in some of the Jupyter notebooks that you used but did not understand\n",
    "    * Once you create a project of your own, you'll begin to understand any of that code that you didn't before!"
   ]
  },
  {
   "cell_type": "code",
   "execution_count": null,
   "metadata": {},
   "outputs": [],
   "source": []
  }
 ],
 "metadata": {
  "kernelspec": {
   "display_name": "Python 3",
   "language": "python",
   "name": "python3"
  },
  "language_info": {
   "codemirror_mode": {
    "name": "ipython",
    "version": 3
   },
   "file_extension": ".py",
   "mimetype": "text/x-python",
   "name": "python",
   "nbconvert_exporter": "python",
   "pygments_lexer": "ipython3",
   "version": "3.7.4"
  }
 },
 "nbformat": 4,
 "nbformat_minor": 1
}
