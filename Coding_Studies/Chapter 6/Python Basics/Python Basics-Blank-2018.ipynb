{
 "cells": [
  {
   "cell_type": "markdown",
   "metadata": {},
   "source": [
    "# Python Basics"
   ]
  },
  {
   "cell_type": "markdown",
   "metadata": {},
   "source": [
    "## Background Information"
   ]
  },
  {
   "cell_type": "markdown",
   "metadata": {},
   "source": [
    "#### Jupyter Notebooks:\n",
    "  * a notebook is a system for combining code and written description\n",
    "    * run a cell: Shift-Enter\n",
    "    * run a cell and add new: Alt-Enter\n",
    "    * keyboard shortcuts: click above and press 'h'\n",
    "  * this text is in a 'markdown cell'\n",
    "  * markdown used for words, description, and paragraphs\n",
    "    * cheat sheet: https://github.com/adam-p/markdown-here/wiki/Markdown-Cheatsheet\n",
    "\n",
    "\n",
    "#### Python:\n",
    "  * our programming language for second semester\n",
    "  * a high-level programming language\n",
    "  * popular with data scientists and academic researchers\n",
    "  * style guide: https://www.python.org/dev/peps/pep-0008/\n",
    "  \n",
    "  \n",
    "#### High-Level Programming Languages:\n",
    "  * more abstraction than a lower-level language\n",
    "  * code more readable (looks a lot like English)\n",
    "  * code is easier to debug since it is easier to read and understand\n",
    "  * do more with less: your code is often shorter than it would otherwise be\n",
    "  * code will often run more slowly than with a lower-level language\n",
    "  \n",
    "#### Open Source\n",
    "  * Python and Jupyter are open source projects\n",
    "    * free for everyone to use (even commercially)\n",
    "  * Open source software:\n",
    "    * source code shared with all, often free to use/change/distribute\n",
    "    * many different open source licenses: Creative Commons, MIT, BSD\n",
    "    * may or may not require attribution to original author\n",
    "    * many open source projects on GitHub (github.com)\n"
   ]
  },
  {
   "cell_type": "markdown",
   "metadata": {},
   "source": [
    "## Working with cells in jupyter notebooks\n",
    "* let's learn how to add cells\n",
    "  * we'll also change between code and markdown"
   ]
  },
  {
   "cell_type": "markdown",
   "metadata": {},
   "source": [
    "# This is a markdown cell\n",
    "* First Indented Bullet Point\n",
    "    * Second Indented Bullet Point\n",
    "        * Thrid indented Bullet Point\n",
    "            * Fourth Indented Bullet Point\n"
   ]
  },
  {
   "cell_type": "markdown",
   "metadata": {},
   "source": [
    "## Comments"
   ]
  },
  {
   "cell_type": "code",
   "execution_count": 2,
   "metadata": {},
   "outputs": [
    {
     "name": "stdout",
     "output_type": "stream",
     "text": [
      "11\n"
     ]
    }
   ],
   "source": [
    "# comment in Python with hashes\n",
    "# add two numbers:\n",
    "print(4+7)\n"
   ]
  },
  {
   "cell_type": "markdown",
   "metadata": {},
   "source": [
    "## Whitespace\n",
    "  * in Python, whitespace matters\n",
    "    * instead of curly braces, use four spaces to mark a block "
   ]
  },
  {
   "cell_type": "code",
   "execution_count": 3,
   "metadata": {},
   "outputs": [
    {
     "name": "stdout",
     "output_type": "stream",
     "text": [
      "1\n",
      "2\n",
      "3\n",
      "4\n",
      "5\n"
     ]
    }
   ],
   "source": [
    "# in this cell, print(n) is part of the block so it is repeated:\n",
    "n = 0\n",
    "for i in range(5):\n",
    "    n = n + 1\n",
    "    print(n)"
   ]
  },
  {
   "cell_type": "code",
   "execution_count": 23,
   "metadata": {},
   "outputs": [
    {
     "name": "stdout",
     "output_type": "stream",
     "text": [
      "5\n"
     ]
    }
   ],
   "source": [
    "# in this cell, print(n) is not part of the block so it only runs once:\n",
    "n = 0\n",
    "for i in range(5):\n",
    "    n = n + 1\n",
    "print(n)"
   ]
  },
  {
   "cell_type": "markdown",
   "metadata": {},
   "source": [
    "## Selection\n",
    "\n",
    "  * also known as decision statements or 'if-else' statements"
   ]
  },
  {
   "cell_type": "code",
   "execution_count": 5,
   "metadata": {},
   "outputs": [
    {
     "name": "stdout",
     "output_type": "stream",
     "text": [
      "It's warming up\n"
     ]
    }
   ],
   "source": [
    "# use 'elif' instead of 'else if'\n",
    "temp = 35\n",
    "if  temp < 32:\n",
    "    print(\"It is freezing\")\n",
    "elif temp < 55:\n",
    "    print(\"It's warming up\")\n",
    "else:\n",
    "    print(\"It's pretty nice out\")"
   ]
  },
  {
   "cell_type": "markdown",
   "metadata": {},
   "source": [
    "## Iteration\n",
    "  * also known a loops ('for' and 'while')"
   ]
  },
  {
   "cell_type": "code",
   "execution_count": 6,
   "metadata": {},
   "outputs": [
    {
     "name": "stdout",
     "output_type": "stream",
     "text": [
      "1 \n",
      "\n",
      "2 \n",
      "\n",
      "3 \n",
      "\n",
      "4 \n",
      "\n",
      "5 \n",
      "\n",
      "6 \n",
      "\n",
      "7 \n",
      "\n"
     ]
    }
   ],
   "source": [
    "# count to 7:\n",
    "for i in range(7):\n",
    "    print(i + 1,\"\\n\")"
   ]
  },
  {
   "cell_type": "code",
   "execution_count": 31,
   "metadata": {},
   "outputs": [
    {
     "name": "stdout",
     "output_type": "stream",
     "text": [
      "10 bottles of root beer on the wall... \n",
      "   Take one down, make a float... \n",
      "9 bottles of root beer on the wall... \n",
      "   Take one down, make a float... \n",
      "8 bottles of root beer on the wall... \n",
      "   Take one down, make a float... \n",
      "7 bottles of root beer on the wall... \n",
      "   Take one down, make a float... \n",
      "6 bottles of root beer on the wall... \n",
      "   Take one down, make a float... \n",
      "5 bottles of root beer on the wall... \n",
      "   Take one down, make a float... \n",
      "4 bottles of root beer on the wall... \n",
      "   Take one down, make a float... \n",
      "3 bottles of root beer on the wall... \n",
      "   Take one down, make a float... \n",
      "2 bottles of root beer on the wall... \n",
      "   Take one down, make a float... \n",
      "1 bottles of root beer on the wall... \n",
      "   Take one down, make a float... \n",
      "\n"
     ]
    }
   ],
   "source": [
    "# try a while loop\n",
    "# read code, THEN press Shift-Enter\n",
    "\n",
    "bottle_count = 10\n",
    "output = \"\"\n",
    "\n",
    "while bottle_count > -0:\n",
    "    output += str(bottle_count) + ' bottles of root beer on the wall... \\n' # str converts bottle_count to a string\n",
    "    output += '   Take one down, make a float... \\n'\n",
    "    bottle_count = bottle_count - 1\n",
    "\n",
    "\n",
    "print(output)"
   ]
  },
  {
   "cell_type": "markdown",
   "metadata": {},
   "source": [
    "## Writing Procedures\n",
    "\n",
    "  * using iteration and selection together"
   ]
  },
  {
   "cell_type": "code",
   "execution_count": 32,
   "metadata": {
    "scrolled": false
   },
   "outputs": [
    {
     "name": "stdout",
     "output_type": "stream",
     "text": [
      "0 is an even number. \n",
      "\n",
      "1 is an odd number. \n",
      "\n",
      "2 is an even number. \n",
      "\n",
      "3 is an odd number. \n",
      "\n",
      "4 is an even number. \n",
      "\n",
      "Whitespace takes some time to understand.\n"
     ]
    }
   ],
   "source": [
    "# read this code, THEN press Shift-Enter\n",
    "for i in range(5):    #5 numbers, starting at 0 gives 0,1,2,3,4\n",
    "    if i % 2 == 1:\n",
    "        print(i,\"is an odd number. \\n\")\n",
    "    else:\n",
    "        print(i,\"is an even number. \\n\")\n",
    "print(\"Whitespace takes some time to understand.\")\n",
    "        #change indentation of above line and predict output!"
   ]
  },
  {
   "cell_type": "code",
   "execution_count": 34,
   "metadata": {},
   "outputs": [
    {
     "name": "stdout",
     "output_type": "stream",
     "text": [
      "0 is an even number. \n",
      "\n",
      "Whitespace takes some time to understand.\n",
      "1 is an odd number. \n",
      "\n",
      "2 is an even number. \n",
      "\n",
      "Whitespace takes some time to understand.\n",
      "3 is an odd number. \n",
      "\n",
      "4 is an even number. \n",
      "\n",
      "Whitespace takes some time to understand.\n"
     ]
    }
   ],
   "source": [
    "# read this code, THEN press Shift-Enter\n",
    "for i in range(5):    #5 numbers, starting at 0 gives 0,1,2,3,4\n",
    "    if i % 2 == 1:\n",
    "        print(i,\"is an odd number. \\n\")\n",
    "    else:\n",
    "        print(i,\"is an even number. \\n\")\n",
    "        print(\"Whitespace takes some time to understand.\")\n",
    "        #change indentation of above line and predict output!"
   ]
  },
  {
   "cell_type": "code",
   "execution_count": 35,
   "metadata": {},
   "outputs": [
    {
     "name": "stdout",
     "output_type": "stream",
     "text": [
      "0 is an even number. \n",
      "\n",
      "Whitespace takes some time to understand.\n",
      "1 is an odd number. \n",
      "\n",
      "Whitespace takes some time to understand.\n",
      "2 is an even number. \n",
      "\n",
      "Whitespace takes some time to understand.\n",
      "3 is an odd number. \n",
      "\n",
      "Whitespace takes some time to understand.\n",
      "4 is an even number. \n",
      "\n",
      "Whitespace takes some time to understand.\n"
     ]
    }
   ],
   "source": [
    "# read this code, THEN press Shift-Enter\n",
    "for i in range(5):    #5 numbers, starting at 0 gives 0,1,2,3,4\n",
    "    if i % 2 == 1:\n",
    "        print(i,\"is an odd number. \\n\")\n",
    "    else:\n",
    "        print(i,\"is an even number. \\n\")\n",
    "    print(\"Whitespace takes some time to understand.\")\n",
    "        #change indentation of above line and predict output!"
   ]
  },
  {
   "cell_type": "code",
   "execution_count": 33,
   "metadata": {},
   "outputs": [
    {
     "name": "stdout",
     "output_type": "stream",
     "text": [
      "0 is an even number. \n",
      "\n",
      "Whitespace takes some time to understand.\n",
      "1 is an odd number. \n",
      "\n",
      "2 is an even number. \n",
      "\n",
      "Whitespace takes some time to understand.\n",
      "3 is an odd number. \n",
      "\n",
      "4 is an even number. \n",
      "\n",
      "Whitespace takes some time to understand.\n"
     ]
    }
   ],
   "source": [
    "# using the append method:\n"
   ]
  },
  {
   "cell_type": "markdown",
   "metadata": {},
   "source": [
    "## Numbers and mathematical operators"
   ]
  },
  {
   "cell_type": "code",
   "execution_count": 38,
   "metadata": {},
   "outputs": [
    {
     "name": "stdout",
     "output_type": "stream",
     "text": [
      "10\n",
      "6\n",
      "16\n"
     ]
    }
   ],
   "source": [
    " # addition \n",
    "print(8+2)\n",
    " # subtraction\n",
    "print(8-2)\n",
    " # multiplication\n",
    "print(8*2)"
   ]
  },
  {
   "cell_type": "code",
   "execution_count": 43,
   "metadata": {},
   "outputs": [
    {
     "name": "stdout",
     "output_type": "stream",
     "text": [
      "2.5\n",
      "3\n",
      "1\n"
     ]
    }
   ],
   "source": [
    " # floating-point division (true division)\n",
    "print(5 / 2)\n",
    " # integer division\n",
    "print(7 // 2)\n",
    " # modulus operator\n",
    "print(7 % 2)"
   ]
  },
  {
   "cell_type": "code",
   "execution_count": 44,
   "metadata": {},
   "outputs": [
    {
     "name": "stdout",
     "output_type": "stream",
     "text": [
      "25\n"
     ]
    }
   ],
   "source": [
    " # 5 raised to the 2nd power (5^2)\n",
    "print(5**2)"
   ]
  },
  {
   "cell_type": "code",
   "execution_count": 313,
   "metadata": {},
   "outputs": [
    {
     "name": "stdout",
     "output_type": "stream",
     "text": [
      "50\n",
      "24\n",
      "13\n",
      "15\n",
      "47\n"
     ]
    }
   ],
   "source": [
    "# generate 3 random numbers between 10 and 50\n",
    "\n",
    "\n",
    "# import the random module:\n",
    "import random\n",
    "\n",
    "# for loop:\n",
    "for i in range(5):\n",
    "    num = random.randint(10,50)\n",
    "    print(num)"
   ]
  },
  {
   "cell_type": "code",
   "execution_count": 320,
   "metadata": {},
   "outputs": [],
   "source": [
    "# access documentation\n",
    "?random.randint"
   ]
  },
  {
   "cell_type": "markdown",
   "metadata": {},
   "source": [
    "## Variables and Functions"
   ]
  },
  {
   "cell_type": "code",
   "execution_count": 327,
   "metadata": {},
   "outputs": [
    {
     "name": "stdout",
     "output_type": "stream",
     "text": [
      "Object `print()` not found.\n"
     ]
    }
   ],
   "source": [
    "# to create a variable, simply assign a value to it:\n",
    "grade = 100\n",
    "print(100)"
   ]
  },
  {
   "cell_type": "code",
   "execution_count": 335,
   "metadata": {},
   "outputs": [
    {
     "name": "stdout",
     "output_type": "stream",
     "text": [
      "Your message is: Hello World!\n"
     ]
    }
   ],
   "source": [
    "# use def to define a function:\n",
    "def print_message(msg):\n",
    "        output = \"Your message is: \"\n",
    "        output = output + msg\n",
    "        print(output)\n",
    "        \n",
    "# function call\n",
    "print_message(\"Hello World!\")"
   ]
  },
  {
   "cell_type": "markdown",
   "metadata": {},
   "source": [
    "## Strings"
   ]
  },
  {
   "cell_type": "code",
   "execution_count": 338,
   "metadata": {},
   "outputs": [
    {
     "name": "stdout",
     "output_type": "stream",
     "text": [
      "Mr. Nichols is the most average teacher\n"
     ]
    }
   ],
   "source": [
    "# single or double quotes for strings, but be consistent\n",
    "msg1 = \"Mr. Nichols is\"\n",
    "msg2 = \"the most average teacher\"\n",
    "print(msg1,msg2)"
   ]
  },
  {
   "cell_type": "code",
   "execution_count": 339,
   "metadata": {},
   "outputs": [
    {
     "name": "stdout",
     "output_type": "stream",
     "text": [
      "This is a new line \n",
      "of text\n"
     ]
    }
   ],
   "source": [
    "# backslash to encode special characters\n",
    "new_line = \"\\n\"     # finish this line with your teacher\n",
    "print('This is a new line ' + new_line + 'of text')"
   ]
  },
  {
   "cell_type": "code",
   "execution_count": 340,
   "metadata": {},
   "outputs": [
    {
     "name": "stdout",
     "output_type": "stream",
     "text": [
      "This will not give a \\n new line of text\n",
      "This will give a\n",
      "new line of text\n"
     ]
    }
   ],
   "source": [
    "# PRELOADED\n",
    "# r to represent a raw string (example: if you want a backslash to appear and not signify a new line)\n",
    "not_new_line = r\"\\n\"   # finish this line with your teacher\n",
    "new_line = \"\\n\"\n",
    "print('This will not give a ' + not_new_line + ' new line of text')\n",
    "print ('This will give a' + new_line + 'new line of text')"
   ]
  },
  {
   "cell_type": "code",
   "execution_count": 346,
   "metadata": {},
   "outputs": [
    {
     "name": "stdout",
     "output_type": "stream",
     "text": [
      "/n\n",
      "The Red Wheelbarrow\n",
      "William Carlos Williams\n",
      "\n",
      " so much depends\n",
      "upon\n",
      "\n",
      "a red wheel\n",
      "barrow\n",
      "\n",
      "glazed with rain\n",
      "water\n",
      "\n",
      "beside the white\n",
      "chickens.\n"
     ]
    }
   ],
   "source": [
    "# triple (double) quotes to create a multi-line string\n",
    "myMessage = \"\"\"\n",
    "The Red Wheelbarrow\n",
    "William Carlos Williams\n",
    "\n",
    " so much depends\n",
    "upon\n",
    "\n",
    "a red wheel\n",
    "barrow\n",
    "\n",
    "glazed with rain\n",
    "water\n",
    "\n",
    "beside the white\n",
    "chickens.\"\"\"\n",
    "print(myMessage)"
   ]
  },
  {
   "cell_type": "markdown",
   "metadata": {},
   "source": [
    "# Name: Saipranav venkatakrishnan\n",
    "# Date:2/16/2020"
   ]
  },
  {
   "cell_type": "markdown",
   "metadata": {
    "collapsed": true
   },
   "source": [
    "## Task 1\n",
    "\n",
    "* Write a for-loop that prints out all positive perfect squares less than 31^2 that are not divisible by 3"
   ]
  },
  {
   "cell_type": "code",
   "execution_count": 25,
   "metadata": {
    "scrolled": true
   },
   "outputs": [
    {
     "name": "stdout",
     "output_type": "stream",
     "text": [
      "[1, 4, 16, 25, 49, 64, 100, 121, 169, 196, 256, 289, 361, 400, 484, 529, 625, 676, 784, 841]\n"
     ]
    }
   ],
   "source": [
    "num = []\n",
    "for i in range(31**2):\n",
    "    if i % 3 != 0 and i % i**(1/2) == 0:\n",
    "        num.append(i)\n",
    "print(num)"
   ]
  },
  {
   "cell_type": "markdown",
   "metadata": {
    "collapsed": true
   },
   "source": [
    "## Task 2\n",
    "\n",
    "* Part 1: define a function, describe_temp(current_temp), that returns a descriptive string that describes the current temperature\n",
    "  * Sample outputs: \n",
    "    * describe_temp(82) might return '82 degrees is beach weather!'\n",
    "    * describe_temp(71) might return '71 degrees is barbecue weather!'\n",
    "    * describe_temp(25) might return '25 degrees is Chicago weather.'\n",
    "\n",
    "* Part 2: Write an expression that passes a random number from 0 to 100 to describe_temp "
   ]
  },
  {
   "cell_type": "code",
   "execution_count": 24,
   "metadata": {},
   "outputs": [
    {
     "name": "stdout",
     "output_type": "stream",
     "text": [
      "40 degrees is Chicago weather\n"
     ]
    }
   ],
   "source": [
    "import random\n",
    "temp = random.randint(0,100)\n",
    "if  temp >= 82:\n",
    "    print(str(temp) + \" degrees is beach weather\")\n",
    "elif temp >= 71:\n",
    "    print(str(temp) + \" degrees is barbecue weather\")\n",
    "else:\n",
    "    print(str(temp) + \" degrees is Chicago weather\")"
   ]
  }
 ],
 "metadata": {
  "kernelspec": {
   "display_name": "Python 3",
   "language": "python",
   "name": "python3"
  },
  "language_info": {
   "codemirror_mode": {
    "name": "ipython",
    "version": 3
   },
   "file_extension": ".py",
   "mimetype": "text/x-python",
   "name": "python",
   "nbconvert_exporter": "python",
   "pygments_lexer": "ipython3",
   "version": "3.7.4"
  }
 },
 "nbformat": 4,
 "nbformat_minor": 1
}
