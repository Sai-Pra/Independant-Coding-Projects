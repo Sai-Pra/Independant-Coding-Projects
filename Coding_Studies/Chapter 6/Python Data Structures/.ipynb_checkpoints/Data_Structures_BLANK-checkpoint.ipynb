{
 "cells": [
  {
   "cell_type": "markdown",
   "metadata": {},
   "source": [
    "# Data Structures\n",
    "* data structures are different ways of storing a data set\n",
    "  *\n",
    "  *\n",
    "  *\n",
    "\n",
    "\n",
    "* three data structures in this notebook:\n",
    "  *\n",
    "  *\n",
    "  *"
   ]
  },
  {
   "cell_type": "markdown",
   "metadata": {},
   "source": [
    "## Lists (ordered collection) [ ]"
   ]
  },
  {
   "cell_type": "code",
   "execution_count": 85,
   "metadata": {},
   "outputs": [
    {
     "name": "stdout",
     "output_type": "stream",
     "text": [
      "['Blue', 'Red', 'White']\n"
     ]
    }
   ],
   "source": [
    "# Create a list of colors\n",
    "# Similar to arrays from JavaScript\n",
    "colors = [\"Blue\", \"Red\", \"White\"]\n",
    "print(colors)"
   ]
  },
  {
   "cell_type": "code",
   "execution_count": 86,
   "metadata": {},
   "outputs": [
    {
     "name": "stdout",
     "output_type": "stream",
     "text": [
      "['Blue', 'Red', 'White', 'Purple']\n"
     ]
    }
   ],
   "source": [
    "# Add a single element to the list  \n",
    "# (using the 'append' method for the 'list' class)\n",
    "colors.append(\"Purple\")\n",
    "print(colors)"
   ]
  },
  {
   "cell_type": "code",
   "execution_count": 87,
   "metadata": {},
   "outputs": [
    {
     "name": "stdout",
     "output_type": "stream",
     "text": [
      "['Blue', 'Red', 'White', 'Purple', 'Pink', 'Magenta']\n"
     ]
    }
   ],
   "source": [
    "# Add multiple elements to the list\n",
    "# (using the 'extend' method for lists):\n",
    "colors.extend([\"Pink\", \"Magenta\"])\n",
    "print(colors)"
   ]
  },
  {
   "cell_type": "code",
   "execution_count": 88,
   "metadata": {},
   "outputs": [
    {
     "name": "stdout",
     "output_type": "stream",
     "text": [
      "['Blue', 'Red', 'White', 'Purple', 'Pink', 'Magenta']\n"
     ]
    }
   ],
   "source": [
    "# Get the length of the list:\n",
    "length = len(colors)\n",
    "print(colors)"
   ]
  },
  {
   "cell_type": "code",
   "execution_count": 129,
   "metadata": {},
   "outputs": [
    {
     "name": "stdout",
     "output_type": "stream",
     "text": [
      "I have 8 pairs of Magenta socks.\n"
     ]
    }
   ],
   "source": [
    "# loop over the list:\n",
    "sock_list = []\n",
    "import random\n",
    "\n",
    "for i in range(length):\n",
    "    sock_color = colors[i]\n",
    "    sock_quantity = str(random.randint(0, 10))\n",
    "    # Don't forget to use str in paranthesis\n",
    "    sock_message = \"I have \" + sock_quantity + \" pairs of \" + sock_color + \" socks.\"\n",
    "    sock_list.append(sock_message)\n",
    "    \n",
    "print(sock_message)"
   ]
  },
  {
   "cell_type": "markdown",
   "metadata": {},
   "source": [
    "## Searching\n",
    "* Sytax\n",
    "    * \"item\" in \"list\"\n",
    "    * Search for this \"item\" in this \"list\"\n",
    "* Examines list one-by-one (linear)\n",
    "* Typically slow for long lists"
   ]
  },
  {
   "cell_type": "code",
   "execution_count": 133,
   "metadata": {},
   "outputs": [
    {
     "name": "stdout",
     "output_type": "stream",
     "text": [
      "True False\n"
     ]
    }
   ],
   "source": [
    "yellow = \"Yellow\" in colors\n",
    "blue = \"Blue\" in colors\n",
    "print(blue, yellow)"
   ]
  },
  {
   "cell_type": "markdown",
   "metadata": {},
   "source": [
    "### Slicing Lists\n",
    "  * Syntax for slicing a list named \"myList\" - myList[start, end, skip]\n",
    "    * default value for start is 0 (inclusive)\n",
    "    * default value for end is myList.length (exclusive)\n",
    "    * skip is how many elements to jump by\n",
    "      * print(myList[::2]) would print every other value from beginning to end\n",
    "      * print(myList[::-1]) would print all values backwards from end to beginning"
   ]
  },
  {
   "cell_type": "code",
   "execution_count": null,
   "metadata": {},
   "outputs": [],
   "source": [
    "print(colors)"
   ]
  },
  {
   "cell_type": "code",
   "execution_count": 135,
   "metadata": {},
   "outputs": [
    {
     "name": "stdout",
     "output_type": "stream",
     "text": [
      "Blue\n"
     ]
    }
   ],
   "source": [
    "# Print the element indexed at -2\n",
    "print(colors[-6])"
   ]
  },
  {
   "cell_type": "code",
   "execution_count": 140,
   "metadata": {},
   "outputs": [
    {
     "name": "stdout",
     "output_type": "stream",
     "text": [
      "['Blue', 'Red']\n"
     ]
    }
   ],
   "source": [
    "# Print the elements from index 0 (inclusive) to the index 2 (exclusive)\n",
    "print(colors[:2])"
   ]
  },
  {
   "cell_type": "code",
   "execution_count": 142,
   "metadata": {},
   "outputs": [
    {
     "name": "stdout",
     "output_type": "stream",
     "text": [
      "['Purple', 'Pink', 'Magenta']\n"
     ]
    }
   ],
   "source": [
    "# Print the elements from index 3 (inclusive) to the end of the list\n",
    "print(colors[3:])"
   ]
  },
  {
   "cell_type": "code",
   "execution_count": 143,
   "metadata": {},
   "outputs": [
    {
     "name": "stdout",
     "output_type": "stream",
     "text": [
      "['Red', 'White', 'Purple']\n"
     ]
    }
   ],
   "source": [
    "# Print the elements from index 1 (inclusive) to index 4 (exclusive)\n",
    "print(colors[1:4])"
   ]
  },
  {
   "cell_type": "code",
   "execution_count": 147,
   "metadata": {},
   "outputs": [
    {
     "name": "stdout",
     "output_type": "stream",
     "text": [
      "['Magenta']\n"
     ]
    }
   ],
   "source": [
    "# Print the list backwards\n",
    "print(colors[::-1])"
   ]
  },
  {
   "cell_type": "code",
   "execution_count": 148,
   "metadata": {},
   "outputs": [
    {
     "data": {
      "text/plain": [
       "list"
      ]
     },
     "execution_count": 148,
     "metadata": {},
     "output_type": "execute_result"
    }
   ],
   "source": [
    "# Check the data type\n",
    "type(colors)"
   ]
  },
  {
   "cell_type": "code",
   "execution_count": 151,
   "metadata": {},
   "outputs": [
    {
     "name": "stdout",
     "output_type": "stream",
     "text": [
      "dark and stormy night.\n"
     ]
    }
   ],
   "source": [
    "# Slicing also works on Strings\n",
    "sentence = \"It was a dark and stormy night.\"\n",
    "\n",
    "# Slice out \"dark and stormy night\"\n",
    "print(sentence[9:])"
   ]
  },
  {
   "cell_type": "code",
   "execution_count": 1,
   "metadata": {},
   "outputs": [
    {
     "name": "stdout",
     "output_type": "stream",
     "text": [
      "ELIZABETH\n"
     ]
    }
   ],
   "source": [
    "# Reveal the secret message in an Acrostic \n",
    "    # Hint: Look at the first letter of each line\n",
    "\n",
    "# An Acrostic by Edgar Allan Poe\n",
    "acrostic = \"\"\"Elizabeth it is in vain you say\n",
    "Love not — thou sayest it in so sweet a way:\n",
    "In vain those words from thee or L.E.L.\n",
    "Zantippe’s talents had enforced so well:\n",
    "Ah! if that language from thy heart arise,\n",
    "Breath it less gently forth — and veil thine eyes.\n",
    "Endymion, recollect, when Luna tried\n",
    "To cure his love — was cured of all beside —\n",
    "His follie — pride — and passion — for he died.\"\"\"\n",
    "\n",
    "secret_message = \"\"                # acrostic = [\"Elizabeth it is in vain you say\",\n",
    "acrostic = acrostic.split('\\n')    #             \"Love not — thou sayest it in so sweet a way:\",\n",
    "for line in acrostic:              #             \"In vain those words from thee or L.E.L.\",\n",
    "    secret_message += line[0]      #             \"Zantippe’s talents had enforced so well:\",\n",
    "                                   #              ... ] \n",
    "print(secret_message)"
   ]
  },
  {
   "cell_type": "markdown",
   "metadata": {},
   "source": [
    "## Tuples( )\n",
    "* Use ( ) or nothing, but stay consistent\n",
    "    * (a,b)   <=>   a,b\n",
    "* Similar to lists, but cannot modify them"
   ]
  },
  {
   "cell_type": "code",
   "execution_count": 4,
   "metadata": {},
   "outputs": [
    {
     "name": "stdout",
     "output_type": "stream",
     "text": [
      "82\n",
      "47\n",
      "8247\n"
     ]
    }
   ],
   "source": [
    "# Use tuples for storing/assigning multiple values in the same line\n",
    "a, b, c = 82, 47, 8247\n",
    "print(a)\n",
    "print(b)\n",
    "print(c)"
   ]
  },
  {
   "cell_type": "code",
   "execution_count": 11,
   "metadata": {},
   "outputs": [
    {
     "name": "stdout",
     "output_type": "stream",
     "text": [
      "Red\n",
      "Ballon\n"
     ]
    }
   ],
   "source": [
    "# How to swap elements in Python\n",
    "# Start with variables x and y\n",
    "x, y = \"Red\", \"Ballon\"\n",
    "print(x)\n",
    "print(y)\n"
   ]
  },
  {
   "cell_type": "code",
   "execution_count": 12,
   "metadata": {},
   "outputs": [
    {
     "name": "stdout",
     "output_type": "stream",
     "text": [
      "Ballon\n",
      "Red\n"
     ]
    }
   ],
   "source": [
    "# Swap using tuples\n",
    "x,y = y,x\n",
    "print(x)\n",
    "print(y)\n",
    "\n",
    "# In other languages, this would take 3 lines of code and a temporary variable:\n",
    "    # temp = x\n",
    "    # x = y\n",
    "    # y = temp"
   ]
  },
  {
   "cell_type": "code",
   "execution_count": 31,
   "metadata": {},
   "outputs": [
    {
     "name": "stdout",
     "output_type": "stream",
     "text": [
      "(53, 0)\n"
     ]
    }
   ],
   "source": [
    "# Define a function that takes two numbers as parameters, and returns the tuple (sum,product) \n",
    "import random\n",
    "def sum_product(x, y):\n",
    "    s = x + y\n",
    "    p = x * y\n",
    "    return s, p\n",
    "\n",
    "sp = sum_product(4, 7)\n",
    "print(sp)"
   ]
  },
  {
   "cell_type": "code",
   "execution_count": 17,
   "metadata": {},
   "outputs": [
    {
     "name": "stdout",
     "output_type": "stream",
     "text": [
      "<class 'tuple'>\n"
     ]
    }
   ],
   "source": [
    "# If you don't know what type of data you are working with, just check!\n",
    "print(type(sp))"
   ]
  },
  {
   "cell_type": "code",
   "execution_count": 33,
   "metadata": {},
   "outputs": [
    {
     "name": "stdout",
     "output_type": "stream",
     "text": [
      "11 28\n"
     ]
    }
   ],
   "source": [
    "# Assigning tuples with return values\n",
    "a, b = sum_product(4, 7)\n",
    "print(a, b)"
   ]
  },
  {
   "cell_type": "code",
   "execution_count": 34,
   "metadata": {},
   "outputs": [
    {
     "name": "stdout",
     "output_type": "stream",
     "text": [
      "<class 'int'>\n",
      "<class 'int'>\n"
     ]
    }
   ],
   "source": [
    "# Check what type of data the variables are\n",
    "print(type(a))\n",
    "print(type(b))"
   ]
  },
  {
   "cell_type": "markdown",
   "metadata": {},
   "source": [
    "## Dictionaries \n",
    "* Use { } \n",
    "* Associate \"keys\" with \"values\"\n",
    "    * key:value\n",
    "* Don't take the word dictionary too literally "
   ]
  },
  {
   "cell_type": "markdown",
   "metadata": {},
   "source": [
    "#### Keys are immutable (unchangable) and must be unique (no duplicates)"
   ]
  },
  {
   "cell_type": "code",
   "execution_count": 41,
   "metadata": {},
   "outputs": [
    {
     "name": "stdout",
     "output_type": "stream",
     "text": [
      "{8717: 'J. Cole', 2309: 'Kendrick Lamar', 4008: 'Drake', 9904: 'Cardi B.', 1576: 'J. Cole'}\n"
     ]
    }
   ],
   "source": [
    "# Dictionary keys: Student ID numbers\n",
    "# Dictionary values: Student names\n",
    "    # Are the keys unique in this example?\n",
    "idNames = {8717:\"J. Cole\", 2309: \"Kendrick Lamar\", 4008:\"Drake\", 9904:\"Cardi B.\", 1576:\"J. Cole\"} \n",
    "print(idNames)"
   ]
  },
  {
   "cell_type": "code",
   "execution_count": 39,
   "metadata": {},
   "outputs": [
    {
     "name": "stdout",
     "output_type": "stream",
     "text": [
      "Cardi B.\n",
      "J. Cole\n"
     ]
    }
   ],
   "source": [
    "# Dictionary lookup is very fast\n",
    "    # Use the \"key\" to retrieve its associated \"value\"\n",
    "print(idNames[9904])\n",
    "print(idNames[8717])"
   ]
  },
  {
   "cell_type": "code",
   "execution_count": 42,
   "metadata": {},
   "outputs": [
    {
     "name": "stdout",
     "output_type": "stream",
     "text": [
      "{8717: 'J. Cole', 2309: 'Kendrick Lamar', 4008: 'Drake', 9904: 'Cardi B.', 1576: 'J. Cole', 1822: 'Post Malone', 3310: 'Logic'}\n"
     ]
    }
   ],
   "source": [
    "# Assign new value pairs\n",
    "idNames[1822] = \"Post Malone\"\n",
    "idNames[3310] = \"Logic\"\n",
    "print(idNames)"
   ]
  },
  {
   "cell_type": "code",
   "execution_count": 43,
   "metadata": {},
   "outputs": [
    {
     "name": "stdout",
     "output_type": "stream",
     "text": [
      "7\n"
     ]
    }
   ],
   "source": [
    "# Check the length of the dictionary\n",
    "length = len(idNames)\n",
    "print(length)"
   ]
  },
  {
   "cell_type": "code",
   "execution_count": 48,
   "metadata": {},
   "outputs": [
    {
     "name": "stdout",
     "output_type": "stream",
     "text": [
      "True\n"
     ]
    }
   ],
   "source": [
    "# Search through a dictionary similar to lists\n",
    "    # Typically slow for a list\n",
    "    # Typically fast for a dictionary!\n",
    "print(2309 in idNames)"
   ]
  },
  {
   "cell_type": "code",
   "execution_count": null,
   "metadata": {},
   "outputs": [],
   "source": [
    "# Try a key that is not in our dictionary:"
   ]
  },
  {
   "cell_type": "markdown",
   "metadata": {},
   "source": [
    "# Name: Saipranav venkatakrishnan\n",
    "# Date:2/16/2020"
   ]
  },
  {
   "cell_type": "markdown",
   "metadata": {},
   "source": [
    "## Task 1\n",
    "  * use a for loop to create a list of 31 random numbers between -5 and 35\n",
    "    * Example: [-4, 31, 0, 1, 8, 19, 8,..., 22]\n",
    "  "
   ]
  },
  {
   "cell_type": "code",
   "execution_count": 52,
   "metadata": {
    "scrolled": false
   },
   "outputs": [
    {
     "name": "stdout",
     "output_type": "stream",
     "text": [
      "[30, 31, 19, 12, 32, -5, 35, 9, 7, -1, 28, -1, 9, 34, 9, -4, 0, 22, 32, 2, 22, 31, 35, 13, 25, 6, -4, 14, 26, -5, 7]\n"
     ]
    }
   ],
   "source": [
    "import random\n",
    "numList = []\n",
    "for i in range(31):\n",
    "    numList.append(random.randint(-5, 35))\n",
    "print(numList)"
   ]
  },
  {
   "cell_type": "markdown",
   "metadata": {},
   "source": [
    "## Task 2\n",
    "  * 1) Check if 32 degrees appears in your list of temperatures\n",
    "  * 2) Pick a temperature that does appear in your list. Write some code that shows that this temperature appears in your list of temperatures\n",
    "  * 3) Verify that the length of your list is 31\n",
    "  "
   ]
  },
  {
   "cell_type": "code",
   "execution_count": 53,
   "metadata": {},
   "outputs": [
    {
     "name": "stdout",
     "output_type": "stream",
     "text": [
      "The length of the tempreture list is 31\n",
      "7 degrees appears on the list\n",
      "32 degrees appears on the list\n"
     ]
    }
   ],
   "source": [
    "length = len(numList)\n",
    "print(\"The length of the tempreture list is \" + str(length))\n",
    "print(str(numList[random.randint(0, 31)]) + \" degrees appears on the list\")\n",
    "if 32 in numList:\n",
    "    print(\"32 degrees appears on the list\")\n",
    "else:\n",
    "    print(\"32 doesn't degrees appears on the list\")"
   ]
  },
  {
   "cell_type": "markdown",
   "metadata": {},
   "source": [
    "## Task 3\n",
    "  * use print and your list to write a for loop in the following form:\n",
    "    * The temperature on January 1 was -4 degrees F. \n",
    "    * The temperature on January 2 was 31 degrees F. \n",
    "    * The temperature on January 3 was 0 degrees F. \n",
    "    * ...\n",
    "    * The temperature on January 31 was 22 degrees F.\n",
    "  "
   ]
  },
  {
   "cell_type": "code",
   "execution_count": 63,
   "metadata": {},
   "outputs": [
    {
     "name": "stdout",
     "output_type": "stream",
     "text": [
      "['The tempreture on January 1 is 30 degrees Farenheit', 'The tempreture on January 2 is 31 degrees Farenheit', 'The tempreture on January 3 is 19 degrees Farenheit', 'The tempreture on January 4 is 12 degrees Farenheit', 'The tempreture on January 5 is 32 degrees Farenheit', 'The tempreture on January 6 is -5 degrees Farenheit', 'The tempreture on January 7 is 35 degrees Farenheit', 'The tempreture on January 8 is 9 degrees Farenheit', 'The tempreture on January 9 is 7 degrees Farenheit', 'The tempreture on January 10 is -1 degrees Farenheit', 'The tempreture on January 11 is 28 degrees Farenheit', 'The tempreture on January 12 is -1 degrees Farenheit', 'The tempreture on January 13 is 9 degrees Farenheit', 'The tempreture on January 14 is 34 degrees Farenheit', 'The tempreture on January 15 is 9 degrees Farenheit', 'The tempreture on January 16 is -4 degrees Farenheit', 'The tempreture on January 17 is 0 degrees Farenheit', 'The tempreture on January 18 is 22 degrees Farenheit', 'The tempreture on January 19 is 32 degrees Farenheit', 'The tempreture on January 20 is 2 degrees Farenheit', 'The tempreture on January 21 is 22 degrees Farenheit', 'The tempreture on January 22 is 31 degrees Farenheit', 'The tempreture on January 23 is 35 degrees Farenheit', 'The tempreture on January 24 is 13 degrees Farenheit', 'The tempreture on January 25 is 25 degrees Farenheit', 'The tempreture on January 26 is 6 degrees Farenheit', 'The tempreture on January 27 is -4 degrees Farenheit', 'The tempreture on January 28 is 14 degrees Farenheit', 'The tempreture on January 29 is 26 degrees Farenheit', 'The tempreture on January 30 is -5 degrees Farenheit', 'The tempreture on January 31 is 7 degrees Farenheit']\n"
     ]
    }
   ],
   "source": [
    "temp = []\n",
    "for i in range(31):\n",
    "    number = numList[i]\n",
    "    new_line = \"\\n\"\n",
    "    temp.append(\"The tempreture on January \" + str(i+1) + \" is \" + str(number) + \" degrees Farenheit\")\n",
    "print(str(temp))"
   ]
  },
  {
   "cell_type": "markdown",
   "metadata": {},
   "source": [
    "## Challenge\n",
    "  * use lists and math operators to write a function hex_converter(input) that takes a decimal number as input and returns its hexadecimal equivalent as output \n",
    "    * show the output for hex_converter(255), hex_converter(10), hex_converter(851) to show that your algorithm works\n",
    "  "
   ]
  },
  {
   "cell_type": "code",
   "execution_count": null,
   "metadata": {
    "collapsed": true
   },
   "outputs": [],
   "source": []
  }
 ],
 "metadata": {
  "kernelspec": {
   "display_name": "Python 3",
   "language": "python",
   "name": "python3"
  },
  "language_info": {
   "codemirror_mode": {
    "name": "ipython",
    "version": 3
   },
   "file_extension": ".py",
   "mimetype": "text/x-python",
   "name": "python",
   "nbconvert_exporter": "python",
   "pygments_lexer": "ipython3",
   "version": "3.7.4"
  }
 },
 "nbformat": 4,
 "nbformat_minor": 1
}
