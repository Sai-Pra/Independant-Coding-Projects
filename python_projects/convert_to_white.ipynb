{
 "cells": [
  {
   "cell_type": "code",
   "execution_count": 2,
   "metadata": {},
   "outputs": [
    {
     "name": "stdout",
     "output_type": "stream",
     "text": [
      "Requirement already satisfied: Pillow in c:\\users\\saipr\\anaconda3\\lib\\site-packages (9.4.0)\n"
     ]
    }
   ],
   "source": [
    "!pip install Pillow"
   ]
  },
  {
   "cell_type": "code",
   "execution_count": 27,
   "metadata": {},
   "outputs": [],
   "source": [
    "from PIL import Image\n",
    "\n",
    "# Open the existing image\n",
    "image_name = \"CME_Group\"\n",
    "image_path = \"C:/Users/saipr/Desktop/Independant Coding Projects/Website_Attempt_3/images/{}.png\".format(image_name)\n",
    "image = Image.open(image_path)\n",
    "\n",
    "# Create a new image with white background\n",
    "new_image = Image.new(\"RGBA\", image.size, (255, 255, 255, 0))\n",
    "\n",
    "# Loop through each pixel and copy it to the new image while replacing non-transparent pixels with white\n",
    "for x in range(image.width):\n",
    "    for y in range(image.height):\n",
    "        pixel = image.getpixel((x, y))\n",
    "        if pixel[2] > 62:\n",
    "            new_image.putpixel((x, y), (255, 255, 255))\n",
    "        else:\n",
    "            new_image.putpixel((x, y), (0, 0, 0))  # Set white color with the original alpha\n",
    "\n",
    "# Save the resulting image\n",
    "new_image.save(\"C:/Users/saipr/Desktop/Independant Coding Projects/Website_Attempt_3/images/{}_white.png\".format(image_name))\n",
    "\n",
    "# Display the image (optional)\n",
    "new_image.show()\n"
   ]
  },
  {
   "cell_type": "code",
   "execution_count": null,
   "metadata": {},
   "outputs": [],
   "source": []
  },
  {
   "cell_type": "code",
   "execution_count": null,
   "metadata": {},
   "outputs": [],
   "source": []
  }
 ],
 "metadata": {
  "kernelspec": {
   "display_name": "base",
   "language": "python",
   "name": "python3"
  },
  "language_info": {
   "codemirror_mode": {
    "name": "ipython",
    "version": 3
   },
   "file_extension": ".py",
   "mimetype": "text/x-python",
   "name": "python",
   "nbconvert_exporter": "python",
   "pygments_lexer": "ipython3",
   "version": "3.10.9"
  },
  "orig_nbformat": 4
 },
 "nbformat": 4,
 "nbformat_minor": 2
}
