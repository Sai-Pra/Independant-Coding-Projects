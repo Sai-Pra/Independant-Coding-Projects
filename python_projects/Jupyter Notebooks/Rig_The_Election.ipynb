{
 "cells": [
  {
   "cell_type": "markdown",
   "id": "e1cacf28",
   "metadata": {},
   "source": [
    "Hello there! If you are reading this, you must be curious about what \"Rig the Election\" must mean.\n",
    "\n",
    "For context, I (Sai) at the time of writing this am a freshman at the University of Illinois at Urbana Champaign. In my dorm, we have a door decoration context, however, it was aparantly made to be cheated according to my Resident Advisor. This is because the google form the election is ran thoguh can be voted on multiple times, and doesnt track who submits which vote. As a result, our RA challenged our floor to try to vote our doors with the most amount of votes. This is my effort to automate this; specifically in a way to make our floor have the most votes and my door be the door contest winner."
   ]
  },
  {
   "cell_type": "code",
   "execution_count": 12,
   "id": "9813dd85",
   "metadata": {},
   "outputs": [
    {
     "name": "stderr",
     "output_type": "stream",
     "text": [
      "C:\\Users\\saipr\\AppData\\Local\\Temp\\ipykernel_18200\\2345549580.py:9: DeprecationWarning: executable_path has been deprecated, please pass in a Service object\n",
      "  driver = webdriver.Chrome('C:\\webdriver\\chromedriver.exe', chrome_options=chrome_options)\n",
      "C:\\Users\\saipr\\AppData\\Local\\Temp\\ipykernel_18200\\2345549580.py:9: DeprecationWarning: use options instead of chrome_options\n",
      "  driver = webdriver.Chrome('C:\\webdriver\\chromedriver.exe', chrome_options=chrome_options)\n"
     ]
    }
   ],
   "source": [
    "# Below are dependancies needed to run Selenium; I will be using a Chrome WebDriver to open up and run chrome from my ntoebook\n",
    "import selenium\n",
    "from selenium import webdriver\n",
    "from selenium.webdriver.common.keys import Keys\n",
    "from selenium.webdriver.common.by import By\n",
    "import time\n",
    "\n",
    "# I choose to open Chrome up in incognito, and point to where the Chrome WebDriver software is\n",
    "chrome_options = webdriver.ChromeOptions()\n",
    "chrome_options.add_argument(\"--incognito\")\n",
    "driver = webdriver.Chrome('C:\\webdriver\\chromedriver.exe', chrome_options=chrome_options)\n",
    " \n",
    "# I open up the google from from here directly, and wait 1 second the webpage to fully load\n",
    "driver.get('https://docs.google.com/forms/d/e/1FAIpQLSczxU9dM9xHlQa4wPjRk90gjJ3VSUGdDH0Srm7KW2DA27jp8g/viewform')\n",
    "time.sleep(1)\n",
    "\n",
    "# Below, I find all the instances of buttons (Options for who to vote for), and because I reliably know where my door is,\n",
    "# I know to set the button to click as the 13th button. I submit my vote and then reenter he form to vote again. I set this\n",
    "# to repeat 300 times\n",
    "\n",
    "count = 0;\n",
    "\n",
    "while count < 300:\n",
    "    \n",
    "    # Finds all instances of the buttons (options I can vote for) by their class defined by google forms. This returns a list\n",
    "    # of all the instances of the buttons, from which I can use some index to choose what I want to vote for\n",
    "    radiobuttons = driver.find_elements(By.CLASS_NAME, \"docssharedWizToggleLabeledContainer\")\n",
    "    \n",
    "    # Using the XPATH defined the HTML (See Inspect Elements), I find the specific submission button. This is always the same.\n",
    "    submitbutton = driver.find_element(By.XPATH,\n",
    "            '//*[@id=\"mG61Hd\"]/div[2]/div/div[3]/div[1]/div/div/span/span')\n",
    "\n",
    "    # My door is the 13th index, so I choose that. This stays constant\n",
    "    radiobuttons[12].click()\n",
    "    \n",
    "    # I wait I bit to see if it vote; this sint necessary but rather for troubleshooting\n",
    "    # time.sleep(0.5)\n",
    "\n",
    "    # Submit the form\n",
    "    submitbutton.click()\n",
    "\n",
    "    # Find the link to reenter and vote in the form by its XPATH (See Inspect Elements), and clicks it\n",
    "    another_response = driver.find_element(By.XPATH,'/html/body/div[1]/div[2]/div[1]/div/div[4]/a')\n",
    "    another_response.click()\n",
    "    \n",
    "    count+=1\n",
    "\n",
    "#driver.close()"
   ]
  },
  {
   "cell_type": "code",
   "execution_count": 3,
   "id": "44e235e5",
   "metadata": {},
   "outputs": [
    {
     "name": "stderr",
     "output_type": "stream",
     "text": [
      "C:\\Users\\saipr\\AppData\\Local\\Temp\\ipykernel_21556\\610874309.py:9: DeprecationWarning: executable_path has been deprecated, please pass in a Service object\n",
      "  driver = webdriver.Chrome(\n",
      "C:\\Users\\saipr\\AppData\\Local\\Temp\\ipykernel_21556\\610874309.py:9: DeprecationWarning: use options instead of chrome_options\n",
      "  driver = webdriver.Chrome(\n"
     ]
    }
   ],
   "source": [
    "import selenium\n",
    "from selenium import webdriver\n",
    "from selenium.webdriver.common.keys import Keys\n",
    "from selenium.webdriver.common.by import By\n",
    "import time\n",
    "\n",
    "chrome_options = webdriver.ChromeOptions()\n",
    "chrome_options.add_argument(\"--incognito\")\n",
    "driver = webdriver.Chrome(\n",
    "    'C:\\webdriver\\chromedriver.exe',chrome_options=chrome_options)\n",
    " \n",
    "\n",
    "driver.get('https://docs.google.com/forms/d/e/1FAIpQLSczxU9dM9xHlQa4wPjRk90gjJ3VSUGdDH0Srm7KW2DA27jp8g/viewform')\n",
    " \n",
    "\n",
    "time.sleep(1)\n",
    "\n",
    "#count = 0;\n",
    "\n",
    "#while count < 10:\n",
    "radiobuttons = driver.find_elements(By.CLASS_NAME, \"docssharedWizToggleLabeledContainer\")\n",
    "    #submitbutton = driver.find_element(By.XPATH,'//*[@id=\"mG61Hd\"]/div[2]/div/div[3]/div[1]/div/div/span/span')\n",
    "\n",
    "radiobuttons[12].click()\n",
    "\n",
    "    #checkboxes[1]. click()\n",
    "    #checkboxes[3]. click()\n",
    "\n",
    "    #submitbutton.click()\n",
    "\n",
    "    #another_response = driver.find_element(By.XPATH,'/html/body/div[1]/div[2]/div[1]/div/div[4]/a')\n",
    "    #another_response.click()\n",
    "    \n",
    "    #count+=1\n",
    "\n",
    "#driver.close()"
   ]
  },
  {
   "cell_type": "code",
   "execution_count": null,
   "id": "2d2af0c4",
   "metadata": {},
   "outputs": [],
   "source": []
  }
 ],
 "metadata": {
  "kernelspec": {
   "display_name": "Python 3 (ipykernel)",
   "language": "python",
   "name": "python3"
  },
  "language_info": {
   "codemirror_mode": {
    "name": "ipython",
    "version": 3
   },
   "file_extension": ".py",
   "mimetype": "text/x-python",
   "name": "python",
   "nbconvert_exporter": "python",
   "pygments_lexer": "ipython3",
   "version": "3.9.12"
  }
 },
 "nbformat": 4,
 "nbformat_minor": 5
}
