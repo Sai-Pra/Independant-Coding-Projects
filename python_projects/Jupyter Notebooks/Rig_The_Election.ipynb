{
 "cells": [
  {
   "cell_type": "markdown",
   "id": "e1cacf28",
   "metadata": {},
   "source": [
    "Hello there! If you are reading this, you must be curious about what \"Rig the Election\" must mean.\n",
    "\n",
    "For context, I (Sai) at the time of writing this am a freshman at the University of Illinois at Urbana Champaign. In my dorm, we have a door decoration context, however, it was aparantly made to be cheated according to my Resident Advisor. This is because the google form the election is ran thoguh can be voted on multiple times, and doesnt track who submits which vote. As a result, our RA challenged our floor to try to vote our doors with the most amount of votes. This is my effort to automate this; specifically in a way to make our floor have the most votes and my door be the door contest winner."
   ]
  },
  {
   "cell_type": "code",
   "execution_count": 1,
   "id": "9813dd85",
   "metadata": {},
   "outputs": [
    {
     "name": "stderr",
     "output_type": "stream",
     "text": [
      "C:\\Users\\saipr\\AppData\\Local\\Temp\\ipykernel_57752\\491078328.py:11: DeprecationWarning: executable_path has been deprecated, please pass in a Service object\n",
      "  driver = webdriver.Chrome('C:\\webdriver\\chromedriver.exe', chrome_options=chrome_options)\n",
      "C:\\Users\\saipr\\AppData\\Local\\Temp\\ipykernel_57752\\491078328.py:11: DeprecationWarning: use options instead of chrome_options\n",
      "  driver = webdriver.Chrome('C:\\webdriver\\chromedriver.exe', chrome_options=chrome_options)\n"
     ]
    },
    {
     "ename": "NoSuchWindowException",
     "evalue": "Message: no such window: target window already closed\nfrom unknown error: web view not found\n  (Session info: chrome=107.0.5304.62)\nStacktrace:\nBacktrace:\n\tOrdinal0 [0x003F1ED3+2236115]\n\tOrdinal0 [0x003892F1+1807089]\n\tOrdinal0 [0x002966FD+812797]\n\tOrdinal0 [0x0027DFFA+712698]\n\tOrdinal0 [0x002E506B+1134699]\n\tOrdinal0 [0x002F514A+1200458]\n\tOrdinal0 [0x002E18A6+1120422]\n\tOrdinal0 [0x002BA73D+960317]\n\tOrdinal0 [0x002BB71F+964383]\n\tGetHandleVerifier [0x0069E7E2+2743074]\n\tGetHandleVerifier [0x006908D4+2685972]\n\tGetHandleVerifier [0x00482BAA+532202]\n\tGetHandleVerifier [0x00481990+527568]\n\tOrdinal0 [0x0039080C+1837068]\n\tOrdinal0 [0x00394CD8+1854680]\n\tOrdinal0 [0x00394DC5+1854917]\n\tOrdinal0 [0x0039ED64+1895780]\n\tBaseThreadInitThunk [0x759F6739+25]\n\tRtlGetFullPathName_UEx [0x76FF8FD2+1218]\n\tRtlGetFullPathName_UEx [0x76FF8F9D+1165]\n",
     "output_type": "error",
     "traceback": [
      "\u001b[1;31m---------------------------------------------------------------------------\u001b[0m",
      "\u001b[1;31mNoSuchWindowException\u001b[0m                     Traceback (most recent call last)",
      "Input \u001b[1;32mIn [1]\u001b[0m, in \u001b[0;36m<cell line: 23>\u001b[1;34m()\u001b[0m\n\u001b[0;32m     21\u001b[0m count \u001b[38;5;241m=\u001b[39m \u001b[38;5;241m0\u001b[39m;\n\u001b[0;32m     23\u001b[0m \u001b[38;5;28;01mwhile\u001b[39;00m count \u001b[38;5;241m<\u001b[39m \u001b[38;5;241m300\u001b[39m:\n\u001b[0;32m     24\u001b[0m     \n\u001b[0;32m     25\u001b[0m     \u001b[38;5;66;03m# Finds all instances of the buttons (options I can vote for) by their class defined by google forms. This returns a list\u001b[39;00m\n\u001b[0;32m     26\u001b[0m     \u001b[38;5;66;03m# of all the instances of the buttons, from which I can use some index to choose what I want to vote for\u001b[39;00m\n\u001b[1;32m---> 27\u001b[0m     radiobuttons \u001b[38;5;241m=\u001b[39m \u001b[43mdriver\u001b[49m\u001b[38;5;241;43m.\u001b[39;49m\u001b[43mfind_elements\u001b[49m\u001b[43m(\u001b[49m\u001b[43mBy\u001b[49m\u001b[38;5;241;43m.\u001b[39;49m\u001b[43mCLASS_NAME\u001b[49m\u001b[43m,\u001b[49m\u001b[43m \u001b[49m\u001b[38;5;124;43m\"\u001b[39;49m\u001b[38;5;124;43mdocssharedWizToggleLabeledContainer\u001b[39;49m\u001b[38;5;124;43m\"\u001b[39;49m\u001b[43m)\u001b[49m\n\u001b[0;32m     29\u001b[0m     \u001b[38;5;66;03m# Using the XPATH defined the HTML (See Inspect Elements), I find the specific submission button. This is always the same.\u001b[39;00m\n\u001b[0;32m     30\u001b[0m     submitbutton \u001b[38;5;241m=\u001b[39m driver\u001b[38;5;241m.\u001b[39mfind_element(By\u001b[38;5;241m.\u001b[39mXPATH,\n\u001b[0;32m     31\u001b[0m             \u001b[38;5;124m'\u001b[39m\u001b[38;5;124m//*[@id=\u001b[39m\u001b[38;5;124m\"\u001b[39m\u001b[38;5;124mmG61Hd\u001b[39m\u001b[38;5;124m\"\u001b[39m\u001b[38;5;124m]/div[2]/div/div[3]/div[1]/div/div/span/span\u001b[39m\u001b[38;5;124m'\u001b[39m)\n",
      "File \u001b[1;32m~\\anaconda3\\lib\\site-packages\\selenium\\webdriver\\remote\\webdriver.py:889\u001b[0m, in \u001b[0;36mWebDriver.find_elements\u001b[1;34m(self, by, value)\u001b[0m\n\u001b[0;32m    885\u001b[0m     value \u001b[38;5;241m=\u001b[39m \u001b[38;5;124m'\u001b[39m\u001b[38;5;124m[name=\u001b[39m\u001b[38;5;124m\"\u001b[39m\u001b[38;5;132;01m%s\u001b[39;00m\u001b[38;5;124m\"\u001b[39m\u001b[38;5;124m]\u001b[39m\u001b[38;5;124m'\u001b[39m \u001b[38;5;241m%\u001b[39m value\n\u001b[0;32m    887\u001b[0m \u001b[38;5;66;03m# Return empty list if driver returns null\u001b[39;00m\n\u001b[0;32m    888\u001b[0m \u001b[38;5;66;03m# See https://github.com/SeleniumHQ/selenium/issues/4555\u001b[39;00m\n\u001b[1;32m--> 889\u001b[0m \u001b[38;5;28;01mreturn\u001b[39;00m \u001b[38;5;28;43mself\u001b[39;49m\u001b[38;5;241;43m.\u001b[39;49m\u001b[43mexecute\u001b[49m\u001b[43m(\u001b[49m\u001b[43mCommand\u001b[49m\u001b[38;5;241;43m.\u001b[39;49m\u001b[43mFIND_ELEMENTS\u001b[49m\u001b[43m,\u001b[49m\u001b[43m \u001b[49m\u001b[43m{\u001b[49m\n\u001b[0;32m    890\u001b[0m \u001b[43m    \u001b[49m\u001b[38;5;124;43m'\u001b[39;49m\u001b[38;5;124;43musing\u001b[39;49m\u001b[38;5;124;43m'\u001b[39;49m\u001b[43m:\u001b[49m\u001b[43m \u001b[49m\u001b[43mby\u001b[49m\u001b[43m,\u001b[49m\n\u001b[0;32m    891\u001b[0m \u001b[43m    \u001b[49m\u001b[38;5;124;43m'\u001b[39;49m\u001b[38;5;124;43mvalue\u001b[39;49m\u001b[38;5;124;43m'\u001b[39;49m\u001b[43m:\u001b[49m\u001b[43m \u001b[49m\u001b[43mvalue\u001b[49m\u001b[43m}\u001b[49m\u001b[43m)\u001b[49m[\u001b[38;5;124m'\u001b[39m\u001b[38;5;124mvalue\u001b[39m\u001b[38;5;124m'\u001b[39m] \u001b[38;5;129;01mor\u001b[39;00m []\n",
      "File \u001b[1;32m~\\anaconda3\\lib\\site-packages\\selenium\\webdriver\\remote\\webdriver.py:429\u001b[0m, in \u001b[0;36mWebDriver.execute\u001b[1;34m(self, driver_command, params)\u001b[0m\n\u001b[0;32m    427\u001b[0m response \u001b[38;5;241m=\u001b[39m \u001b[38;5;28mself\u001b[39m\u001b[38;5;241m.\u001b[39mcommand_executor\u001b[38;5;241m.\u001b[39mexecute(driver_command, params)\n\u001b[0;32m    428\u001b[0m \u001b[38;5;28;01mif\u001b[39;00m response:\n\u001b[1;32m--> 429\u001b[0m     \u001b[38;5;28;43mself\u001b[39;49m\u001b[38;5;241;43m.\u001b[39;49m\u001b[43merror_handler\u001b[49m\u001b[38;5;241;43m.\u001b[39;49m\u001b[43mcheck_response\u001b[49m\u001b[43m(\u001b[49m\u001b[43mresponse\u001b[49m\u001b[43m)\u001b[49m\n\u001b[0;32m    430\u001b[0m     response[\u001b[38;5;124m'\u001b[39m\u001b[38;5;124mvalue\u001b[39m\u001b[38;5;124m'\u001b[39m] \u001b[38;5;241m=\u001b[39m \u001b[38;5;28mself\u001b[39m\u001b[38;5;241m.\u001b[39m_unwrap_value(\n\u001b[0;32m    431\u001b[0m         response\u001b[38;5;241m.\u001b[39mget(\u001b[38;5;124m'\u001b[39m\u001b[38;5;124mvalue\u001b[39m\u001b[38;5;124m'\u001b[39m, \u001b[38;5;28;01mNone\u001b[39;00m))\n\u001b[0;32m    432\u001b[0m     \u001b[38;5;28;01mreturn\u001b[39;00m response\n",
      "File \u001b[1;32m~\\anaconda3\\lib\\site-packages\\selenium\\webdriver\\remote\\errorhandler.py:243\u001b[0m, in \u001b[0;36mErrorHandler.check_response\u001b[1;34m(self, response)\u001b[0m\n\u001b[0;32m    241\u001b[0m         alert_text \u001b[38;5;241m=\u001b[39m value[\u001b[38;5;124m'\u001b[39m\u001b[38;5;124malert\u001b[39m\u001b[38;5;124m'\u001b[39m]\u001b[38;5;241m.\u001b[39mget(\u001b[38;5;124m'\u001b[39m\u001b[38;5;124mtext\u001b[39m\u001b[38;5;124m'\u001b[39m)\n\u001b[0;32m    242\u001b[0m     \u001b[38;5;28;01mraise\u001b[39;00m exception_class(message, screen, stacktrace, alert_text)  \u001b[38;5;66;03m# type: ignore[call-arg]  # mypy is not smart enough here\u001b[39;00m\n\u001b[1;32m--> 243\u001b[0m \u001b[38;5;28;01mraise\u001b[39;00m exception_class(message, screen, stacktrace)\n",
      "\u001b[1;31mNoSuchWindowException\u001b[0m: Message: no such window: target window already closed\nfrom unknown error: web view not found\n  (Session info: chrome=107.0.5304.62)\nStacktrace:\nBacktrace:\n\tOrdinal0 [0x003F1ED3+2236115]\n\tOrdinal0 [0x003892F1+1807089]\n\tOrdinal0 [0x002966FD+812797]\n\tOrdinal0 [0x0027DFFA+712698]\n\tOrdinal0 [0x002E506B+1134699]\n\tOrdinal0 [0x002F514A+1200458]\n\tOrdinal0 [0x002E18A6+1120422]\n\tOrdinal0 [0x002BA73D+960317]\n\tOrdinal0 [0x002BB71F+964383]\n\tGetHandleVerifier [0x0069E7E2+2743074]\n\tGetHandleVerifier [0x006908D4+2685972]\n\tGetHandleVerifier [0x00482BAA+532202]\n\tGetHandleVerifier [0x00481990+527568]\n\tOrdinal0 [0x0039080C+1837068]\n\tOrdinal0 [0x00394CD8+1854680]\n\tOrdinal0 [0x00394DC5+1854917]\n\tOrdinal0 [0x0039ED64+1895780]\n\tBaseThreadInitThunk [0x759F6739+25]\n\tRtlGetFullPathName_UEx [0x76FF8FD2+1218]\n\tRtlGetFullPathName_UEx [0x76FF8F9D+1165]\n"
     ]
    }
   ],
   "source": [
    "# Below are dependancies needed to run Selenium; I will be using a Chrome WebDriver to open up and run chrome from my ntoebook\n",
    "import selenium\n",
    "from selenium import webdriver\n",
    "from selenium.webdriver.common.keys import Keys\n",
    "from selenium.webdriver.common.by import By\n",
    "import time\n",
    "\n",
    "# I choose to open Chrome up in incognito, and point to where the Chrome WebDriver software is\n",
    "chrome_options = webdriver.ChromeOptions()\n",
    "chrome_options.add_argument(\"--incognito\")\n",
    "driver = webdriver.Chrome('C:\\webdriver\\chromedriver.exe', chrome_options=chrome_options)\n",
    " \n",
    "# I open up the google from from here directly, and wait 1 second the webpage to fully load\n",
    "driver.get('https://docs.google.com/forms/d/e/1FAIpQLSczxU9dM9xHlQa4wPjRk90gjJ3VSUGdDH0Srm7KW2DA27jp8g/viewform')\n",
    "time.sleep(1)\n",
    "\n",
    "# Below, I find all the instances of buttons (Options for who to vote for), and because I reliably know where my door is,\n",
    "# I know to set the button to click as the 13th button. I submit my vote and then reenter he form to vote again. I set this\n",
    "# to repeat 300 times\n",
    "\n",
    "count = 0;\n",
    "\n",
    "while count < 300:\n",
    "    \n",
    "    # Finds all instances of the buttons (options I can vote for) by their class defined by google forms. This returns a list\n",
    "    # of all the instances of the buttons, from which I can use some index to choose what I want to vote for\n",
    "    radiobuttons = driver.find_elements(By.CLASS_NAME, \"docssharedWizToggleLabeledContainer\")\n",
    "    \n",
    "    # Using the XPATH defined the HTML (See Inspect Elements), I find the specific submission button. This is always the same.\n",
    "    submitbutton = driver.find_element(By.XPATH,\n",
    "            '//*[@id=\"mG61Hd\"]/div[2]/div/div[3]/div[1]/div/div/span/span')\n",
    "\n",
    "    # My door is the 13th index, so I choose that. This stays constant\n",
    "    radiobuttons[12].click()\n",
    "    \n",
    "    # I wait I bit to see if it vote; this sint necessary but rather for troubleshooting\n",
    "    # time.sleep(0.5)\n",
    "\n",
    "    # Submit the form\n",
    "    submitbutton.click()\n",
    "\n",
    "    # Find the link to reenter and vote in the form by its XPATH (See Inspect Elements), and clicks it\n",
    "    another_response = driver.find_element(By.XPATH,'/html/body/div[1]/div[2]/div[1]/div/div[4]/a')\n",
    "    another_response.click()\n",
    "    \n",
    "    count+=1\n",
    "\n",
    "#driver.close()"
   ]
  },
  {
   "cell_type": "code",
   "execution_count": 3,
   "id": "44e235e5",
   "metadata": {},
   "outputs": [
    {
     "name": "stderr",
     "output_type": "stream",
     "text": [
      "C:\\Users\\saipr\\AppData\\Local\\Temp\\ipykernel_21556\\610874309.py:9: DeprecationWarning: executable_path has been deprecated, please pass in a Service object\n",
      "  driver = webdriver.Chrome(\n",
      "C:\\Users\\saipr\\AppData\\Local\\Temp\\ipykernel_21556\\610874309.py:9: DeprecationWarning: use options instead of chrome_options\n",
      "  driver = webdriver.Chrome(\n"
     ]
    }
   ],
   "source": [
    "import selenium\n",
    "from selenium import webdriver\n",
    "from selenium.webdriver.common.keys import Keys\n",
    "from selenium.webdriver.common.by import By\n",
    "import time\n",
    "\n",
    "chrome_options = webdriver.ChromeOptions()\n",
    "chrome_options.add_argument(\"--incognito\")\n",
    "driver = webdriver.Chrome(\n",
    "    'C:\\webdriver\\chromedriver.exe',chrome_options=chrome_options)\n",
    " \n",
    "\n",
    "driver.get('https://docs.google.com/forms/d/e/1FAIpQLSczxU9dM9xHlQa4wPjRk90gjJ3VSUGdDH0Srm7KW2DA27jp8g/viewform')\n",
    " \n",
    "\n",
    "time.sleep(1)\n",
    "\n",
    "#count = 0;\n",
    "\n",
    "#while count < 10:\n",
    "radiobuttons = driver.find_elements(By.CLASS_NAME, \"docssharedWizToggleLabeledContainer\")\n",
    "    #submitbutton = driver.find_element(By.XPATH,'//*[@id=\"mG61Hd\"]/div[2]/div/div[3]/div[1]/div/div/span/span')\n",
    "\n",
    "radiobuttons[12].click()\n",
    "\n",
    "    #checkboxes[1]. click()\n",
    "    #checkboxes[3]. click()\n",
    "\n",
    "    #submitbutton.click()\n",
    "\n",
    "    #another_response = driver.find_element(By.XPATH,'/html/body/div[1]/div[2]/div[1]/div/div[4]/a')\n",
    "    #another_response.click()\n",
    "    \n",
    "    #count+=1\n",
    "\n",
    "#driver.close()"
   ]
  },
  {
   "cell_type": "code",
   "execution_count": null,
   "id": "2d2af0c4",
   "metadata": {},
   "outputs": [],
   "source": []
  }
 ],
 "metadata": {
  "kernelspec": {
   "display_name": "Python 3 (ipykernel)",
   "language": "python",
   "name": "python3"
  },
  "language_info": {
   "codemirror_mode": {
    "name": "ipython",
    "version": 3
   },
   "file_extension": ".py",
   "mimetype": "text/x-python",
   "name": "python",
   "nbconvert_exporter": "python",
   "pygments_lexer": "ipython3",
   "version": "3.9.12"
  }
 },
 "nbformat": 4,
 "nbformat_minor": 5
}
