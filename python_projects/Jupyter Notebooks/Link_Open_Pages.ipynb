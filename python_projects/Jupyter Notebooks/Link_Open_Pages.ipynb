{
 "cells": [
  {
   "cell_type": "code",
   "execution_count": null,
   "id": "b4a9ce9e",
   "metadata": {},
   "outputs": [
    {
     "name": "stderr",
     "output_type": "stream",
     "text": [
      "C:\\Users\\saipr\\AppData\\Local\\Temp\\ipykernel_30444\\525678709.py:12: DeprecationWarning: executable_path has been deprecated, please pass in a Service object\n",
      "  driver = webdriver.Chrome('C:\\webdriver\\chromedriver.exe', chrome_options=chrome_options)\n",
      "C:\\Users\\saipr\\AppData\\Local\\Temp\\ipykernel_30444\\525678709.py:12: DeprecationWarning: use options instead of chrome_options\n",
      "  driver = webdriver.Chrome('C:\\webdriver\\chromedriver.exe', chrome_options=chrome_options)\n"
     ]
    }
   ],
   "source": [
    "# Below are dependancies needed to run Selenium; I will be using a Chrome WebDriver to open up and run chrome from my ntoebook\n",
    "import selenium\n",
    "from selenium import webdriver\n",
    "from selenium.webdriver.common.keys import Keys\n",
    "from selenium.webdriver.common.by import By\n",
    "import time\n",
    "from IPython.display import clear_output\n",
    "\n",
    "# I choose to open Chrome up in incognito, and point to where the Chrome WebDriver software is\n",
    "chrome_options = webdriver.ChromeOptions()\n",
    "chrome_options.add_argument(\"--incognito\")\n",
    "driver = webdriver.Chrome('C:\\webdriver\\chromedriver.exe', chrome_options=chrome_options)\n",
    "\n",
    "driver.get(\"https://www.google.com\")\n",
    "\n",
    "Search_Bar = driver.find_element(By.NAME,\"q\");\n",
    "search = input(\"Please enter what you would like to search up: \")\n",
    "Search_Bar.send_keys(search)\n",
    "time.sleep(0.2)\n",
    "\n",
    "Search_Bar.send_keys(Keys.ENTER)\n",
    "\n",
    "def navigate_web():\n",
    "    links = driver.find_elements(By.TAG_NAME,\"a\");\n",
    "\n",
    "\n",
    "    length = 0;\n",
    "\n",
    "    for i in links:\n",
    "        if not (i.text == \"\" or i.text == \" \"):\n",
    "            print(\"Option \" + str(length) + ': \"' + i.text + '\"\\n')\n",
    "            length += 1\n",
    "\n",
    "    print(\"Option \" + str(length) + \": Next Page\\n\")\n",
    "    print(\"Option \" + str(length + 1) + \": End Program\\n\\n\")\n",
    "    \n",
    "    print(str(length)+\"\\n\\n\")\n",
    "\n",
    "    choice = int(input(\"Please choose which option you want by typing the number\\n\"))\n",
    "    while not(int(choice) < length + 2 and int(choice) > -1):\n",
    "        choice = int(input(\"Please choose which option you want by typing the number\\n\"))\n",
    "    if (int(choice) < length-1 and int(choice) > -1):\n",
    "        links[choice].click()\n",
    "    elif(int(choice) - length == 0):\n",
    "        nextButton = driver.find_element(By.ID, \"pnnext\")\n",
    "        nextButton.click()\n",
    "        clear_output(wait=True)\n",
    "        navigate_web()\n",
    "    elif(int(choice) - length == -1):  \n",
    "        driver.close()\n",
    "\n",
    "navigate_web()"
   ]
  },
  {
   "cell_type": "code",
   "execution_count": null,
   "id": "b3a226b4",
   "metadata": {},
   "outputs": [],
   "source": [
    "# Below are dependancies needed to run Selenium; I will be using a Chrome WebDriver to open up and run chrome from my ntoebook\n",
    "import selenium\n",
    "from selenium import webdriver\n",
    "from selenium.webdriver.common.keys import Keys\n",
    "from selenium.webdriver.common.by import By\n",
    "import time\n",
    "\n",
    "# I choose to open Chrome up in incognito, and point to where the Chrome WebDriver software is\n",
    "chrome_options = webdriver.ChromeOptions()\n",
    "chrome_options.add_argument(\"--incognito\")\n",
    "driver = webdriver.Chrome('C:\\webdriver\\chromedriver.exe', chrome_options=chrome_options)\n",
    "\n",
    "driver.get(\"https://www.google.com/search?q=Spotify&source=hp&ei=YQRbY9KPMZifptQP9uyW2AU&iflsig=AJiK0e8AAAAAY1sScUxSEXUpSE43vQwcbzqKHJi8zpnd&ved=0ahUKEwiSxPX8uIH7AhWYj4kEHXa2BVsQ4dUDCAo&uact=5&oq=Spotify&gs_lcp=Cgdnd3Mtd2l6EAMyDgguEIAEELEDEMcBENEDMgsIABCABBCxAxCDATILCAAQgAQQsQMQgwEyCAgAEIAEELEDMgsIABCABBCxAxCDATIICAAQgAQQsQMyCAgAEIAEELEDMgsIABCABBCxAxCDATIFCAAQgAQyCwgAEIAEELEDEIMBUABYCWDpAWgAcAB4AoABOogBygGSAQE0mAEAoAEB&sclient=gws-wiz\")\n",
    "\n",
    "nextButton = driver.find_element(By.ID, \"pnnext\")\n",
    "\n",
    "print(nextButton.text)\n",
    "nextButton.click()"
   ]
  },
  {
   "cell_type": "code",
   "execution_count": null,
   "id": "f9f35457",
   "metadata": {},
   "outputs": [],
   "source": []
  }
 ],
 "metadata": {
  "kernelspec": {
   "display_name": "Python 3 (ipykernel)",
   "language": "python",
   "name": "python3"
  },
  "language_info": {
   "codemirror_mode": {
    "name": "ipython",
    "version": 3
   },
   "file_extension": ".py",
   "mimetype": "text/x-python",
   "name": "python",
   "nbconvert_exporter": "python",
   "pygments_lexer": "ipython3",
   "version": "3.9.12"
  }
 },
 "nbformat": 4,
 "nbformat_minor": 5
}
