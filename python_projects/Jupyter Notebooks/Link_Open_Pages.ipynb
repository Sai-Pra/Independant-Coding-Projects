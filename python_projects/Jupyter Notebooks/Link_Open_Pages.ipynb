{
 "cells": [
  {
   "cell_type": "code",
   "execution_count": 17,
   "id": "b4a9ce9e",
   "metadata": {},
   "outputs": [
    {
     "name": "stderr",
     "output_type": "stream",
     "text": [
      "C:\\Users\\saipr\\AppData\\Local\\Temp\\ipykernel_44532\\831598260.py:11: DeprecationWarning: executable_path has been deprecated, please pass in a Service object\n",
      "  driver = webdriver.Chrome('C:\\webdriver\\chromedriver.exe', chrome_options=chrome_options)\n",
      "C:\\Users\\saipr\\AppData\\Local\\Temp\\ipykernel_44532\\831598260.py:11: DeprecationWarning: use options instead of chrome_options\n",
      "  driver = webdriver.Chrome('C:\\webdriver\\chromedriver.exe', chrome_options=chrome_options)\n"
     ]
    },
    {
     "ename": "NoSuchElementException",
     "evalue": "Message: no such element: Unable to locate element: {\"method\":\"css selector\",\"selector\":\"[name=\"URL\"]\"}\n  (Session info: chrome=107.0.5304.62)\nStacktrace:\nBacktrace:\n\tOrdinal0 [0x005C1ED3+2236115]\n\tOrdinal0 [0x005592F1+1807089]\n\tOrdinal0 [0x004666FD+812797]\n\tOrdinal0 [0x004955DF+1005023]\n\tOrdinal0 [0x004957CB+1005515]\n\tOrdinal0 [0x004C7632+1209906]\n\tOrdinal0 [0x004B1AD4+1120980]\n\tOrdinal0 [0x004C59E2+1202658]\n\tOrdinal0 [0x004B18A6+1120422]\n\tOrdinal0 [0x0048A73D+960317]\n\tOrdinal0 [0x0048B71F+964383]\n\tGetHandleVerifier [0x0086E7E2+2743074]\n\tGetHandleVerifier [0x008608D4+2685972]\n\tGetHandleVerifier [0x00652BAA+532202]\n\tGetHandleVerifier [0x00651990+527568]\n\tOrdinal0 [0x0056080C+1837068]\n\tOrdinal0 [0x00564CD8+1854680]\n\tOrdinal0 [0x00564DC5+1854917]\n\tOrdinal0 [0x0056ED64+1895780]\n\tBaseThreadInitThunk [0x759F6739+25]\n\tRtlGetFullPathName_UEx [0x76FF8FD2+1218]\n\tRtlGetFullPathName_UEx [0x76FF8F9D+1165]\n",
     "output_type": "error",
     "traceback": [
      "\u001b[1;31m---------------------------------------------------------------------------\u001b[0m",
      "\u001b[1;31mNoSuchElementException\u001b[0m                    Traceback (most recent call last)",
      "Input \u001b[1;32mIn [17]\u001b[0m, in \u001b[0;36m<cell line: 21>\u001b[1;34m()\u001b[0m\n\u001b[0;32m     17\u001b[0m time\u001b[38;5;241m.\u001b[39msleep(\u001b[38;5;241m0.2\u001b[39m)\n\u001b[0;32m     19\u001b[0m Search_Bar\u001b[38;5;241m.\u001b[39msend_keys(Keys\u001b[38;5;241m.\u001b[39mENTER)\n\u001b[1;32m---> 21\u001b[0m links \u001b[38;5;241m=\u001b[39m \u001b[43mdriver\u001b[49m\u001b[38;5;241;43m.\u001b[39;49m\u001b[43mfind_element\u001b[49m\u001b[43m(\u001b[49m\u001b[43mBy\u001b[49m\u001b[38;5;241;43m.\u001b[39;49m\u001b[43mNAME\u001b[49m\u001b[43m,\u001b[49m\u001b[38;5;124;43m\"\u001b[39;49m\u001b[38;5;124;43mURL\u001b[39;49m\u001b[38;5;124;43m\"\u001b[39;49m\u001b[43m)\u001b[49m\n",
      "File \u001b[1;32m~\\anaconda3\\lib\\site-packages\\selenium\\webdriver\\remote\\webdriver.py:856\u001b[0m, in \u001b[0;36mWebDriver.find_element\u001b[1;34m(self, by, value)\u001b[0m\n\u001b[0;32m    853\u001b[0m     by \u001b[38;5;241m=\u001b[39m By\u001b[38;5;241m.\u001b[39mCSS_SELECTOR\n\u001b[0;32m    854\u001b[0m     value \u001b[38;5;241m=\u001b[39m \u001b[38;5;124m'\u001b[39m\u001b[38;5;124m[name=\u001b[39m\u001b[38;5;124m\"\u001b[39m\u001b[38;5;132;01m%s\u001b[39;00m\u001b[38;5;124m\"\u001b[39m\u001b[38;5;124m]\u001b[39m\u001b[38;5;124m'\u001b[39m \u001b[38;5;241m%\u001b[39m value\n\u001b[1;32m--> 856\u001b[0m \u001b[38;5;28;01mreturn\u001b[39;00m \u001b[38;5;28;43mself\u001b[39;49m\u001b[38;5;241;43m.\u001b[39;49m\u001b[43mexecute\u001b[49m\u001b[43m(\u001b[49m\u001b[43mCommand\u001b[49m\u001b[38;5;241;43m.\u001b[39;49m\u001b[43mFIND_ELEMENT\u001b[49m\u001b[43m,\u001b[49m\u001b[43m \u001b[49m\u001b[43m{\u001b[49m\n\u001b[0;32m    857\u001b[0m \u001b[43m    \u001b[49m\u001b[38;5;124;43m'\u001b[39;49m\u001b[38;5;124;43musing\u001b[39;49m\u001b[38;5;124;43m'\u001b[39;49m\u001b[43m:\u001b[49m\u001b[43m \u001b[49m\u001b[43mby\u001b[49m\u001b[43m,\u001b[49m\n\u001b[0;32m    858\u001b[0m \u001b[43m    \u001b[49m\u001b[38;5;124;43m'\u001b[39;49m\u001b[38;5;124;43mvalue\u001b[39;49m\u001b[38;5;124;43m'\u001b[39;49m\u001b[43m:\u001b[49m\u001b[43m \u001b[49m\u001b[43mvalue\u001b[49m\u001b[43m}\u001b[49m\u001b[43m)\u001b[49m[\u001b[38;5;124m'\u001b[39m\u001b[38;5;124mvalue\u001b[39m\u001b[38;5;124m'\u001b[39m]\n",
      "File \u001b[1;32m~\\anaconda3\\lib\\site-packages\\selenium\\webdriver\\remote\\webdriver.py:429\u001b[0m, in \u001b[0;36mWebDriver.execute\u001b[1;34m(self, driver_command, params)\u001b[0m\n\u001b[0;32m    427\u001b[0m response \u001b[38;5;241m=\u001b[39m \u001b[38;5;28mself\u001b[39m\u001b[38;5;241m.\u001b[39mcommand_executor\u001b[38;5;241m.\u001b[39mexecute(driver_command, params)\n\u001b[0;32m    428\u001b[0m \u001b[38;5;28;01mif\u001b[39;00m response:\n\u001b[1;32m--> 429\u001b[0m     \u001b[38;5;28;43mself\u001b[39;49m\u001b[38;5;241;43m.\u001b[39;49m\u001b[43merror_handler\u001b[49m\u001b[38;5;241;43m.\u001b[39;49m\u001b[43mcheck_response\u001b[49m\u001b[43m(\u001b[49m\u001b[43mresponse\u001b[49m\u001b[43m)\u001b[49m\n\u001b[0;32m    430\u001b[0m     response[\u001b[38;5;124m'\u001b[39m\u001b[38;5;124mvalue\u001b[39m\u001b[38;5;124m'\u001b[39m] \u001b[38;5;241m=\u001b[39m \u001b[38;5;28mself\u001b[39m\u001b[38;5;241m.\u001b[39m_unwrap_value(\n\u001b[0;32m    431\u001b[0m         response\u001b[38;5;241m.\u001b[39mget(\u001b[38;5;124m'\u001b[39m\u001b[38;5;124mvalue\u001b[39m\u001b[38;5;124m'\u001b[39m, \u001b[38;5;28;01mNone\u001b[39;00m))\n\u001b[0;32m    432\u001b[0m     \u001b[38;5;28;01mreturn\u001b[39;00m response\n",
      "File \u001b[1;32m~\\anaconda3\\lib\\site-packages\\selenium\\webdriver\\remote\\errorhandler.py:243\u001b[0m, in \u001b[0;36mErrorHandler.check_response\u001b[1;34m(self, response)\u001b[0m\n\u001b[0;32m    241\u001b[0m         alert_text \u001b[38;5;241m=\u001b[39m value[\u001b[38;5;124m'\u001b[39m\u001b[38;5;124malert\u001b[39m\u001b[38;5;124m'\u001b[39m]\u001b[38;5;241m.\u001b[39mget(\u001b[38;5;124m'\u001b[39m\u001b[38;5;124mtext\u001b[39m\u001b[38;5;124m'\u001b[39m)\n\u001b[0;32m    242\u001b[0m     \u001b[38;5;28;01mraise\u001b[39;00m exception_class(message, screen, stacktrace, alert_text)  \u001b[38;5;66;03m# type: ignore[call-arg]  # mypy is not smart enough here\u001b[39;00m\n\u001b[1;32m--> 243\u001b[0m \u001b[38;5;28;01mraise\u001b[39;00m exception_class(message, screen, stacktrace)\n",
      "\u001b[1;31mNoSuchElementException\u001b[0m: Message: no such element: Unable to locate element: {\"method\":\"css selector\",\"selector\":\"[name=\"URL\"]\"}\n  (Session info: chrome=107.0.5304.62)\nStacktrace:\nBacktrace:\n\tOrdinal0 [0x005C1ED3+2236115]\n\tOrdinal0 [0x005592F1+1807089]\n\tOrdinal0 [0x004666FD+812797]\n\tOrdinal0 [0x004955DF+1005023]\n\tOrdinal0 [0x004957CB+1005515]\n\tOrdinal0 [0x004C7632+1209906]\n\tOrdinal0 [0x004B1AD4+1120980]\n\tOrdinal0 [0x004C59E2+1202658]\n\tOrdinal0 [0x004B18A6+1120422]\n\tOrdinal0 [0x0048A73D+960317]\n\tOrdinal0 [0x0048B71F+964383]\n\tGetHandleVerifier [0x0086E7E2+2743074]\n\tGetHandleVerifier [0x008608D4+2685972]\n\tGetHandleVerifier [0x00652BAA+532202]\n\tGetHandleVerifier [0x00651990+527568]\n\tOrdinal0 [0x0056080C+1837068]\n\tOrdinal0 [0x00564CD8+1854680]\n\tOrdinal0 [0x00564DC5+1854917]\n\tOrdinal0 [0x0056ED64+1895780]\n\tBaseThreadInitThunk [0x759F6739+25]\n\tRtlGetFullPathName_UEx [0x76FF8FD2+1218]\n\tRtlGetFullPathName_UEx [0x76FF8F9D+1165]\n"
     ]
    }
   ],
   "source": [
    "# Below are dependancies needed to run Selenium; I will be using a Chrome WebDriver to open up and run chrome from my ntoebook\n",
    "import selenium\n",
    "from selenium import webdriver\n",
    "from selenium.webdriver.common.keys import Keys\n",
    "from selenium.webdriver.common.by import By\n",
    "import time\n",
    "\n",
    "# I choose to open Chrome up in incognito, and point to where the Chrome WebDriver software is\n",
    "chrome_options = webdriver.ChromeOptions()\n",
    "chrome_options.add_argument(\"--incognito\")\n",
    "driver = webdriver.Chrome('C:\\webdriver\\chromedriver.exe', chrome_options=chrome_options)\n",
    "\n",
    "driver.get(\"https://www.google.com\")\n",
    "\n",
    "Search_Bar = driver.find_element(By.NAME,\"q\");\n",
    "Search_Bar.send_keys(\"Spotify\")\n",
    "time.sleep(0.2)\n",
    "\n",
    "Search_Bar.send_keys(Keys.ENTER)\n",
    "\n",
    "links = driver.find_element(By.NAME,\"URL\");"
   ]
  },
  {
   "cell_type": "code",
   "execution_count": null,
   "id": "b3a226b4",
   "metadata": {},
   "outputs": [],
   "source": []
  }
 ],
 "metadata": {
  "kernelspec": {
   "display_name": "Python 3 (ipykernel)",
   "language": "python",
   "name": "python3"
  },
  "language_info": {
   "codemirror_mode": {
    "name": "ipython",
    "version": 3
   },
   "file_extension": ".py",
   "mimetype": "text/x-python",
   "name": "python",
   "nbconvert_exporter": "python",
   "pygments_lexer": "ipython3",
   "version": "3.9.12"
  }
 },
 "nbformat": 4,
 "nbformat_minor": 5
}
