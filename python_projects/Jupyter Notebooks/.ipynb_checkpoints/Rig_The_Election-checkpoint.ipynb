{
 "cells": [
  {
   "cell_type": "code",
   "execution_count": 4,
   "id": "9813dd85",
   "metadata": {},
   "outputs": [
    {
     "name": "stderr",
     "output_type": "stream",
     "text": [
      "C:\\Users\\saipr\\AppData\\Local\\Temp\\ipykernel_11192\\1747310269.py:9: DeprecationWarning: executable_path has been deprecated, please pass in a Service object\n",
      "  driver = webdriver.Chrome(\n",
      "C:\\Users\\saipr\\AppData\\Local\\Temp\\ipykernel_11192\\1747310269.py:9: DeprecationWarning: use options instead of chrome_options\n",
      "  driver = webdriver.Chrome(\n"
     ]
    }
   ],
   "source": [
    "import selenium\n",
    "from selenium import webdriver\n",
    "from selenium.webdriver.common.keys import Keys\n",
    "from selenium.webdriver.common.by import By\n",
    "import time\n",
    "\n",
    "chrome_options = webdriver.ChromeOptions()\n",
    "chrome_options.add_argument(\"--incognito\")\n",
    "driver = webdriver.Chrome('C:\\webdriver\\chromedriver.exe', chrome_options=chrome_options)\n",
    " \n",
    "\n",
    "driver.get('https://docs.google.com/forms/d/e/1FAIpQLSczxU9dM9xHlQa4wPjRk90gjJ3VSUGdDH0Srm7KW2DA27jp8g/viewform')\n",
    " \n",
    "\n",
    "time.sleep(1)\n",
    "\n",
    "count = 0;\n",
    "\n",
    "while count < 10:\n",
    "    radiobuttons = driver.find_elements(By.CLASS_NAME, \"docssharedWizToggleLabeledContainer\")\n",
    "    submitbutton = driver.find_element(By.XPATH,\n",
    "            '//*[@id=\"mG61Hd\"]/div[2]/div/div[3]/div[1]/div/div/span/span')\n",
    "\n",
    "    radiobuttons[0].click()\n",
    "\n",
    "    #checkboxes[1]. click()\n",
    "    #checkboxes[3]. click()\n",
    "\n",
    "    submitbutton.click()\n",
    "\n",
    "    another_response = driver.find_element(By.XPATH,\n",
    "            '/html/body/div[1]/div[2]/div[1]/div/div[4]/a')\n",
    "    another_response.click()\n",
    "    \n",
    "    count+=1\n",
    "\n",
    "driver.close()"
   ]
  },
  {
   "cell_type": "code",
   "execution_count": 2,
   "id": "44e235e5",
   "metadata": {},
   "outputs": [
    {
     "name": "stderr",
     "output_type": "stream",
     "text": [
      "C:\\Users\\saipr\\AppData\\Local\\Temp\\ipykernel_11192\\1659125995.py:7: DeprecationWarning: executable_path has been deprecated, please pass in a Service object\n",
      "  driver = webdriver.Chrome(\n",
      "C:\\Users\\saipr\\AppData\\Local\\Temp\\ipykernel_11192\\1659125995.py:7: DeprecationWarning: use options instead of chrome_options\n",
      "  driver = webdriver.Chrome(\n"
     ]
    }
   ],
   "source": [
    "import selenium\n",
    "from selenium import webdriver\n",
    "from selenium.webdriver.common.keys import Keys\n",
    "from selenium.webdriver.common.by import By\n",
    "import time\n",
    "\n",
    "driver = webdriver.Chrome(\n",
    "    'C:\\webdriver\\chromedriver.exe',chrome_options=chrome_options)\n",
    " \n",
    "\n",
    "driver.get('https://docs.google.com/forms/d/e/1FAIpQLSczxU9dM9xHlQa4wPjRk90gjJ3VSUGdDH0Srm7KW2DA27jp8g/viewform')\n",
    " \n",
    "\n",
    "time.sleep(1)\n",
    "\n",
    "#count = 0;\n",
    "\n",
    "#while count < 10:\n",
    "radiobuttons = driver.find_elements(By.CLASS_NAME, \"docssharedWizToggleLabeledContainer\")\n",
    "    #submitbutton = driver.find_element(By.XPATH,'//*[@id=\"mG61Hd\"]/div[2]/div/div[3]/div[1]/div/div/span/span')\n",
    "\n",
    "radiobuttons[0].click()\n",
    "\n",
    "    #checkboxes[1]. click()\n",
    "    #checkboxes[3]. click()\n",
    "\n",
    "    #submitbutton.click()\n",
    "\n",
    "    #another_response = driver.find_element(By.XPATH,'/html/body/div[1]/div[2]/div[1]/div/div[4]/a')\n",
    "    #another_response.click()\n",
    "    \n",
    "    #count+=1\n",
    "\n",
    "#driver.close()"
   ]
  },
  {
   "cell_type": "code",
   "execution_count": null,
   "id": "2d2af0c4",
   "metadata": {},
   "outputs": [],
   "source": []
  }
 ],
 "metadata": {
  "kernelspec": {
   "display_name": "Python 3 (ipykernel)",
   "language": "python",
   "name": "python3"
  },
  "language_info": {
   "codemirror_mode": {
    "name": "ipython",
    "version": 3
   },
   "file_extension": ".py",
   "mimetype": "text/x-python",
   "name": "python",
   "nbconvert_exporter": "python",
   "pygments_lexer": "ipython3",
   "version": "3.9.12"
  }
 },
 "nbformat": 4,
 "nbformat_minor": 5
}
