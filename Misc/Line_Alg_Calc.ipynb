{
 "cells": [
  {
   "cell_type": "code",
   "execution_count": 1,
   "id": "ac8530b0",
   "metadata": {},
   "outputs": [],
   "source": [
    "from sympy import Matrix, fraction\n",
    "\n",
    "def inverse_matrix(matrix):\n",
    "    m = Matrix(matrix)\n",
    "    try:\n",
    "        inv_matrix = m.inv()\n",
    "        print(\"Steps to compute the inverse of the matrix:\")\n",
    "        for index, row in enumerate(inv_matrix.tolist()):\n",
    "            print(f\"\\nStep {index + 1}: \")\n",
    "            print(f\"{m} * [{'  '.join(str(fraction(x)) for x in row)}] = [1  0  ...  0]\")\n",
    "        return [list(map(fraction, row)) for row in inv_matrix.tolist()]\n",
    "    except ValueError:\n",
    "        return \"The given matrix does not have an inverse.\""
   ]
  },
  {
   "cell_type": "code",
   "execution_count": 2,
   "id": "6ac7866f",
   "metadata": {},
   "outputs": [
    {
     "name": "stdout",
     "output_type": "stream",
     "text": [
      "Steps to compute the inverse of the matrix:\n",
      "\n",
      "Step 1: \n",
      "Matrix([[-2, 1, -1, 0], [-1, 2, -1, 1], [-1, -2, 1, 2], [0, 0, 2, 2]]) * [(-2, 3)  (1, 3)  (0, 1)  (-1, 6)] = [1  0  ...  0]\n",
      "\n",
      "Step 2: \n",
      "Matrix([[-2, 1, -1, 0], [-1, 2, -1, 1], [-1, -2, 1, 2], [0, 0, 2, 2]]) * [(1, 9)  (1, 9)  (-1, 3)  (5, 18)] = [1  0  ...  0]\n",
      "\n",
      "Step 3: \n",
      "Matrix([[-2, 1, -1, 0], [-1, 2, -1, 1], [-1, -2, 1, 2], [0, 0, 2, 2]]) * [(4, 9)  (-5, 9)  (-1, 3)  (11, 18)] = [1  0  ...  0]\n",
      "\n",
      "Step 4: \n",
      "Matrix([[-2, 1, -1, 0], [-1, 2, -1, 1], [-1, -2, 1, 2], [0, 0, 2, 2]]) * [(-4, 9)  (5, 9)  (1, 3)  (-1, 9)] = [1  0  ...  0]\n"
     ]
    },
    {
     "data": {
      "text/plain": [
       "[[(-2, 3), (1, 3), (0, 1), (-1, 6)],\n",
       " [(1, 9), (1, 9), (-1, 3), (5, 18)],\n",
       " [(4, 9), (-5, 9), (-1, 3), (11, 18)],\n",
       " [(-4, 9), (5, 9), (1, 3), (-1, 9)]]"
      ]
     },
     "execution_count": 2,
     "metadata": {},
     "output_type": "execute_result"
    }
   ],
   "source": [
    "inverse_matrix([[-2,1,-1,0],[-1,2,-1,1],[-1,-2,1,2],[0,0,2,2]])"
   ]
  },
  {
   "cell_type": "code",
   "execution_count": 3,
   "id": "c456c370",
   "metadata": {},
   "outputs": [
    {
     "name": "stdout",
     "output_type": "stream",
     "text": [
      "The solution for matrix X:\n",
      "[[ 1.  6.]\n",
      " [ 5. -3.]]\n"
     ]
    }
   ],
   "source": [
    "import numpy as np\n",
    "\n",
    "def solve_matrix_equation(A, B, C):\n",
    "    A = np.array(A)\n",
    "    B = np.array(B)\n",
    "    C = np.array(C)\n",
    "    \n",
    "    X = np.matmul(np.matmul(np.linalg.inv(B),C),np.linalg.inv(A)) - 3*np.linalg.inv(A) - 2*np.linalg.inv(B)\n",
    "    \n",
    "    print(\"The solution for matrix X:\")\n",
    "    print(X)\n",
    "A = [[-1, -1], [-1, 0]]\n",
    "B = [[-1, 0], [-1, 1]]\n",
    "C = [[2, -1], [0, -1]]\n",
    "solve_matrix_equation(A, B, C)\n"
   ]
  },
  {
   "cell_type": "code",
   "execution_count": 4,
   "id": "4f578ee1",
   "metadata": {},
   "outputs": [
    {
     "ename": "ModuleNotFoundError",
     "evalue": "No module named 'pygame'",
     "output_type": "error",
     "traceback": [
      "\u001b[1;31m---------------------------------------------------------------------------\u001b[0m",
      "\u001b[1;31mModuleNotFoundError\u001b[0m                       Traceback (most recent call last)",
      "Input \u001b[1;32mIn [4]\u001b[0m, in \u001b[0;36m<cell line: 1>\u001b[1;34m()\u001b[0m\n\u001b[1;32m----> 1\u001b[0m \u001b[38;5;28;01mimport\u001b[39;00m \u001b[38;5;21;01mpygame\u001b[39;00m\n\u001b[0;32m      2\u001b[0m \u001b[38;5;28;01mimport\u001b[39;00m \u001b[38;5;21;01mrandom\u001b[39;00m\n\u001b[0;32m      4\u001b[0m \u001b[38;5;66;03m# Initialize Pygame\u001b[39;00m\n",
      "\u001b[1;31mModuleNotFoundError\u001b[0m: No module named 'pygame'"
     ]
    }
   ],
   "source": [
    "import pygame\n",
    "import random\n",
    "\n",
    "# Initialize Pygame\n",
    "pygame.init()\n",
    "\n",
    "# Set up the display\n",
    "width = 500\n",
    "height = 700\n",
    "screen = pygame.display.set_mode((width, height))\n",
    "\n",
    "# Define the colors\n",
    "black = (0, 0, 0)\n",
    "white = (255, 255, 255)\n",
    "red = (255, 0, 0)\n",
    "green = (0, 255, 0)\n",
    "blue = (0, 0, 255)\n",
    "\n",
    "# Set up the clock\n",
    "clock = pygame.time.Clock()\n",
    "\n",
    "# Set up the tetromino shapes\n",
    "tetrominoes = [\n",
    "    [[1, 1, 1, 1]],\n",
    "\n",
    "    [[2, 0],\n",
    "     [2, 2],\n",
    "     [2, 0]],\n",
    "\n",
    "    [[0, 3, 0],\n",
    "     [3, 3, 3]],\n",
    "\n",
    "    [[4, 4, 0],\n",
    "     [0, 4, 4]],\n",
    "\n",
    "    [[0, 5, 5],\n",
    "     [5, 5, 0]],\n",
    "\n",
    "    [[6, 6, 6],\n",
    "     [0, 0, 6]],\n",
    "\n",
    "    [[7, 7],\n",
    "     [7, 7]]\n",
    "]\n",
    "\n",
    "# Choose a random tetromino and set its starting position\n",
    "current_tetromino = random.choice(tetrominoes)\n",
    "current_position = [0, int(width / 2 - len(current_tetromino[0]) / 2)]\n",
    "\n",
    "# Game loop\n",
    "running = True\n",
    "while running:\n",
    "    for event in pygame.event.get():\n",
    "        if event.type == pygame.QUIT:\n",
    "            running = False\n",
    "\n",
    "    # Clear the screen\n",
    "    screen.fill(black)\n",
    "\n",
    "    # Draw the tetromino\n",
    "    for y, row in enumerate(current_tetromino):\n",
    "        for x, cell in enumerate(row):\n",
    "            if cell:\n",
    "                pygame.draw.rect(screen, [red, green, blue, white][cell - 1], (current_position[0] + x, current_position[1] + y, 30, 30), 0)\n",
    "\n",
    "    # Move the tetromino down\n",
    "    current_position[1] += 30\n",
    "\n",
    "    # Update the display\n",
    "    pygame.display.update()\n",
    "\n",
    "    # Keep the game running at 60 FPS\n",
    "    clock.tick(60)\n",
    "\n",
    "# Quit Pygame\n",
    "pygame.quit()\n"
   ]
  },
  {
   "cell_type": "code",
   "execution_count": null,
   "id": "78c53dff",
   "metadata": {},
   "outputs": [],
   "source": [
    "import numpy as np\n",
    "\n",
    "image = []\n",
    "\n",
    "# write your code here\n",
    "inverse = np.linalg.inv(image)\n",
    "corrected = image @ inverse\n",
    "\n",
    "# You can use the function \"display_image\" to display your result\n",
    "display_image(image)\n",
    "display_image(corrected)"
   ]
  },
  {
   "cell_type": "code",
   "execution_count": null,
   "id": "84ff5c45",
   "metadata": {},
   "outputs": [],
   "source": [
    "encoded_message = '''J'v(ht%suriaw(ygnwhf!b‚(jgwrlgt oqnnymqi!wr|o&f$vvjct(hti$d\"tt{qum%juqn }pl&Ueogplr|ooh$htb.'''\n",
    "split = encoded_message.split('%')\n",
    "decoded_message = \"\";\n",
    "for x in split:\n",
    "    for i, j in enumerate(x):\n",
    "        decoded_message += ''.join(chr(ord(j)+16))\n",
    "print(decoded_message)"
   ]
  },
  {
   "cell_type": "code",
   "execution_count": null,
   "id": "7bda7038",
   "metadata": {},
   "outputs": [],
   "source": [
    "encoded_message = \"J'v(ht%suriaw(ygnwhf!b‚(jgwrlgt oqnnymqi!wr|o&f$vvjct(hti$dtt{qum%juqn }pl&Ueogplr|ooh$htb.'\"\n",
    "decoded_message = ''.join(chr(int(i, 16)) for i in x for x in encoded_message.split('%'))\n",
    "print(decoded_message)\n"
   ]
  },
  {
   "cell_type": "code",
   "execution_count": null,
   "id": "48a6d974",
   "metadata": {},
   "outputs": [],
   "source": [
    "import numpy as np\n",
    "\n",
    "image = [[0,-1,1],[1,0,-1],[-1,1,0]]\n",
    "\n",
    "print(np.array(image) @ np.array([-8,2,-7]))\n",
    "# write your code here\n",
    "#inverse = np.linalg.inv(image)\n",
    "#print(inverse)\n",
    "#print(np.array(inverse) @ np.array([0,1,0]))"
   ]
  },
  {
   "cell_type": "code",
   "execution_count": null,
   "id": "815c6df0",
   "metadata": {},
   "outputs": [],
   "source": [
    "import numpy.linalg as la\n",
    "import numpy as np\n",
    "\n",
    "BC = np.array([[1,2,-3],[1,1,1],[2,-1,0]])\n",
    "#print(BC)\n",
    "CC = np.array([[-2,1,-3],[0,1,-1],[-2,0,2]])\n",
    "#print(CC)\n",
    "CB = la.inv(BC)\n",
    "#print(CB) \n",
    "print(CB @ CC @ BC)"
   ]
  },
  {
   "cell_type": "code",
   "execution_count": 9,
   "id": "731fe279",
   "metadata": {},
   "outputs": [
    {
     "name": "stdout",
     "output_type": "stream",
     "text": [
      "[[ 5 -2 14]\n",
      " [-2 14 -8]\n",
      " [14 -8 50]]\n"
     ]
    },
    {
     "data": {
      "text/plain": [
       "array([ 5, -4, 26])"
      ]
     },
     "execution_count": 9,
     "metadata": {},
     "output_type": "execute_result"
    }
   ],
   "source": [
    "A = np.array([[1, -1, 1],\n",
    "             [1, -2, 4], \n",
    "             [1, -2, 4], \n",
    "             [1, 1, 1] ,\n",
    "             [1, 2, 4]])\n",
    "\n",
    "print(A.T @ A)\n",
    "\n",
    "b = np.array([2,1,2,-4,4])\n",
    "\n",
    "A.T @ b"
   ]
  },
  {
   "cell_type": "code",
   "execution_count": 5,
   "id": "881ef9aa",
   "metadata": {},
   "outputs": [
    {
     "name": "stdout",
     "output_type": "stream",
     "text": [
      "[[-0.70710678  0.        ]\n",
      " [ 0.70710678  0.        ]\n",
      " [ 0.          0.        ]\n",
      " [ 0.         -1.        ]]\n"
     ]
    }
   ],
   "source": [
    "import numpy as np\n",
    "import scipy\n",
    "from scipy.linalg import null_space\n",
    "A = np.array([[0,0,-1,0],[-1,-1,-1,0]])\n",
    "ns = scipy.linalg.null_space(A)\n",
    "\n",
    "#print(ns)\n",
    "\n",
    "ortho = scipy.linalg.orth(ns,.01)\n",
    "\n",
    "print(ortho)"
   ]
  },
  {
   "cell_type": "code",
   "execution_count": 6,
   "id": "6e70a70a",
   "metadata": {},
   "outputs": [
    {
     "name": "stdout",
     "output_type": "stream",
     "text": [
      "[[1 1 1]\n",
      " [0 1 1]\n",
      " [1 1 0]]\n"
     ]
    },
    {
     "data": {
      "text/plain": [
       "(array([[-7.07106781e-01, -3.35470445e-17, -7.07106781e-01],\n",
       "        [-0.00000000e+00, -1.00000000e+00,  4.74426853e-17],\n",
       "        [-7.07106781e-01,  3.35470445e-17,  7.07106781e-01]]),\n",
       " array([[-1.41421356, -1.41421356, -0.70710678],\n",
       "        [ 0.        , -1.        , -1.        ],\n",
       "        [ 0.        ,  0.        , -0.70710678]]))"
      ]
     },
     "execution_count": 6,
     "metadata": {},
     "output_type": "execute_result"
    }
   ],
   "source": [
    "import numpy as np\n",
    "import numpy.linalg as la\n",
    "\n",
    "A = np.array([[1,1,1],[0,1,1],[1,1,0]])\n",
    "print(A)\n",
    "\n",
    "la.qr(A, mode = 'reduced')"
   ]
  },
  {
   "cell_type": "code",
   "execution_count": 34,
   "id": "a589407b",
   "metadata": {},
   "outputs": [],
   "source": [
    "array = np.array(\n",
    "    [[1,1,1],\n",
    "     [0,0,1]])"
   ]
  },
  {
   "cell_type": "code",
   "execution_count": 35,
   "id": "be5c35d2",
   "metadata": {},
   "outputs": [],
   "source": [
    "P, D, Q = la.svd(array)"
   ]
  },
  {
   "cell_type": "code",
   "execution_count": 36,
   "id": "76673467",
   "metadata": {},
   "outputs": [
    {
     "data": {
      "text/plain": [
       "array([1.84775907, 0.76536686])"
      ]
     },
     "execution_count": 36,
     "metadata": {},
     "output_type": "execute_result"
    }
   ],
   "source": [
    "D"
   ]
  },
  {
   "cell_type": "code",
   "execution_count": 37,
   "id": "5aab284a",
   "metadata": {},
   "outputs": [
    {
     "name": "stdout",
     "output_type": "stream",
     "text": [
      "[[ 0.92387953 -0.38268343]\n",
      " [ 0.38268343  0.92387953]]\n"
     ]
    }
   ],
   "source": [
    "print(P)\n"
   ]
  },
  {
   "cell_type": "code",
   "execution_count": 38,
   "id": "132cd93d",
   "metadata": {},
   "outputs": [
    {
     "name": "stdout",
     "output_type": "stream",
     "text": [
      "[[1.84775907 0.        ]\n",
      " [0.         0.76536686]]\n"
     ]
    }
   ],
   "source": [
    "print(np.diag(D))"
   ]
  },
  {
   "cell_type": "code",
   "execution_count": 39,
   "id": "bbb93e04",
   "metadata": {},
   "outputs": [
    {
     "name": "stdout",
     "output_type": "stream",
     "text": [
      "[[ 5.00000000e-01 -5.00000000e-01 -7.07106781e-01]\n",
      " [ 5.00000000e-01 -5.00000000e-01  7.07106781e-01]\n",
      " [ 7.07106781e-01  7.07106781e-01 -2.38984884e-16]]\n"
     ]
    }
   ],
   "source": [
    "print(Q.T)"
   ]
  },
  {
   "cell_type": "code",
   "execution_count": 42,
   "id": "96f91fd7",
   "metadata": {},
   "outputs": [],
   "source": [
    "array = np.array(\n",
    "    [[1,1,1],\n",
    "     [0,0,0]])"
   ]
  },
  {
   "cell_type": "code",
   "execution_count": 43,
   "id": "fc61a824",
   "metadata": {},
   "outputs": [
    {
     "data": {
      "text/plain": [
       "array([[0.33333333, 0.        ],\n",
       "       [0.33333333, 0.        ],\n",
       "       [0.33333333, 0.        ]])"
      ]
     },
     "execution_count": 43,
     "metadata": {},
     "output_type": "execute_result"
    }
   ],
   "source": [
    "la.pinv(array)"
   ]
  },
  {
   "cell_type": "code",
   "execution_count": 54,
   "id": "4fe02fe4",
   "metadata": {},
   "outputs": [
    {
     "name": "stdout",
     "output_type": "stream",
     "text": [
      "[[8. 0. 0. 0.]\n",
      " [0. 5. 0. 0.]\n",
      " [0. 0. 0. 0.]\n",
      " [0. 0. 0. 0.]]\n"
     ]
    },
    {
     "data": {
      "text/plain": [
       "array([[ 3.25,  0.75, -3.25, -0.75],\n",
       "       [ 0.75,  3.25, -0.75, -3.25],\n",
       "       [-3.25, -0.75,  3.25,  0.75],\n",
       "       [-0.75, -3.25,  0.75,  3.25]])"
      ]
     },
     "execution_count": 54,
     "metadata": {},
     "output_type": "execute_result"
    }
   ],
   "source": [
    "array = np.array(\n",
    "    [[4.25, 0.25, -2.25, -1.25],\n",
    "     [0.25, 4.25, -1.25, -2.25],\n",
    "     [-2.25, -1.25, 4.25, 0.25],\n",
    "     [-1.25, -2.25, 0.25, 4.25]])\n",
    "listSVD = np.linalg.svd(array)\n",
    "u, s, v = listSVD\n",
    "s = np.diag(s)\n",
    "s[2][2] = 0\n",
    "s[3][3] = 0\n",
    "print(s)\n",
    "u@s@v"
   ]
  },
  {
   "cell_type": "code",
   "execution_count": null,
   "id": "d8db6b80",
   "metadata": {},
   "outputs": [],
   "source": []
  }
 ],
 "metadata": {
  "kernelspec": {
   "display_name": "Python 3 (ipykernel)",
   "language": "python",
   "name": "python3"
  },
  "language_info": {
   "codemirror_mode": {
    "name": "ipython",
    "version": 3
   },
   "file_extension": ".py",
   "mimetype": "text/x-python",
   "name": "python",
   "nbconvert_exporter": "python",
   "pygments_lexer": "ipython3",
   "version": "3.9.12"
  }
 },
 "nbformat": 4,
 "nbformat_minor": 5
}
