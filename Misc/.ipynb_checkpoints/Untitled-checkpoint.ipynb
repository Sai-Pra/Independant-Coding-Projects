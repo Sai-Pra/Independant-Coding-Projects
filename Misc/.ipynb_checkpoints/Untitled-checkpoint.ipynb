{
 "cells": [
  {
   "cell_type": "code",
   "execution_count": 92,
   "id": "499e4621",
   "metadata": {},
   "outputs": [],
   "source": [
    "import requests\n",
    "from bs4 import BeautifulSoup\n",
    "\n",
    "CS_225 = requests.get(\"https://courses.illinois.edu/cisapp/explorer/schedule/2023/fall/CS/225.xml\")\n",
    "xml_contents_225 = BeautifulSoup(CS_225.content, 'xml')"
   ]
  },
  {
   "cell_type": "code",
   "execution_count": 93,
   "id": "9f6d1a3f",
   "metadata": {},
   "outputs": [
    {
     "name": "stdout",
     "output_type": "stream",
     "text": [
      "<?xml version=\"1.0\" encoding=\"utf-8\"?>\n",
      "<ns2:course href=\"https://courses.illinois.edu/cisapp/explorer/schedule/2023/fall/CS/225.xml\" id=\"CS 225\" xmlns:ns2=\"http://rest.cis.illinois.edu\"><parents><calendarYear href=\"https://courses.illinois.edu/cisapp/explorer/schedule/2023.xml\" id=\"2023\">2023</calendarYear><term href=\"https://courses.illinois.edu/cisapp/explorer/schedule/2023/fall.xml\" id=\"120238\">Fall 2023</term><subject href=\"https://courses.illinois.edu/cisapp/explorer/schedule/2023/fall/CS.xml\" id=\"CS\">Computer Science</subject></parents><label>Data Structures</label><description>Data abstractions: elementary data structures (lists, stacks, queues, and trees) and their implementation using an object-oriented programming language. Solutions to a variety of computational problems such as search on graphs and trees. Elementary analysis of algorithms. Credit is not given for CS 277 if credit for CS 225 has been earned. Prerequisite: CS 126 or CS 128 or ECE 220; One of CS 173, CS 413, MATH 213, MATH 347, MATH 412, or MATH 413.</description><creditHours>4 hours.</creditHours><courseSectionInformation>Credit is not given for CS 277 if credit for CS 225 has been earned. Prerequisite: CS 126 or CS 128 or ECE 220; One of CS 173, CS 413, MATH 213, MATH 347, MATH 412, or MATH 413.</courseSectionInformation><sectionDegreeAttributes>Quantitative Reasoning II course.</sectionDegreeAttributes><classScheduleInformation>Students must register for one lecture-discussion and one lecture section.</classScheduleInformation><genEdCategories><category id=\"QR\"><description>Quantitative Reasoning</description><ns2:genEdAttributes><genEdAttribute code=\"1QR2\">Quantitative Reasoning II</genEdAttribute></ns2:genEdAttributes></category></genEdCategories><sections><section href=\"https://courses.illinois.edu/cisapp/explorer/schedule/2023/fall/CS/225/65054.xml\" id=\"65054\">ABA</section><section href=\"https://courses.illinois.edu/cisapp/explorer/schedule/2023/fall/CS/225/61264.xml\" id=\"61264\">ABB</section><section href=\"https://courses.illinois.edu/cisapp/explorer/schedule/2023/fall/CS/225/35926.xml\" id=\"35926\">ABC</section><section href=\"https://courses.illinois.edu/cisapp/explorer/schedule/2023/fall/CS/225/35923.xml\" id=\"35923\">ABD</section><section href=\"https://courses.illinois.edu/cisapp/explorer/schedule/2023/fall/CS/225/35944.xml\" id=\"35944\">ABE</section><section href=\"https://courses.illinois.edu/cisapp/explorer/schedule/2023/fall/CS/225/58757.xml\" id=\"58757\">ABF</section><section href=\"https://courses.illinois.edu/cisapp/explorer/schedule/2023/fall/CS/225/62137.xml\" id=\"62137\">ABG</section><section href=\"https://courses.illinois.edu/cisapp/explorer/schedule/2023/fall/CS/225/58758.xml\" id=\"58758\">ABH</section><section href=\"https://courses.illinois.edu/cisapp/explorer/schedule/2023/fall/CS/225/35947.xml\" id=\"35947\">ABI</section><section href=\"https://courses.illinois.edu/cisapp/explorer/schedule/2023/fall/CS/225/35954.xml\" id=\"35954\">ABJ</section><section href=\"https://courses.illinois.edu/cisapp/explorer/schedule/2023/fall/CS/225/35917.xml\" id=\"35917\">AL1</section><section href=\"https://courses.illinois.edu/cisapp/explorer/schedule/2023/fall/CS/225/72271.xml\" id=\"72271\">AL2</section></sections></ns2:course>\n"
     ]
    }
   ],
   "source": [
    "print(xml_contents_225)"
   ]
  },
  {
   "cell_type": "code",
   "execution_count": 94,
   "id": "73b1d89d",
   "metadata": {},
   "outputs": [
    {
     "name": "stdout",
     "output_type": "stream",
     "text": [
      "[<section href=\"https://courses.illinois.edu/cisapp/explorer/schedule/2023/fall/CS/225/65054.xml\" id=\"65054\">ABA</section>, <section href=\"https://courses.illinois.edu/cisapp/explorer/schedule/2023/fall/CS/225/61264.xml\" id=\"61264\">ABB</section>, <section href=\"https://courses.illinois.edu/cisapp/explorer/schedule/2023/fall/CS/225/35926.xml\" id=\"35926\">ABC</section>, <section href=\"https://courses.illinois.edu/cisapp/explorer/schedule/2023/fall/CS/225/35923.xml\" id=\"35923\">ABD</section>, <section href=\"https://courses.illinois.edu/cisapp/explorer/schedule/2023/fall/CS/225/35944.xml\" id=\"35944\">ABE</section>, <section href=\"https://courses.illinois.edu/cisapp/explorer/schedule/2023/fall/CS/225/58757.xml\" id=\"58757\">ABF</section>, <section href=\"https://courses.illinois.edu/cisapp/explorer/schedule/2023/fall/CS/225/62137.xml\" id=\"62137\">ABG</section>, <section href=\"https://courses.illinois.edu/cisapp/explorer/schedule/2023/fall/CS/225/58758.xml\" id=\"58758\">ABH</section>, <section href=\"https://courses.illinois.edu/cisapp/explorer/schedule/2023/fall/CS/225/35947.xml\" id=\"35947\">ABI</section>, <section href=\"https://courses.illinois.edu/cisapp/explorer/schedule/2023/fall/CS/225/35954.xml\" id=\"35954\">ABJ</section>, <section href=\"https://courses.illinois.edu/cisapp/explorer/schedule/2023/fall/CS/225/35917.xml\" id=\"35917\">AL1</section>, <section href=\"https://courses.illinois.edu/cisapp/explorer/schedule/2023/fall/CS/225/72271.xml\" id=\"72271\">AL2</section>]\n"
     ]
    }
   ],
   "source": [
    "titles = xml_contents_225.find_all('section')\n",
    "print(titles)"
   ]
  },
  {
   "cell_type": "code",
   "execution_count": 111,
   "id": "6e7d59c9",
   "metadata": {},
   "outputs": [
    {
     "name": "stdout",
     "output_type": "stream",
     "text": [
      "['65054', '61264', '35926', '35923', '35944', '58757', '62137', '58758', '35947', '35954', '35917', '72271'] ['ABA', 'ABB', 'ABC', 'ABD', 'ABE', 'ABF', 'ABG', 'ABH', 'ABI', 'ABJ', 'AL1', 'AL2']\n"
     ]
    }
   ],
   "source": [
    "id_list = []\n",
    "section_name = []\n",
    "for section in titles:\n",
    "    id_list.append(section.get('id'))\n",
    "    section_name.append(section.get_text())\n",
    "print(id_list, section_name)"
   ]
  },
  {
   "cell_type": "code",
   "execution_count": 115,
   "id": "627b6d53",
   "metadata": {},
   "outputs": [
    {
     "name": "stdout",
     "output_type": "stream",
     "text": [
      "['09:00 AM', '09:00 AM', '11:00 AM', '11:00 AM', '01:00 PM', '01:00 PM', '03:00 PM', '03:00 PM', '05:00 PM', '05:00 PM', '11:00 AM', '11:00 AM'] ['10:50 AM', '10:50 AM', '12:50 PM', '12:50 PM', '02:50 PM', '02:50 PM', '04:50 PM', '04:50 PM', '06:50 PM', '06:50 PM', '11:50 AM', '11:50 AM'] ['Open', 'Open', 'Closed', 'Closed', 'Open', 'Closed', 'Open', 'Open', 'Closed', 'Open', 'Closed', 'Closed'] ['Laboratory-Discussion', 'Laboratory-Discussion', 'Laboratory-Discussion', 'Laboratory-Discussion', 'Laboratory-Discussion', 'Laboratory-Discussion', 'Laboratory-Discussion', 'Laboratory-Discussion', 'Laboratory-Discussion', 'Laboratory-Discussion', 'Lecture', 'Lecture']\n"
     ]
    }
   ],
   "source": [
    "start_list = []\n",
    "end_list = []\n",
    "open_status = []\n",
    "section_type = []\n",
    "for crn in id_list:\n",
    "    curr_crn = \"https://courses.illinois.edu/cisapp/explorer/schedule/2023/fall/CS/225/{}.xml\".format(crn)\n",
    "    #print(curr_crn)\n",
    "    crn_225 = requests.get(curr_crn)\n",
    "    xml_contents_crn = BeautifulSoup(crn_225.content, 'xml')\n",
    "    #print(xml_contents_crn)\n",
    "    start_list.append((xml_contents_crn.find_all('start'))[0].get_text())\n",
    "    end_list.append((xml_contents_crn.find_all('end'))[0].get_text())\n",
    "    open_status.append((xml_contents_crn.find_all('enrollmentStatus'))[0].get_text())\n",
    "    section_type.append((xml_contents_crn.find_all('type'))[0].get_text())\n",
    "print(start_list, end_list, open_status, section_type) "
   ]
  },
  {
   "cell_type": "code",
   "execution_count": 130,
   "id": "48cff07f",
   "metadata": {},
   "outputs": [
    {
     "name": "stdout",
     "output_type": "stream",
     "text": [
      "Course: CS 225     Section Abbreviation: ABA     Section: Laboratory-Discussion\n",
      "CRN: 65054   09:00 AM - 10:50 AM\n",
      "Status: Open\n",
      "\n",
      "\n",
      "Course: CS 225     Section Abbreviation: ABB     Section: Laboratory-Discussion\n",
      "CRN: 61264   09:00 AM - 10:50 AM\n",
      "Status: Open\n",
      "\n",
      "\n",
      "Course: CS 225     Section Abbreviation: ABC     Section: Laboratory-Discussion\n",
      "CRN: 35926   11:00 AM - 12:50 PM\n",
      "Status: Closed\n",
      "\n",
      "\n",
      "Course: CS 225     Section Abbreviation: ABD     Section: Laboratory-Discussion\n",
      "CRN: 35923   11:00 AM - 12:50 PM\n",
      "Status: Closed\n",
      "\n",
      "\n",
      "Course: CS 225     Section Abbreviation: ABE     Section: Laboratory-Discussion\n",
      "CRN: 35944   01:00 PM - 02:50 PM\n",
      "Status: Open\n",
      "\n",
      "\n",
      "Course: CS 225     Section Abbreviation: ABF     Section: Laboratory-Discussion\n",
      "CRN: 58757   01:00 PM - 02:50 PM\n",
      "Status: Closed\n",
      "\n",
      "\n",
      "Course: CS 225     Section Abbreviation: ABG     Section: Laboratory-Discussion\n",
      "CRN: 62137   03:00 PM - 04:50 PM\n",
      "Status: Open\n",
      "\n",
      "\n",
      "Course: CS 225     Section Abbreviation: ABH     Section: Laboratory-Discussion\n",
      "CRN: 58758   03:00 PM - 04:50 PM\n",
      "Status: Open\n",
      "\n",
      "\n",
      "Course: CS 225     Section Abbreviation: ABI     Section: Laboratory-Discussion\n",
      "CRN: 35947   05:00 PM - 06:50 PM\n",
      "Status: Closed\n",
      "\n",
      "\n",
      "Course: CS 225     Section Abbreviation: ABJ     Section: Laboratory-Discussion\n",
      "CRN: 35954   05:00 PM - 06:50 PM\n",
      "Status: Open\n",
      "\n",
      "\n",
      "Course: CS 225     Section Abbreviation: AL1     Section: Lecture\n",
      "CRN: 35917   11:00 AM - 11:50 AM\n",
      "Status: Closed\n",
      "\n",
      "\n",
      "Course: CS 225     Section Abbreviation: AL2     Section: Lecture\n",
      "CRN: 72271   11:00 AM - 11:50 AM\n",
      "Status: Closed\n",
      "\n",
      "\n",
      "\n"
     ]
    }
   ],
   "source": [
    "string = \"\"\n",
    "for x, i in enumerate(id_list):\n",
    "    string += (\"Course: CS 225     Section Abbreviation: {}     Section: {}\\nCRN: {}   {} - {}\\nStatus: {}\\n\\n\\n\".format(section_name[x], section_type[x], id_list[x], start_list[x], end_list[x], open_status[x]))\n",
    "print(string)"
   ]
  },
  {
   "cell_type": "code",
   "execution_count": 132,
   "id": "d2423117",
   "metadata": {},
   "outputs": [
    {
     "ename": "ConnectionRefusedError",
     "evalue": "[WinError 10061] No connection could be made because the target machine actively refused it",
     "output_type": "error",
     "traceback": [
      "\u001b[1;31m---------------------------------------------------------------------------\u001b[0m",
      "\u001b[1;31mConnectionRefusedError\u001b[0m                    Traceback (most recent call last)",
      "Input \u001b[1;32mIn [132]\u001b[0m, in \u001b[0;36m<cell line: 21>\u001b[1;34m()\u001b[0m\n\u001b[0;32m     17\u001b[0m msg[\u001b[38;5;124m'\u001b[39m\u001b[38;5;124mTo\u001b[39m\u001b[38;5;124m'\u001b[39m] \u001b[38;5;241m=\u001b[39m you\n\u001b[0;32m     19\u001b[0m \u001b[38;5;66;03m# Send the message via our own SMTP server, but don't include the\u001b[39;00m\n\u001b[0;32m     20\u001b[0m \u001b[38;5;66;03m# envelope header.\u001b[39;00m\n\u001b[1;32m---> 21\u001b[0m s \u001b[38;5;241m=\u001b[39m \u001b[43msmtplib\u001b[49m\u001b[38;5;241;43m.\u001b[39;49m\u001b[43mSMTP\u001b[49m\u001b[43m(\u001b[49m\u001b[38;5;124;43m'\u001b[39;49m\u001b[38;5;124;43mlocalhost\u001b[39;49m\u001b[38;5;124;43m'\u001b[39;49m\u001b[43m,\u001b[49m\u001b[43m \u001b[49m\u001b[38;5;241;43m1025\u001b[39;49m\u001b[43m)\u001b[49m\n\u001b[0;32m     22\u001b[0m s\u001b[38;5;241m.\u001b[39msendmail(me, you, msg\u001b[38;5;241m.\u001b[39mas_string())\n\u001b[0;32m     23\u001b[0m s\u001b[38;5;241m.\u001b[39mquit()\n",
      "File \u001b[1;32m~\\anaconda3\\lib\\smtplib.py:255\u001b[0m, in \u001b[0;36mSMTP.__init__\u001b[1;34m(self, host, port, local_hostname, timeout, source_address)\u001b[0m\n\u001b[0;32m    252\u001b[0m \u001b[38;5;28mself\u001b[39m\u001b[38;5;241m.\u001b[39m_auth_challenge_count \u001b[38;5;241m=\u001b[39m \u001b[38;5;241m0\u001b[39m\n\u001b[0;32m    254\u001b[0m \u001b[38;5;28;01mif\u001b[39;00m host:\n\u001b[1;32m--> 255\u001b[0m     (code, msg) \u001b[38;5;241m=\u001b[39m \u001b[38;5;28;43mself\u001b[39;49m\u001b[38;5;241;43m.\u001b[39;49m\u001b[43mconnect\u001b[49m\u001b[43m(\u001b[49m\u001b[43mhost\u001b[49m\u001b[43m,\u001b[49m\u001b[43m \u001b[49m\u001b[43mport\u001b[49m\u001b[43m)\u001b[49m\n\u001b[0;32m    256\u001b[0m     \u001b[38;5;28;01mif\u001b[39;00m code \u001b[38;5;241m!=\u001b[39m \u001b[38;5;241m220\u001b[39m:\n\u001b[0;32m    257\u001b[0m         \u001b[38;5;28mself\u001b[39m\u001b[38;5;241m.\u001b[39mclose()\n",
      "File \u001b[1;32m~\\anaconda3\\lib\\smtplib.py:341\u001b[0m, in \u001b[0;36mSMTP.connect\u001b[1;34m(self, host, port, source_address)\u001b[0m\n\u001b[0;32m    339\u001b[0m     port \u001b[38;5;241m=\u001b[39m \u001b[38;5;28mself\u001b[39m\u001b[38;5;241m.\u001b[39mdefault_port\n\u001b[0;32m    340\u001b[0m sys\u001b[38;5;241m.\u001b[39maudit(\u001b[38;5;124m\"\u001b[39m\u001b[38;5;124msmtplib.connect\u001b[39m\u001b[38;5;124m\"\u001b[39m, \u001b[38;5;28mself\u001b[39m, host, port)\n\u001b[1;32m--> 341\u001b[0m \u001b[38;5;28mself\u001b[39m\u001b[38;5;241m.\u001b[39msock \u001b[38;5;241m=\u001b[39m \u001b[38;5;28;43mself\u001b[39;49m\u001b[38;5;241;43m.\u001b[39;49m\u001b[43m_get_socket\u001b[49m\u001b[43m(\u001b[49m\u001b[43mhost\u001b[49m\u001b[43m,\u001b[49m\u001b[43m \u001b[49m\u001b[43mport\u001b[49m\u001b[43m,\u001b[49m\u001b[43m \u001b[49m\u001b[38;5;28;43mself\u001b[39;49m\u001b[38;5;241;43m.\u001b[39;49m\u001b[43mtimeout\u001b[49m\u001b[43m)\u001b[49m\n\u001b[0;32m    342\u001b[0m \u001b[38;5;28mself\u001b[39m\u001b[38;5;241m.\u001b[39mfile \u001b[38;5;241m=\u001b[39m \u001b[38;5;28;01mNone\u001b[39;00m\n\u001b[0;32m    343\u001b[0m (code, msg) \u001b[38;5;241m=\u001b[39m \u001b[38;5;28mself\u001b[39m\u001b[38;5;241m.\u001b[39mgetreply()\n",
      "File \u001b[1;32m~\\anaconda3\\lib\\smtplib.py:312\u001b[0m, in \u001b[0;36mSMTP._get_socket\u001b[1;34m(self, host, port, timeout)\u001b[0m\n\u001b[0;32m    310\u001b[0m \u001b[38;5;28;01mif\u001b[39;00m \u001b[38;5;28mself\u001b[39m\u001b[38;5;241m.\u001b[39mdebuglevel \u001b[38;5;241m>\u001b[39m \u001b[38;5;241m0\u001b[39m:\n\u001b[0;32m    311\u001b[0m     \u001b[38;5;28mself\u001b[39m\u001b[38;5;241m.\u001b[39m_print_debug(\u001b[38;5;124m'\u001b[39m\u001b[38;5;124mconnect: to\u001b[39m\u001b[38;5;124m'\u001b[39m, (host, port), \u001b[38;5;28mself\u001b[39m\u001b[38;5;241m.\u001b[39msource_address)\n\u001b[1;32m--> 312\u001b[0m \u001b[38;5;28;01mreturn\u001b[39;00m \u001b[43msocket\u001b[49m\u001b[38;5;241;43m.\u001b[39;49m\u001b[43mcreate_connection\u001b[49m\u001b[43m(\u001b[49m\u001b[43m(\u001b[49m\u001b[43mhost\u001b[49m\u001b[43m,\u001b[49m\u001b[43m \u001b[49m\u001b[43mport\u001b[49m\u001b[43m)\u001b[49m\u001b[43m,\u001b[49m\u001b[43m \u001b[49m\u001b[43mtimeout\u001b[49m\u001b[43m,\u001b[49m\n\u001b[0;32m    313\u001b[0m \u001b[43m                                \u001b[49m\u001b[38;5;28;43mself\u001b[39;49m\u001b[38;5;241;43m.\u001b[39;49m\u001b[43msource_address\u001b[49m\u001b[43m)\u001b[49m\n",
      "File \u001b[1;32m~\\anaconda3\\lib\\socket.py:844\u001b[0m, in \u001b[0;36mcreate_connection\u001b[1;34m(address, timeout, source_address)\u001b[0m\n\u001b[0;32m    842\u001b[0m \u001b[38;5;28;01mif\u001b[39;00m err \u001b[38;5;129;01mis\u001b[39;00m \u001b[38;5;129;01mnot\u001b[39;00m \u001b[38;5;28;01mNone\u001b[39;00m:\n\u001b[0;32m    843\u001b[0m     \u001b[38;5;28;01mtry\u001b[39;00m:\n\u001b[1;32m--> 844\u001b[0m         \u001b[38;5;28;01mraise\u001b[39;00m err\n\u001b[0;32m    845\u001b[0m     \u001b[38;5;28;01mfinally\u001b[39;00m:\n\u001b[0;32m    846\u001b[0m         \u001b[38;5;66;03m# Break explicitly a reference cycle\u001b[39;00m\n\u001b[0;32m    847\u001b[0m         err \u001b[38;5;241m=\u001b[39m \u001b[38;5;28;01mNone\u001b[39;00m\n",
      "File \u001b[1;32m~\\anaconda3\\lib\\socket.py:832\u001b[0m, in \u001b[0;36mcreate_connection\u001b[1;34m(address, timeout, source_address)\u001b[0m\n\u001b[0;32m    830\u001b[0m \u001b[38;5;28;01mif\u001b[39;00m source_address:\n\u001b[0;32m    831\u001b[0m     sock\u001b[38;5;241m.\u001b[39mbind(source_address)\n\u001b[1;32m--> 832\u001b[0m \u001b[43msock\u001b[49m\u001b[38;5;241;43m.\u001b[39;49m\u001b[43mconnect\u001b[49m\u001b[43m(\u001b[49m\u001b[43msa\u001b[49m\u001b[43m)\u001b[49m\n\u001b[0;32m    833\u001b[0m \u001b[38;5;66;03m# Break explicitly a reference cycle\u001b[39;00m\n\u001b[0;32m    834\u001b[0m err \u001b[38;5;241m=\u001b[39m \u001b[38;5;28;01mNone\u001b[39;00m\n",
      "\u001b[1;31mConnectionRefusedError\u001b[0m: [WinError 10061] No connection could be made because the target machine actively refused it"
     ]
    }
   ],
   "source": [
    "import yagmail\n",
    "\n",
    "# Import the email modules we'll need\n",
    "from email.mime.text import MIMEText\n",
    "\n",
    "# Open a plain text file for reading.  For this example, assume that\n",
    "# the text file contains only ASCII characters.\n",
    "\n",
    "# me == the sender's email address\n",
    "# you == the recipient's email address\n",
    "me = you = 'saipranavvk@gmail.com'\n",
    "\n",
    "msg = MIMEText(string)\n",
    "\n",
    "msg['Subject'] = 'CS 225 Status'\n",
    "msg['From'] = me\n",
    "msg['To'] = you\n",
    "\n",
    "# Send the message via our own SMTP server, but don't include the\n",
    "# envelope header.\n",
    "  \n",
    "# initiating connection with SMTP server\n",
    "yag = yagmail.SMTP(\"Sender's Email Address\",\n",
    "                   \"Sender's Email Address Password\")\n",
    "# Adding Content and sending it\n",
    "yag.send(\"Receiver's Email Address\", \n",
    "         \"Subject of Email to be send\",\n",
    "         \"Content(Text,Media, etc. files) of Email to be send\")"
   ]
  },
  {
   "cell_type": "code",
   "execution_count": null,
   "id": "c9cc05c1",
   "metadata": {},
   "outputs": [],
   "source": []
  }
 ],
 "metadata": {
  "kernelspec": {
   "display_name": "Python 3 (ipykernel)",
   "language": "python",
   "name": "python3"
  },
  "language_info": {
   "codemirror_mode": {
    "name": "ipython",
    "version": 3
   },
   "file_extension": ".py",
   "mimetype": "text/x-python",
   "name": "python",
   "nbconvert_exporter": "python",
   "pygments_lexer": "ipython3",
   "version": "3.9.12"
  }
 },
 "nbformat": 4,
 "nbformat_minor": 5
}
