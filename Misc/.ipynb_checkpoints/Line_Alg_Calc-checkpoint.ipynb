{
 "cells": [
  {
   "cell_type": "code",
   "execution_count": 7,
   "id": "ac8530b0",
   "metadata": {},
   "outputs": [],
   "source": [
    "from sympy import Matrix, fraction\n",
    "\n",
    "def inverse_matrix(matrix):\n",
    "    m = Matrix(matrix)\n",
    "    try:\n",
    "        inv_matrix = m.inv()\n",
    "        print(\"Steps to compute the inverse of the matrix:\")\n",
    "        for index, row in enumerate(inv_matrix.tolist()):\n",
    "            print(f\"\\nStep {index + 1}: \")\n",
    "            print(f\"{m} * [{'  '.join(str(fraction(x)) for x in row)}] = [1  0  ...  0]\")\n",
    "        return [list(map(fraction, row)) for row in inv_matrix.tolist()]\n",
    "    except ValueError:\n",
    "        return \"The given matrix does not have an inverse.\""
   ]
  },
  {
   "cell_type": "code",
   "execution_count": 8,
   "id": "6ac7866f",
   "metadata": {},
   "outputs": [
    {
     "name": "stdout",
     "output_type": "stream",
     "text": [
      "Steps to compute the inverse of the matrix:\n",
      "\n",
      "Step 1: \n",
      "Matrix([[-2, 1, -1, 0], [-1, 2, -1, 1], [-1, -2, 1, 2], [0, 0, 2, 2]]) * [(-2, 3)  (1, 3)  (0, 1)  (-1, 6)] = [1  0  ...  0]\n",
      "\n",
      "Step 2: \n",
      "Matrix([[-2, 1, -1, 0], [-1, 2, -1, 1], [-1, -2, 1, 2], [0, 0, 2, 2]]) * [(1, 9)  (1, 9)  (-1, 3)  (5, 18)] = [1  0  ...  0]\n",
      "\n",
      "Step 3: \n",
      "Matrix([[-2, 1, -1, 0], [-1, 2, -1, 1], [-1, -2, 1, 2], [0, 0, 2, 2]]) * [(4, 9)  (-5, 9)  (-1, 3)  (11, 18)] = [1  0  ...  0]\n",
      "\n",
      "Step 4: \n",
      "Matrix([[-2, 1, -1, 0], [-1, 2, -1, 1], [-1, -2, 1, 2], [0, 0, 2, 2]]) * [(-4, 9)  (5, 9)  (1, 3)  (-1, 9)] = [1  0  ...  0]\n"
     ]
    },
    {
     "data": {
      "text/plain": [
       "[[(-2, 3), (1, 3), (0, 1), (-1, 6)],\n",
       " [(1, 9), (1, 9), (-1, 3), (5, 18)],\n",
       " [(4, 9), (-5, 9), (-1, 3), (11, 18)],\n",
       " [(-4, 9), (5, 9), (1, 3), (-1, 9)]]"
      ]
     },
     "execution_count": 8,
     "metadata": {},
     "output_type": "execute_result"
    }
   ],
   "source": [
    "inverse_matrix([[-2,1,-1,0],[-1,2,-1,1],[-1,-2,1,2],[0,0,2,2]])"
   ]
  },
  {
   "cell_type": "code",
   "execution_count": 13,
   "id": "c456c370",
   "metadata": {},
   "outputs": [
    {
     "name": "stdout",
     "output_type": "stream",
     "text": [
      "The solution for matrix X:\n",
      "[[ 1.  6.]\n",
      " [ 5. -3.]]\n"
     ]
    }
   ],
   "source": [
    "import numpy as np\n",
    "\n",
    "def solve_matrix_equation(A, B, C):\n",
    "    A = np.array(A)\n",
    "    B = np.array(B)\n",
    "    C = np.array(C)\n",
    "    \n",
    "    X = np.matmul(np.matmul(np.linalg.inv(B),C),np.linalg.inv(A)) - 3*np.linalg.inv(A) - 2*np.linalg.inv(B)\n",
    "    \n",
    "    print(\"The solution for matrix X:\")\n",
    "    print(X)\n",
    "A = [[-1, -1], [-1, 0]]\n",
    "B = [[-1, 0], [-1, 1]]\n",
    "C = [[2, -1], [0, -1]]\n",
    "solve_matrix_equation(A, B, C)\n"
   ]
  },
  {
   "cell_type": "code",
   "execution_count": 1,
   "id": "4f578ee1",
   "metadata": {},
   "outputs": [
    {
     "ename": "ModuleNotFoundError",
     "evalue": "No module named 'pygame'",
     "output_type": "error",
     "traceback": [
      "\u001b[1;31m---------------------------------------------------------------------------\u001b[0m",
      "\u001b[1;31mModuleNotFoundError\u001b[0m                       Traceback (most recent call last)",
      "Input \u001b[1;32mIn [1]\u001b[0m, in \u001b[0;36m<cell line: 1>\u001b[1;34m()\u001b[0m\n\u001b[1;32m----> 1\u001b[0m \u001b[38;5;28;01mimport\u001b[39;00m \u001b[38;5;21;01mpygame\u001b[39;00m\n\u001b[0;32m      2\u001b[0m \u001b[38;5;28;01mimport\u001b[39;00m \u001b[38;5;21;01mrandom\u001b[39;00m\n\u001b[0;32m      4\u001b[0m \u001b[38;5;66;03m# Initialize Pygame\u001b[39;00m\n",
      "\u001b[1;31mModuleNotFoundError\u001b[0m: No module named 'pygame'"
     ]
    }
   ],
   "source": [
    "import pygame\n",
    "import random\n",
    "\n",
    "# Initialize Pygame\n",
    "pygame.init()\n",
    "\n",
    "# Set up the display\n",
    "width = 500\n",
    "height = 700\n",
    "screen = pygame.display.set_mode((width, height))\n",
    "\n",
    "# Define the colors\n",
    "black = (0, 0, 0)\n",
    "white = (255, 255, 255)\n",
    "red = (255, 0, 0)\n",
    "green = (0, 255, 0)\n",
    "blue = (0, 0, 255)\n",
    "\n",
    "# Set up the clock\n",
    "clock = pygame.time.Clock()\n",
    "\n",
    "# Set up the tetromino shapes\n",
    "tetrominoes = [\n",
    "    [[1, 1, 1, 1]],\n",
    "\n",
    "    [[2, 0],\n",
    "     [2, 2],\n",
    "     [2, 0]],\n",
    "\n",
    "    [[0, 3, 0],\n",
    "     [3, 3, 3]],\n",
    "\n",
    "    [[4, 4, 0],\n",
    "     [0, 4, 4]],\n",
    "\n",
    "    [[0, 5, 5],\n",
    "     [5, 5, 0]],\n",
    "\n",
    "    [[6, 6, 6],\n",
    "     [0, 0, 6]],\n",
    "\n",
    "    [[7, 7],\n",
    "     [7, 7]]\n",
    "]\n",
    "\n",
    "# Choose a random tetromino and set its starting position\n",
    "current_tetromino = random.choice(tetrominoes)\n",
    "current_position = [0, int(width / 2 - len(current_tetromino[0]) / 2)]\n",
    "\n",
    "# Game loop\n",
    "running = True\n",
    "while running:\n",
    "    for event in pygame.event.get():\n",
    "        if event.type == pygame.QUIT:\n",
    "            running = False\n",
    "\n",
    "    # Clear the screen\n",
    "    screen.fill(black)\n",
    "\n",
    "    # Draw the tetromino\n",
    "    for y, row in enumerate(current_tetromino):\n",
    "        for x, cell in enumerate(row):\n",
    "            if cell:\n",
    "                pygame.draw.rect(screen, [red, green, blue, white][cell - 1], (current_position[0] + x, current_position[1] + y, 30, 30), 0)\n",
    "\n",
    "    # Move the tetromino down\n",
    "    current_position[1] += 30\n",
    "\n",
    "    # Update the display\n",
    "    pygame.display.update()\n",
    "\n",
    "    # Keep the game running at 60 FPS\n",
    "    clock.tick(60)\n",
    "\n",
    "# Quit Pygame\n",
    "pygame.quit()\n"
   ]
  },
  {
   "cell_type": "code",
   "execution_count": null,
   "id": "78c53dff",
   "metadata": {},
   "outputs": [],
   "source": []
  },
  {
   "cell_type": "code",
   "execution_count": null,
   "id": "84ff5c45",
   "metadata": {},
   "outputs": [],
   "source": []
  },
  {
   "cell_type": "code",
   "execution_count": null,
   "id": "7bda7038",
   "metadata": {},
   "outputs": [],
   "source": []
  }
 ],
 "metadata": {
  "kernelspec": {
   "display_name": "Python 3 (ipykernel)",
   "language": "python",
   "name": "python3"
  },
  "language_info": {
   "codemirror_mode": {
    "name": "ipython",
    "version": 3
   },
   "file_extension": ".py",
   "mimetype": "text/x-python",
   "name": "python",
   "nbconvert_exporter": "python",
   "pygments_lexer": "ipython3",
   "version": "3.9.12"
  }
 },
 "nbformat": 4,
 "nbformat_minor": 5
}
